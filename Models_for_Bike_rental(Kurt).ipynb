{
  "nbformat": 4,
  "nbformat_minor": 0,
  "metadata": {
    "colab": {
      "provenance": [],
      "collapsed_sections": [
        "CAyXZJsbIKii",
        "a1IQGbfhSnza",
        "u2wg9LNPixDq",
        "L5BWpgYZq7RA",
        "qaTR2Cp7rsG7",
        "csKDZLSUrsG8",
        "eggrZVn8rsG8",
        "KZdaAfjBrsG8",
        "LoNaDaKSihVM",
        "GPTQpcMP7HO4",
        "lpdF-fiL8P4_",
        "-_95NeYrihaY",
        "-QAlATU6thQr"
      ]
    },
    "kernelspec": {
      "name": "python3",
      "display_name": "Python 3"
    },
    "language_info": {
      "name": "python"
    }
  },
  "cells": [
    {
      "cell_type": "markdown",
      "source": [
        "This summarizes the process and findings of building different models on the bike rental data"
      ],
      "metadata": {
        "id": "VDyEOGK6k1Ku"
      }
    },
    {
      "cell_type": "markdown",
      "source": [
        "## **Data**"
      ],
      "metadata": {
        "id": "nCTzy18aB5yo"
      }
    },
    {
      "cell_type": "markdown",
      "source": [
        "- **Date**: \n",
        "- **Bike**: Response variable, bike rental count\n",
        "- **Hour**: Hour of the day, from 0 to 23\n",
        "- **Temperature**: \n",
        "- **Humidity**: \n",
        "- **Wind_Speed**: \n",
        "- **Visibility**: \n",
        "- **Dew_point_temperature**: A quantity calculated from temperature and humidity\n",
        "- **Solar_Radiation**: \n",
        "- **Rainfall**: \n",
        "- **Snowfall**: \n",
        "- **Holiday**: \n",
        "- **Functioning_Day**: \n",
        "- **Weekday**: A custom variable to indicate day of the week"
      ],
      "metadata": {
        "id": "TwMHORoWB_Ta"
      }
    },
    {
      "cell_type": "markdown",
      "source": [
        "### **Data Inspection**\n",
        "1. ***Dew_point_temperature*** is calculated directly from temperature and humidity, i.e. $T_{dp} \\approx T - \\frac{100 - RH}{5}$. Should watch for strong collinearity. Dew point temperature, temperature, and humidity are related meteorological variables that describe the state of the atmosphere in terms of moisture content.\n"
      ],
      "metadata": {
        "id": "sHrlEzd3B_Vz"
      }
    },
    {
      "cell_type": "markdown",
      "source": [
        "## **Inspection and Cleaning**"
      ],
      "metadata": {
        "id": "ojO-Bu9nk2Lb"
      }
    },
    {
      "cell_type": "code",
      "source": [
        "# Import the necessary libraries\n",
        "from google.colab import drive\n",
        "import pandas as pd\n",
        "\n",
        "# Mount Google Drive to access the CSV file\n",
        "drive.mount('/content/drive')\n",
        "\n",
        "# Set the path to the CSV file in Google Drive, please change it to local file address if you run it locally\n",
        "file_path = '/content/drive/MyDrive/Group4BikeDataAutumn_Revised.csv'\n",
        "\n",
        "# Load the CSV file into a Pandas DataFrame\n",
        "df = pd.read_csv(file_path)\n",
        "\n",
        "# Display the first five rows of the DataFrame\n",
        "df.head()"
      ],
      "metadata": {
        "id": "SiAdSRLmXHyz",
        "colab": {
          "base_uri": "https://localhost:8080/",
          "height": 224
        },
        "outputId": "5def39b2-1f3d-4307-e615-8a5ef145f79b"
      },
      "execution_count": 1,
      "outputs": [
        {
          "output_type": "stream",
          "name": "stdout",
          "text": [
            "Mounted at /content/drive\n"
          ]
        },
        {
          "output_type": "execute_result",
          "data": {
            "text/plain": [
              "       Date  Bike  Hour  Temperature  Humidity  Wind_Speed  Visibility  \\\n",
              "0  9/1/2018  1892    18         28.8        46         1.3        2000   \n",
              "1  9/1/2018  1891    19         27.8        48         1.1        2000   \n",
              "2  9/1/2018  1845    17         29.6        42         1.3        2000   \n",
              "3  9/1/2018  1678    16         30.5        41         1.4        1930   \n",
              "4  9/1/2018  1523    23         24.4        54         1.6        2000   \n",
              "\n",
              "   Dew_point_temperature  Solar_Radiation  Rainfall  Snowfall     Holiday  \\\n",
              "0                   16.0             0.58       0.0       0.0  No Holiday   \n",
              "1                   15.7             0.08       0.0       0.0  No Holiday   \n",
              "2                   15.3             0.98       0.0       0.0  No Holiday   \n",
              "3                   15.7             1.95       0.0       0.0  No Holiday   \n",
              "4                   14.4             0.00       0.0       0.0  No Holiday   \n",
              "\n",
              "  Functioning_Day   Weekday  \n",
              "0             Yes  Saturday  \n",
              "1             Yes  Saturday  \n",
              "2             Yes  Saturday  \n",
              "3             Yes  Saturday  \n",
              "4             Yes  Saturday  "
            ],
            "text/html": [
              "\n",
              "  <div id=\"df-b01fa91d-85b1-4489-b79c-666cf8f1f56d\">\n",
              "    <div class=\"colab-df-container\">\n",
              "      <div>\n",
              "<style scoped>\n",
              "    .dataframe tbody tr th:only-of-type {\n",
              "        vertical-align: middle;\n",
              "    }\n",
              "\n",
              "    .dataframe tbody tr th {\n",
              "        vertical-align: top;\n",
              "    }\n",
              "\n",
              "    .dataframe thead th {\n",
              "        text-align: right;\n",
              "    }\n",
              "</style>\n",
              "<table border=\"1\" class=\"dataframe\">\n",
              "  <thead>\n",
              "    <tr style=\"text-align: right;\">\n",
              "      <th></th>\n",
              "      <th>Date</th>\n",
              "      <th>Bike</th>\n",
              "      <th>Hour</th>\n",
              "      <th>Temperature</th>\n",
              "      <th>Humidity</th>\n",
              "      <th>Wind_Speed</th>\n",
              "      <th>Visibility</th>\n",
              "      <th>Dew_point_temperature</th>\n",
              "      <th>Solar_Radiation</th>\n",
              "      <th>Rainfall</th>\n",
              "      <th>Snowfall</th>\n",
              "      <th>Holiday</th>\n",
              "      <th>Functioning_Day</th>\n",
              "      <th>Weekday</th>\n",
              "    </tr>\n",
              "  </thead>\n",
              "  <tbody>\n",
              "    <tr>\n",
              "      <th>0</th>\n",
              "      <td>9/1/2018</td>\n",
              "      <td>1892</td>\n",
              "      <td>18</td>\n",
              "      <td>28.8</td>\n",
              "      <td>46</td>\n",
              "      <td>1.3</td>\n",
              "      <td>2000</td>\n",
              "      <td>16.0</td>\n",
              "      <td>0.58</td>\n",
              "      <td>0.0</td>\n",
              "      <td>0.0</td>\n",
              "      <td>No Holiday</td>\n",
              "      <td>Yes</td>\n",
              "      <td>Saturday</td>\n",
              "    </tr>\n",
              "    <tr>\n",
              "      <th>1</th>\n",
              "      <td>9/1/2018</td>\n",
              "      <td>1891</td>\n",
              "      <td>19</td>\n",
              "      <td>27.8</td>\n",
              "      <td>48</td>\n",
              "      <td>1.1</td>\n",
              "      <td>2000</td>\n",
              "      <td>15.7</td>\n",
              "      <td>0.08</td>\n",
              "      <td>0.0</td>\n",
              "      <td>0.0</td>\n",
              "      <td>No Holiday</td>\n",
              "      <td>Yes</td>\n",
              "      <td>Saturday</td>\n",
              "    </tr>\n",
              "    <tr>\n",
              "      <th>2</th>\n",
              "      <td>9/1/2018</td>\n",
              "      <td>1845</td>\n",
              "      <td>17</td>\n",
              "      <td>29.6</td>\n",
              "      <td>42</td>\n",
              "      <td>1.3</td>\n",
              "      <td>2000</td>\n",
              "      <td>15.3</td>\n",
              "      <td>0.98</td>\n",
              "      <td>0.0</td>\n",
              "      <td>0.0</td>\n",
              "      <td>No Holiday</td>\n",
              "      <td>Yes</td>\n",
              "      <td>Saturday</td>\n",
              "    </tr>\n",
              "    <tr>\n",
              "      <th>3</th>\n",
              "      <td>9/1/2018</td>\n",
              "      <td>1678</td>\n",
              "      <td>16</td>\n",
              "      <td>30.5</td>\n",
              "      <td>41</td>\n",
              "      <td>1.4</td>\n",
              "      <td>1930</td>\n",
              "      <td>15.7</td>\n",
              "      <td>1.95</td>\n",
              "      <td>0.0</td>\n",
              "      <td>0.0</td>\n",
              "      <td>No Holiday</td>\n",
              "      <td>Yes</td>\n",
              "      <td>Saturday</td>\n",
              "    </tr>\n",
              "    <tr>\n",
              "      <th>4</th>\n",
              "      <td>9/1/2018</td>\n",
              "      <td>1523</td>\n",
              "      <td>23</td>\n",
              "      <td>24.4</td>\n",
              "      <td>54</td>\n",
              "      <td>1.6</td>\n",
              "      <td>2000</td>\n",
              "      <td>14.4</td>\n",
              "      <td>0.00</td>\n",
              "      <td>0.0</td>\n",
              "      <td>0.0</td>\n",
              "      <td>No Holiday</td>\n",
              "      <td>Yes</td>\n",
              "      <td>Saturday</td>\n",
              "    </tr>\n",
              "  </tbody>\n",
              "</table>\n",
              "</div>\n",
              "      <button class=\"colab-df-convert\" onclick=\"convertToInteractive('df-b01fa91d-85b1-4489-b79c-666cf8f1f56d')\"\n",
              "              title=\"Convert this dataframe to an interactive table.\"\n",
              "              style=\"display:none;\">\n",
              "        \n",
              "  <svg xmlns=\"http://www.w3.org/2000/svg\" height=\"24px\"viewBox=\"0 0 24 24\"\n",
              "       width=\"24px\">\n",
              "    <path d=\"M0 0h24v24H0V0z\" fill=\"none\"/>\n",
              "    <path d=\"M18.56 5.44l.94 2.06.94-2.06 2.06-.94-2.06-.94-.94-2.06-.94 2.06-2.06.94zm-11 1L8.5 8.5l.94-2.06 2.06-.94-2.06-.94L8.5 2.5l-.94 2.06-2.06.94zm10 10l.94 2.06.94-2.06 2.06-.94-2.06-.94-.94-2.06-.94 2.06-2.06.94z\"/><path d=\"M17.41 7.96l-1.37-1.37c-.4-.4-.92-.59-1.43-.59-.52 0-1.04.2-1.43.59L10.3 9.45l-7.72 7.72c-.78.78-.78 2.05 0 2.83L4 21.41c.39.39.9.59 1.41.59.51 0 1.02-.2 1.41-.59l7.78-7.78 2.81-2.81c.8-.78.8-2.07 0-2.86zM5.41 20L4 18.59l7.72-7.72 1.47 1.35L5.41 20z\"/>\n",
              "  </svg>\n",
              "      </button>\n",
              "      \n",
              "  <style>\n",
              "    .colab-df-container {\n",
              "      display:flex;\n",
              "      flex-wrap:wrap;\n",
              "      gap: 12px;\n",
              "    }\n",
              "\n",
              "    .colab-df-convert {\n",
              "      background-color: #E8F0FE;\n",
              "      border: none;\n",
              "      border-radius: 50%;\n",
              "      cursor: pointer;\n",
              "      display: none;\n",
              "      fill: #1967D2;\n",
              "      height: 32px;\n",
              "      padding: 0 0 0 0;\n",
              "      width: 32px;\n",
              "    }\n",
              "\n",
              "    .colab-df-convert:hover {\n",
              "      background-color: #E2EBFA;\n",
              "      box-shadow: 0px 1px 2px rgba(60, 64, 67, 0.3), 0px 1px 3px 1px rgba(60, 64, 67, 0.15);\n",
              "      fill: #174EA6;\n",
              "    }\n",
              "\n",
              "    [theme=dark] .colab-df-convert {\n",
              "      background-color: #3B4455;\n",
              "      fill: #D2E3FC;\n",
              "    }\n",
              "\n",
              "    [theme=dark] .colab-df-convert:hover {\n",
              "      background-color: #434B5C;\n",
              "      box-shadow: 0px 1px 3px 1px rgba(0, 0, 0, 0.15);\n",
              "      filter: drop-shadow(0px 1px 2px rgba(0, 0, 0, 0.3));\n",
              "      fill: #FFFFFF;\n",
              "    }\n",
              "  </style>\n",
              "\n",
              "      <script>\n",
              "        const buttonEl =\n",
              "          document.querySelector('#df-b01fa91d-85b1-4489-b79c-666cf8f1f56d button.colab-df-convert');\n",
              "        buttonEl.style.display =\n",
              "          google.colab.kernel.accessAllowed ? 'block' : 'none';\n",
              "\n",
              "        async function convertToInteractive(key) {\n",
              "          const element = document.querySelector('#df-b01fa91d-85b1-4489-b79c-666cf8f1f56d');\n",
              "          const dataTable =\n",
              "            await google.colab.kernel.invokeFunction('convertToInteractive',\n",
              "                                                     [key], {});\n",
              "          if (!dataTable) return;\n",
              "\n",
              "          const docLinkHtml = 'Like what you see? Visit the ' +\n",
              "            '<a target=\"_blank\" href=https://colab.research.google.com/notebooks/data_table.ipynb>data table notebook</a>'\n",
              "            + ' to learn more about interactive tables.';\n",
              "          element.innerHTML = '';\n",
              "          dataTable['output_type'] = 'display_data';\n",
              "          await google.colab.output.renderOutput(dataTable, element);\n",
              "          const docLink = document.createElement('div');\n",
              "          docLink.innerHTML = docLinkHtml;\n",
              "          element.appendChild(docLink);\n",
              "        }\n",
              "      </script>\n",
              "    </div>\n",
              "  </div>\n",
              "  "
            ]
          },
          "metadata": {},
          "execution_count": 1
        }
      ]
    },
    {
      "cell_type": "code",
      "source": [
        "# Length of data is 1937\n",
        "len(df)"
      ],
      "metadata": {
        "colab": {
          "base_uri": "https://localhost:8080/"
        },
        "id": "F3Fc_p41i6aT",
        "outputId": "ea5baee1-db72-45f1-fb35-d79a5ed93ae2"
      },
      "execution_count": null,
      "outputs": [
        {
          "output_type": "execute_result",
          "data": {
            "text/plain": [
              "1937"
            ]
          },
          "metadata": {},
          "execution_count": 3
        }
      ]
    },
    {
      "cell_type": "code",
      "source": [
        "# No data where Y=0\n",
        "sum(df['Bike'] == 0)"
      ],
      "metadata": {
        "colab": {
          "base_uri": "https://localhost:8080/"
        },
        "id": "Cgo1BG2gklD_",
        "outputId": "630bf4fa-7adb-4da5-82a5-d615954c48e5"
      },
      "execution_count": null,
      "outputs": [
        {
          "output_type": "execute_result",
          "data": {
            "text/plain": [
              "0"
            ]
          },
          "metadata": {},
          "execution_count": 4
        }
      ]
    },
    {
      "cell_type": "markdown",
      "source": [
        "### **Observations**"
      ],
      "metadata": {
        "id": "o28NO-5LHKz-"
      }
    },
    {
      "cell_type": "code",
      "source": [
        "# Looking at the descriptive statistics of the data\n",
        "df.describe(include='all')"
      ],
      "metadata": {
        "colab": {
          "base_uri": "https://localhost:8080/",
          "height": 475
        },
        "id": "8laTLKWXFvi8",
        "outputId": "11f9d78a-0130-4203-ff37-3db3d8c7b730"
      },
      "execution_count": null,
      "outputs": [
        {
          "output_type": "execute_result",
          "data": {
            "text/plain": [
              "            Date         Bike         Hour  Temperature     Humidity  \\\n",
              "count       1937  1937.000000  1937.000000  1937.000000  1937.000000   \n",
              "unique        81          NaN          NaN          NaN          NaN   \n",
              "top     9/1/2018          NaN          NaN          NaN          NaN   \n",
              "freq          24          NaN          NaN          NaN          NaN   \n",
              "mean         NaN   924.110480    11.530718    13.821683    59.044915   \n",
              "std          NaN   617.547879     6.916504     7.244204    19.058618   \n",
              "min          NaN     2.000000     0.000000    -3.000000    13.000000   \n",
              "25%          NaN   427.000000     6.000000     7.900000    44.000000   \n",
              "50%          NaN   856.000000    12.000000    13.300000    59.000000   \n",
              "75%          NaN  1271.000000    18.000000    19.800000    74.000000   \n",
              "max          NaN  3298.000000    23.000000    30.500000    97.000000   \n",
              "\n",
              "         Wind_Speed   Visibility  Dew_point_temperature  Solar_Radiation  \\\n",
              "count   1937.000000  1937.000000            1937.000000      1937.000000   \n",
              "unique          NaN          NaN                    NaN              NaN   \n",
              "top             NaN          NaN                    NaN              NaN   \n",
              "freq            NaN          NaN                    NaN              NaN   \n",
              "mean       1.492101  1558.174497               5.150594         0.522783   \n",
              "std        0.916309   565.765000               8.111224         0.803732   \n",
              "min        0.000000    33.000000             -19.000000         0.000000   \n",
              "25%        0.900000  1177.000000               0.100000         0.000000   \n",
              "50%        1.300000  1901.000000               4.800000         0.000000   \n",
              "75%        2.000000  2000.000000              10.600000         0.890000   \n",
              "max        5.700000  2000.000000              23.900000         3.120000   \n",
              "\n",
              "           Rainfall     Snowfall     Holiday Functioning_Day Weekday  \n",
              "count   1937.000000  1937.000000        1937            1937    1937  \n",
              "unique          NaN          NaN           2               1       7  \n",
              "top             NaN          NaN  No Holiday             Yes  Monday  \n",
              "freq            NaN          NaN        1841            1937     312  \n",
              "mean       0.117656     0.063500         NaN             NaN     NaN  \n",
              "std        0.889771     0.521743         NaN             NaN     NaN  \n",
              "min        0.000000     0.000000         NaN             NaN     NaN  \n",
              "25%        0.000000     0.000000         NaN             NaN     NaN  \n",
              "50%        0.000000     0.000000         NaN             NaN     NaN  \n",
              "75%        0.000000     0.000000         NaN             NaN     NaN  \n",
              "max       18.000000     8.800000         NaN             NaN     NaN  "
            ],
            "text/html": [
              "\n",
              "  <div id=\"df-e5b46ef0-bd78-4cef-bbad-d91dac1a5714\">\n",
              "    <div class=\"colab-df-container\">\n",
              "      <div>\n",
              "<style scoped>\n",
              "    .dataframe tbody tr th:only-of-type {\n",
              "        vertical-align: middle;\n",
              "    }\n",
              "\n",
              "    .dataframe tbody tr th {\n",
              "        vertical-align: top;\n",
              "    }\n",
              "\n",
              "    .dataframe thead th {\n",
              "        text-align: right;\n",
              "    }\n",
              "</style>\n",
              "<table border=\"1\" class=\"dataframe\">\n",
              "  <thead>\n",
              "    <tr style=\"text-align: right;\">\n",
              "      <th></th>\n",
              "      <th>Date</th>\n",
              "      <th>Bike</th>\n",
              "      <th>Hour</th>\n",
              "      <th>Temperature</th>\n",
              "      <th>Humidity</th>\n",
              "      <th>Wind_Speed</th>\n",
              "      <th>Visibility</th>\n",
              "      <th>Dew_point_temperature</th>\n",
              "      <th>Solar_Radiation</th>\n",
              "      <th>Rainfall</th>\n",
              "      <th>Snowfall</th>\n",
              "      <th>Holiday</th>\n",
              "      <th>Functioning_Day</th>\n",
              "      <th>Weekday</th>\n",
              "    </tr>\n",
              "  </thead>\n",
              "  <tbody>\n",
              "    <tr>\n",
              "      <th>count</th>\n",
              "      <td>1937</td>\n",
              "      <td>1937.000000</td>\n",
              "      <td>1937.000000</td>\n",
              "      <td>1937.000000</td>\n",
              "      <td>1937.000000</td>\n",
              "      <td>1937.000000</td>\n",
              "      <td>1937.000000</td>\n",
              "      <td>1937.000000</td>\n",
              "      <td>1937.000000</td>\n",
              "      <td>1937.000000</td>\n",
              "      <td>1937.000000</td>\n",
              "      <td>1937</td>\n",
              "      <td>1937</td>\n",
              "      <td>1937</td>\n",
              "    </tr>\n",
              "    <tr>\n",
              "      <th>unique</th>\n",
              "      <td>81</td>\n",
              "      <td>NaN</td>\n",
              "      <td>NaN</td>\n",
              "      <td>NaN</td>\n",
              "      <td>NaN</td>\n",
              "      <td>NaN</td>\n",
              "      <td>NaN</td>\n",
              "      <td>NaN</td>\n",
              "      <td>NaN</td>\n",
              "      <td>NaN</td>\n",
              "      <td>NaN</td>\n",
              "      <td>2</td>\n",
              "      <td>1</td>\n",
              "      <td>7</td>\n",
              "    </tr>\n",
              "    <tr>\n",
              "      <th>top</th>\n",
              "      <td>9/1/2018</td>\n",
              "      <td>NaN</td>\n",
              "      <td>NaN</td>\n",
              "      <td>NaN</td>\n",
              "      <td>NaN</td>\n",
              "      <td>NaN</td>\n",
              "      <td>NaN</td>\n",
              "      <td>NaN</td>\n",
              "      <td>NaN</td>\n",
              "      <td>NaN</td>\n",
              "      <td>NaN</td>\n",
              "      <td>No Holiday</td>\n",
              "      <td>Yes</td>\n",
              "      <td>Monday</td>\n",
              "    </tr>\n",
              "    <tr>\n",
              "      <th>freq</th>\n",
              "      <td>24</td>\n",
              "      <td>NaN</td>\n",
              "      <td>NaN</td>\n",
              "      <td>NaN</td>\n",
              "      <td>NaN</td>\n",
              "      <td>NaN</td>\n",
              "      <td>NaN</td>\n",
              "      <td>NaN</td>\n",
              "      <td>NaN</td>\n",
              "      <td>NaN</td>\n",
              "      <td>NaN</td>\n",
              "      <td>1841</td>\n",
              "      <td>1937</td>\n",
              "      <td>312</td>\n",
              "    </tr>\n",
              "    <tr>\n",
              "      <th>mean</th>\n",
              "      <td>NaN</td>\n",
              "      <td>924.110480</td>\n",
              "      <td>11.530718</td>\n",
              "      <td>13.821683</td>\n",
              "      <td>59.044915</td>\n",
              "      <td>1.492101</td>\n",
              "      <td>1558.174497</td>\n",
              "      <td>5.150594</td>\n",
              "      <td>0.522783</td>\n",
              "      <td>0.117656</td>\n",
              "      <td>0.063500</td>\n",
              "      <td>NaN</td>\n",
              "      <td>NaN</td>\n",
              "      <td>NaN</td>\n",
              "    </tr>\n",
              "    <tr>\n",
              "      <th>std</th>\n",
              "      <td>NaN</td>\n",
              "      <td>617.547879</td>\n",
              "      <td>6.916504</td>\n",
              "      <td>7.244204</td>\n",
              "      <td>19.058618</td>\n",
              "      <td>0.916309</td>\n",
              "      <td>565.765000</td>\n",
              "      <td>8.111224</td>\n",
              "      <td>0.803732</td>\n",
              "      <td>0.889771</td>\n",
              "      <td>0.521743</td>\n",
              "      <td>NaN</td>\n",
              "      <td>NaN</td>\n",
              "      <td>NaN</td>\n",
              "    </tr>\n",
              "    <tr>\n",
              "      <th>min</th>\n",
              "      <td>NaN</td>\n",
              "      <td>2.000000</td>\n",
              "      <td>0.000000</td>\n",
              "      <td>-3.000000</td>\n",
              "      <td>13.000000</td>\n",
              "      <td>0.000000</td>\n",
              "      <td>33.000000</td>\n",
              "      <td>-19.000000</td>\n",
              "      <td>0.000000</td>\n",
              "      <td>0.000000</td>\n",
              "      <td>0.000000</td>\n",
              "      <td>NaN</td>\n",
              "      <td>NaN</td>\n",
              "      <td>NaN</td>\n",
              "    </tr>\n",
              "    <tr>\n",
              "      <th>25%</th>\n",
              "      <td>NaN</td>\n",
              "      <td>427.000000</td>\n",
              "      <td>6.000000</td>\n",
              "      <td>7.900000</td>\n",
              "      <td>44.000000</td>\n",
              "      <td>0.900000</td>\n",
              "      <td>1177.000000</td>\n",
              "      <td>0.100000</td>\n",
              "      <td>0.000000</td>\n",
              "      <td>0.000000</td>\n",
              "      <td>0.000000</td>\n",
              "      <td>NaN</td>\n",
              "      <td>NaN</td>\n",
              "      <td>NaN</td>\n",
              "    </tr>\n",
              "    <tr>\n",
              "      <th>50%</th>\n",
              "      <td>NaN</td>\n",
              "      <td>856.000000</td>\n",
              "      <td>12.000000</td>\n",
              "      <td>13.300000</td>\n",
              "      <td>59.000000</td>\n",
              "      <td>1.300000</td>\n",
              "      <td>1901.000000</td>\n",
              "      <td>4.800000</td>\n",
              "      <td>0.000000</td>\n",
              "      <td>0.000000</td>\n",
              "      <td>0.000000</td>\n",
              "      <td>NaN</td>\n",
              "      <td>NaN</td>\n",
              "      <td>NaN</td>\n",
              "    </tr>\n",
              "    <tr>\n",
              "      <th>75%</th>\n",
              "      <td>NaN</td>\n",
              "      <td>1271.000000</td>\n",
              "      <td>18.000000</td>\n",
              "      <td>19.800000</td>\n",
              "      <td>74.000000</td>\n",
              "      <td>2.000000</td>\n",
              "      <td>2000.000000</td>\n",
              "      <td>10.600000</td>\n",
              "      <td>0.890000</td>\n",
              "      <td>0.000000</td>\n",
              "      <td>0.000000</td>\n",
              "      <td>NaN</td>\n",
              "      <td>NaN</td>\n",
              "      <td>NaN</td>\n",
              "    </tr>\n",
              "    <tr>\n",
              "      <th>max</th>\n",
              "      <td>NaN</td>\n",
              "      <td>3298.000000</td>\n",
              "      <td>23.000000</td>\n",
              "      <td>30.500000</td>\n",
              "      <td>97.000000</td>\n",
              "      <td>5.700000</td>\n",
              "      <td>2000.000000</td>\n",
              "      <td>23.900000</td>\n",
              "      <td>3.120000</td>\n",
              "      <td>18.000000</td>\n",
              "      <td>8.800000</td>\n",
              "      <td>NaN</td>\n",
              "      <td>NaN</td>\n",
              "      <td>NaN</td>\n",
              "    </tr>\n",
              "  </tbody>\n",
              "</table>\n",
              "</div>\n",
              "      <button class=\"colab-df-convert\" onclick=\"convertToInteractive('df-e5b46ef0-bd78-4cef-bbad-d91dac1a5714')\"\n",
              "              title=\"Convert this dataframe to an interactive table.\"\n",
              "              style=\"display:none;\">\n",
              "        \n",
              "  <svg xmlns=\"http://www.w3.org/2000/svg\" height=\"24px\"viewBox=\"0 0 24 24\"\n",
              "       width=\"24px\">\n",
              "    <path d=\"M0 0h24v24H0V0z\" fill=\"none\"/>\n",
              "    <path d=\"M18.56 5.44l.94 2.06.94-2.06 2.06-.94-2.06-.94-.94-2.06-.94 2.06-2.06.94zm-11 1L8.5 8.5l.94-2.06 2.06-.94-2.06-.94L8.5 2.5l-.94 2.06-2.06.94zm10 10l.94 2.06.94-2.06 2.06-.94-2.06-.94-.94-2.06-.94 2.06-2.06.94z\"/><path d=\"M17.41 7.96l-1.37-1.37c-.4-.4-.92-.59-1.43-.59-.52 0-1.04.2-1.43.59L10.3 9.45l-7.72 7.72c-.78.78-.78 2.05 0 2.83L4 21.41c.39.39.9.59 1.41.59.51 0 1.02-.2 1.41-.59l7.78-7.78 2.81-2.81c.8-.78.8-2.07 0-2.86zM5.41 20L4 18.59l7.72-7.72 1.47 1.35L5.41 20z\"/>\n",
              "  </svg>\n",
              "      </button>\n",
              "      \n",
              "  <style>\n",
              "    .colab-df-container {\n",
              "      display:flex;\n",
              "      flex-wrap:wrap;\n",
              "      gap: 12px;\n",
              "    }\n",
              "\n",
              "    .colab-df-convert {\n",
              "      background-color: #E8F0FE;\n",
              "      border: none;\n",
              "      border-radius: 50%;\n",
              "      cursor: pointer;\n",
              "      display: none;\n",
              "      fill: #1967D2;\n",
              "      height: 32px;\n",
              "      padding: 0 0 0 0;\n",
              "      width: 32px;\n",
              "    }\n",
              "\n",
              "    .colab-df-convert:hover {\n",
              "      background-color: #E2EBFA;\n",
              "      box-shadow: 0px 1px 2px rgba(60, 64, 67, 0.3), 0px 1px 3px 1px rgba(60, 64, 67, 0.15);\n",
              "      fill: #174EA6;\n",
              "    }\n",
              "\n",
              "    [theme=dark] .colab-df-convert {\n",
              "      background-color: #3B4455;\n",
              "      fill: #D2E3FC;\n",
              "    }\n",
              "\n",
              "    [theme=dark] .colab-df-convert:hover {\n",
              "      background-color: #434B5C;\n",
              "      box-shadow: 0px 1px 3px 1px rgba(0, 0, 0, 0.15);\n",
              "      filter: drop-shadow(0px 1px 2px rgba(0, 0, 0, 0.3));\n",
              "      fill: #FFFFFF;\n",
              "    }\n",
              "  </style>\n",
              "\n",
              "      <script>\n",
              "        const buttonEl =\n",
              "          document.querySelector('#df-e5b46ef0-bd78-4cef-bbad-d91dac1a5714 button.colab-df-convert');\n",
              "        buttonEl.style.display =\n",
              "          google.colab.kernel.accessAllowed ? 'block' : 'none';\n",
              "\n",
              "        async function convertToInteractive(key) {\n",
              "          const element = document.querySelector('#df-e5b46ef0-bd78-4cef-bbad-d91dac1a5714');\n",
              "          const dataTable =\n",
              "            await google.colab.kernel.invokeFunction('convertToInteractive',\n",
              "                                                     [key], {});\n",
              "          if (!dataTable) return;\n",
              "\n",
              "          const docLinkHtml = 'Like what you see? Visit the ' +\n",
              "            '<a target=\"_blank\" href=https://colab.research.google.com/notebooks/data_table.ipynb>data table notebook</a>'\n",
              "            + ' to learn more about interactive tables.';\n",
              "          element.innerHTML = '';\n",
              "          dataTable['output_type'] = 'display_data';\n",
              "          await google.colab.output.renderOutput(dataTable, element);\n",
              "          const docLink = document.createElement('div');\n",
              "          docLink.innerHTML = docLinkHtml;\n",
              "          element.appendChild(docLink);\n",
              "        }\n",
              "      </script>\n",
              "    </div>\n",
              "  </div>\n",
              "  "
            ]
          },
          "metadata": {},
          "execution_count": 3
        }
      ]
    },
    {
      "cell_type": "markdown",
      "source": [
        "**Abnormalities**\n",
        "\n",
        "1. ***Solar_Radiation***, ***Rainfall***, ***Snowfall***, all highly skewed to the left, only a few data larger than 0."
      ],
      "metadata": {
        "id": "1Sov-cS-FR5U"
      }
    },
    {
      "cell_type": "markdown",
      "source": [],
      "metadata": {
        "id": "cVaba4cFlYe3"
      }
    },
    {
      "cell_type": "markdown",
      "source": [
        "## **Feature Engineering**"
      ],
      "metadata": {
        "id": "cDKaglqJlHVb"
      }
    },
    {
      "cell_type": "markdown",
      "source": [
        "1. Excluded ***Functioning_Day***, ***Date***\n",
        "2. Kept ***Weekday*** as it is\n",
        "3. Created dummies for ***Holiday***, ***Weekday***"
      ],
      "metadata": {
        "id": "_h0L8SMmrMpV"
      }
    },
    {
      "cell_type": "code",
      "source": [
        "from sklearn.preprocessing import OneHotEncoder\n",
        "\n",
        "df = df.drop(['Functioning_Day', 'Date'], axis=1)\n",
        "\n",
        "# convert Hour to clusters\n",
        "# df['TimeoftheDay'] = pd.cut(df['Hour'], bins=[-1, 6, 12, 18, 24], labels=['night', 'morning', 'afternoon', 'evening'], ordered=False)\n",
        "\n",
        "# Convert the categorical variable using label encoding\n",
        "# encoder = OneHotEncoder()\n",
        "# # fit and transform the data\n",
        "# encoded_data = encoder.fit_transform(df[['Holiday', 'Weekday']])\n",
        "\n",
        "# # get the feature names\n",
        "# feature_names = []\n",
        "# for feature in encoder.categories_:\n",
        "#     feature_names += list(feature)\n",
        "# encoded_df.columns = feature_names\n",
        "\n",
        "# Create dummy variables\n",
        "holiday_map = {'Holiday': 1, 'No Holiday': 0}\n",
        "# define a dictionary to map weekday names to numbers\n",
        "weekday_map = {'Monday': 1, 'Tuesday': 2, 'Wednesday': 3, 'Thursday': 4, 'Friday': 5, 'Saturday': 6, 'Sunday': 7}\n",
        "\n",
        "# apply the mapping to the weekday and holiday column\n",
        "df['Weekday'] = df['Weekday'].apply(lambda x: weekday_map[x])\n",
        "df['Holiday'] = df['Holiday'].apply(lambda x: holiday_map[x])"
      ],
      "metadata": {
        "id": "vI-MYES1bNX0"
      },
      "execution_count": 2,
      "outputs": []
    },
    {
      "cell_type": "code",
      "source": [
        "df.head(5)"
      ],
      "metadata": {
        "id": "OMvNX6guJ4BD",
        "colab": {
          "base_uri": "https://localhost:8080/",
          "height": 206
        },
        "outputId": "1881cca0-b9ac-4603-d43b-db10aab6e045"
      },
      "execution_count": null,
      "outputs": [
        {
          "output_type": "execute_result",
          "data": {
            "text/plain": [
              "   Bike  Hour  Temperature  Humidity  Wind_Speed  Visibility  \\\n",
              "0  1892    18         28.8        46         1.3        2000   \n",
              "1  1891    19         27.8        48         1.1        2000   \n",
              "2  1845    17         29.6        42         1.3        2000   \n",
              "3  1678    16         30.5        41         1.4        1930   \n",
              "4  1523    23         24.4        54         1.6        2000   \n",
              "\n",
              "   Dew_point_temperature  Solar_Radiation  Rainfall  Snowfall  Holiday  \\\n",
              "0                   16.0             0.58       0.0       0.0        0   \n",
              "1                   15.7             0.08       0.0       0.0        0   \n",
              "2                   15.3             0.98       0.0       0.0        0   \n",
              "3                   15.7             1.95       0.0       0.0        0   \n",
              "4                   14.4             0.00       0.0       0.0        0   \n",
              "\n",
              "   Weekday  \n",
              "0        6  \n",
              "1        6  \n",
              "2        6  \n",
              "3        6  \n",
              "4        6  "
            ],
            "text/html": [
              "\n",
              "  <div id=\"df-479e71bb-34bb-4b57-93f4-7fe7e811af28\">\n",
              "    <div class=\"colab-df-container\">\n",
              "      <div>\n",
              "<style scoped>\n",
              "    .dataframe tbody tr th:only-of-type {\n",
              "        vertical-align: middle;\n",
              "    }\n",
              "\n",
              "    .dataframe tbody tr th {\n",
              "        vertical-align: top;\n",
              "    }\n",
              "\n",
              "    .dataframe thead th {\n",
              "        text-align: right;\n",
              "    }\n",
              "</style>\n",
              "<table border=\"1\" class=\"dataframe\">\n",
              "  <thead>\n",
              "    <tr style=\"text-align: right;\">\n",
              "      <th></th>\n",
              "      <th>Bike</th>\n",
              "      <th>Hour</th>\n",
              "      <th>Temperature</th>\n",
              "      <th>Humidity</th>\n",
              "      <th>Wind_Speed</th>\n",
              "      <th>Visibility</th>\n",
              "      <th>Dew_point_temperature</th>\n",
              "      <th>Solar_Radiation</th>\n",
              "      <th>Rainfall</th>\n",
              "      <th>Snowfall</th>\n",
              "      <th>Holiday</th>\n",
              "      <th>Weekday</th>\n",
              "    </tr>\n",
              "  </thead>\n",
              "  <tbody>\n",
              "    <tr>\n",
              "      <th>0</th>\n",
              "      <td>1892</td>\n",
              "      <td>18</td>\n",
              "      <td>28.8</td>\n",
              "      <td>46</td>\n",
              "      <td>1.3</td>\n",
              "      <td>2000</td>\n",
              "      <td>16.0</td>\n",
              "      <td>0.58</td>\n",
              "      <td>0.0</td>\n",
              "      <td>0.0</td>\n",
              "      <td>0</td>\n",
              "      <td>6</td>\n",
              "    </tr>\n",
              "    <tr>\n",
              "      <th>1</th>\n",
              "      <td>1891</td>\n",
              "      <td>19</td>\n",
              "      <td>27.8</td>\n",
              "      <td>48</td>\n",
              "      <td>1.1</td>\n",
              "      <td>2000</td>\n",
              "      <td>15.7</td>\n",
              "      <td>0.08</td>\n",
              "      <td>0.0</td>\n",
              "      <td>0.0</td>\n",
              "      <td>0</td>\n",
              "      <td>6</td>\n",
              "    </tr>\n",
              "    <tr>\n",
              "      <th>2</th>\n",
              "      <td>1845</td>\n",
              "      <td>17</td>\n",
              "      <td>29.6</td>\n",
              "      <td>42</td>\n",
              "      <td>1.3</td>\n",
              "      <td>2000</td>\n",
              "      <td>15.3</td>\n",
              "      <td>0.98</td>\n",
              "      <td>0.0</td>\n",
              "      <td>0.0</td>\n",
              "      <td>0</td>\n",
              "      <td>6</td>\n",
              "    </tr>\n",
              "    <tr>\n",
              "      <th>3</th>\n",
              "      <td>1678</td>\n",
              "      <td>16</td>\n",
              "      <td>30.5</td>\n",
              "      <td>41</td>\n",
              "      <td>1.4</td>\n",
              "      <td>1930</td>\n",
              "      <td>15.7</td>\n",
              "      <td>1.95</td>\n",
              "      <td>0.0</td>\n",
              "      <td>0.0</td>\n",
              "      <td>0</td>\n",
              "      <td>6</td>\n",
              "    </tr>\n",
              "    <tr>\n",
              "      <th>4</th>\n",
              "      <td>1523</td>\n",
              "      <td>23</td>\n",
              "      <td>24.4</td>\n",
              "      <td>54</td>\n",
              "      <td>1.6</td>\n",
              "      <td>2000</td>\n",
              "      <td>14.4</td>\n",
              "      <td>0.00</td>\n",
              "      <td>0.0</td>\n",
              "      <td>0.0</td>\n",
              "      <td>0</td>\n",
              "      <td>6</td>\n",
              "    </tr>\n",
              "  </tbody>\n",
              "</table>\n",
              "</div>\n",
              "      <button class=\"colab-df-convert\" onclick=\"convertToInteractive('df-479e71bb-34bb-4b57-93f4-7fe7e811af28')\"\n",
              "              title=\"Convert this dataframe to an interactive table.\"\n",
              "              style=\"display:none;\">\n",
              "        \n",
              "  <svg xmlns=\"http://www.w3.org/2000/svg\" height=\"24px\"viewBox=\"0 0 24 24\"\n",
              "       width=\"24px\">\n",
              "    <path d=\"M0 0h24v24H0V0z\" fill=\"none\"/>\n",
              "    <path d=\"M18.56 5.44l.94 2.06.94-2.06 2.06-.94-2.06-.94-.94-2.06-.94 2.06-2.06.94zm-11 1L8.5 8.5l.94-2.06 2.06-.94-2.06-.94L8.5 2.5l-.94 2.06-2.06.94zm10 10l.94 2.06.94-2.06 2.06-.94-2.06-.94-.94-2.06-.94 2.06-2.06.94z\"/><path d=\"M17.41 7.96l-1.37-1.37c-.4-.4-.92-.59-1.43-.59-.52 0-1.04.2-1.43.59L10.3 9.45l-7.72 7.72c-.78.78-.78 2.05 0 2.83L4 21.41c.39.39.9.59 1.41.59.51 0 1.02-.2 1.41-.59l7.78-7.78 2.81-2.81c.8-.78.8-2.07 0-2.86zM5.41 20L4 18.59l7.72-7.72 1.47 1.35L5.41 20z\"/>\n",
              "  </svg>\n",
              "      </button>\n",
              "      \n",
              "  <style>\n",
              "    .colab-df-container {\n",
              "      display:flex;\n",
              "      flex-wrap:wrap;\n",
              "      gap: 12px;\n",
              "    }\n",
              "\n",
              "    .colab-df-convert {\n",
              "      background-color: #E8F0FE;\n",
              "      border: none;\n",
              "      border-radius: 50%;\n",
              "      cursor: pointer;\n",
              "      display: none;\n",
              "      fill: #1967D2;\n",
              "      height: 32px;\n",
              "      padding: 0 0 0 0;\n",
              "      width: 32px;\n",
              "    }\n",
              "\n",
              "    .colab-df-convert:hover {\n",
              "      background-color: #E2EBFA;\n",
              "      box-shadow: 0px 1px 2px rgba(60, 64, 67, 0.3), 0px 1px 3px 1px rgba(60, 64, 67, 0.15);\n",
              "      fill: #174EA6;\n",
              "    }\n",
              "\n",
              "    [theme=dark] .colab-df-convert {\n",
              "      background-color: #3B4455;\n",
              "      fill: #D2E3FC;\n",
              "    }\n",
              "\n",
              "    [theme=dark] .colab-df-convert:hover {\n",
              "      background-color: #434B5C;\n",
              "      box-shadow: 0px 1px 3px 1px rgba(0, 0, 0, 0.15);\n",
              "      filter: drop-shadow(0px 1px 2px rgba(0, 0, 0, 0.3));\n",
              "      fill: #FFFFFF;\n",
              "    }\n",
              "  </style>\n",
              "\n",
              "      <script>\n",
              "        const buttonEl =\n",
              "          document.querySelector('#df-479e71bb-34bb-4b57-93f4-7fe7e811af28 button.colab-df-convert');\n",
              "        buttonEl.style.display =\n",
              "          google.colab.kernel.accessAllowed ? 'block' : 'none';\n",
              "\n",
              "        async function convertToInteractive(key) {\n",
              "          const element = document.querySelector('#df-479e71bb-34bb-4b57-93f4-7fe7e811af28');\n",
              "          const dataTable =\n",
              "            await google.colab.kernel.invokeFunction('convertToInteractive',\n",
              "                                                     [key], {});\n",
              "          if (!dataTable) return;\n",
              "\n",
              "          const docLinkHtml = 'Like what you see? Visit the ' +\n",
              "            '<a target=\"_blank\" href=https://colab.research.google.com/notebooks/data_table.ipynb>data table notebook</a>'\n",
              "            + ' to learn more about interactive tables.';\n",
              "          element.innerHTML = '';\n",
              "          dataTable['output_type'] = 'display_data';\n",
              "          await google.colab.output.renderOutput(dataTable, element);\n",
              "          const docLink = document.createElement('div');\n",
              "          docLink.innerHTML = docLinkHtml;\n",
              "          element.appendChild(docLink);\n",
              "        }\n",
              "      </script>\n",
              "    </div>\n",
              "  </div>\n",
              "  "
            ]
          },
          "metadata": {},
          "execution_count": 6
        }
      ]
    },
    {
      "cell_type": "code",
      "source": [
        "# Import the necessary libraries\n",
        "from sklearn.model_selection import train_test_split\n",
        "import statsmodels.api as sm\n",
        "\n",
        "# Split the dataset into training and testing sets, dropping 'Dew_point_temperature'\n",
        "X_train, X_test, y_train, y_test = train_test_split(df.drop(columns = ['Bike', 'Dew_point_temperature'], axis=1),\n",
        "                                                    df['Bike'],\n",
        "                                                    test_size=0.25,\n",
        "                                                    random_state=42)\n",
        "\n",
        "# add a constant\n",
        "X_train_constant = sm.add_constant(X_train) # add an intercept column to the dataset\n",
        "X_test_constant = sm.add_constant(X_test) # add an intercept column to the dataset"
      ],
      "metadata": {
        "id": "apdL6hmwg_uV"
      },
      "execution_count": 3,
      "outputs": []
    },
    {
      "cell_type": "code",
      "source": [
        "# check for NA data, none is found\n",
        "df[df.isnull().any(axis=1)]"
      ],
      "metadata": {
        "colab": {
          "base_uri": "https://localhost:8080/",
          "height": 49
        },
        "id": "fkZBprrGhDIY",
        "outputId": "30584e60-7a8d-4408-f087-8325689bfef6"
      },
      "execution_count": null,
      "outputs": [
        {
          "output_type": "execute_result",
          "data": {
            "text/plain": [
              "Empty DataFrame\n",
              "Columns: [Bike, Hour, Temperature, Humidity, Wind_Speed, Visibility, Dew_point_temperature, Solar_Radiation, Rainfall, Snowfall, Holiday, Weekday]\n",
              "Index: []"
            ],
            "text/html": [
              "\n",
              "  <div id=\"df-5039147c-21f9-435a-8a8b-8d5387422f95\">\n",
              "    <div class=\"colab-df-container\">\n",
              "      <div>\n",
              "<style scoped>\n",
              "    .dataframe tbody tr th:only-of-type {\n",
              "        vertical-align: middle;\n",
              "    }\n",
              "\n",
              "    .dataframe tbody tr th {\n",
              "        vertical-align: top;\n",
              "    }\n",
              "\n",
              "    .dataframe thead th {\n",
              "        text-align: right;\n",
              "    }\n",
              "</style>\n",
              "<table border=\"1\" class=\"dataframe\">\n",
              "  <thead>\n",
              "    <tr style=\"text-align: right;\">\n",
              "      <th></th>\n",
              "      <th>Bike</th>\n",
              "      <th>Hour</th>\n",
              "      <th>Temperature</th>\n",
              "      <th>Humidity</th>\n",
              "      <th>Wind_Speed</th>\n",
              "      <th>Visibility</th>\n",
              "      <th>Dew_point_temperature</th>\n",
              "      <th>Solar_Radiation</th>\n",
              "      <th>Rainfall</th>\n",
              "      <th>Snowfall</th>\n",
              "      <th>Holiday</th>\n",
              "      <th>Weekday</th>\n",
              "    </tr>\n",
              "  </thead>\n",
              "  <tbody>\n",
              "  </tbody>\n",
              "</table>\n",
              "</div>\n",
              "      <button class=\"colab-df-convert\" onclick=\"convertToInteractive('df-5039147c-21f9-435a-8a8b-8d5387422f95')\"\n",
              "              title=\"Convert this dataframe to an interactive table.\"\n",
              "              style=\"display:none;\">\n",
              "        \n",
              "  <svg xmlns=\"http://www.w3.org/2000/svg\" height=\"24px\"viewBox=\"0 0 24 24\"\n",
              "       width=\"24px\">\n",
              "    <path d=\"M0 0h24v24H0V0z\" fill=\"none\"/>\n",
              "    <path d=\"M18.56 5.44l.94 2.06.94-2.06 2.06-.94-2.06-.94-.94-2.06-.94 2.06-2.06.94zm-11 1L8.5 8.5l.94-2.06 2.06-.94-2.06-.94L8.5 2.5l-.94 2.06-2.06.94zm10 10l.94 2.06.94-2.06 2.06-.94-2.06-.94-.94-2.06-.94 2.06-2.06.94z\"/><path d=\"M17.41 7.96l-1.37-1.37c-.4-.4-.92-.59-1.43-.59-.52 0-1.04.2-1.43.59L10.3 9.45l-7.72 7.72c-.78.78-.78 2.05 0 2.83L4 21.41c.39.39.9.59 1.41.59.51 0 1.02-.2 1.41-.59l7.78-7.78 2.81-2.81c.8-.78.8-2.07 0-2.86zM5.41 20L4 18.59l7.72-7.72 1.47 1.35L5.41 20z\"/>\n",
              "  </svg>\n",
              "      </button>\n",
              "      \n",
              "  <style>\n",
              "    .colab-df-container {\n",
              "      display:flex;\n",
              "      flex-wrap:wrap;\n",
              "      gap: 12px;\n",
              "    }\n",
              "\n",
              "    .colab-df-convert {\n",
              "      background-color: #E8F0FE;\n",
              "      border: none;\n",
              "      border-radius: 50%;\n",
              "      cursor: pointer;\n",
              "      display: none;\n",
              "      fill: #1967D2;\n",
              "      height: 32px;\n",
              "      padding: 0 0 0 0;\n",
              "      width: 32px;\n",
              "    }\n",
              "\n",
              "    .colab-df-convert:hover {\n",
              "      background-color: #E2EBFA;\n",
              "      box-shadow: 0px 1px 2px rgba(60, 64, 67, 0.3), 0px 1px 3px 1px rgba(60, 64, 67, 0.15);\n",
              "      fill: #174EA6;\n",
              "    }\n",
              "\n",
              "    [theme=dark] .colab-df-convert {\n",
              "      background-color: #3B4455;\n",
              "      fill: #D2E3FC;\n",
              "    }\n",
              "\n",
              "    [theme=dark] .colab-df-convert:hover {\n",
              "      background-color: #434B5C;\n",
              "      box-shadow: 0px 1px 3px 1px rgba(0, 0, 0, 0.15);\n",
              "      filter: drop-shadow(0px 1px 2px rgba(0, 0, 0, 0.3));\n",
              "      fill: #FFFFFF;\n",
              "    }\n",
              "  </style>\n",
              "\n",
              "      <script>\n",
              "        const buttonEl =\n",
              "          document.querySelector('#df-5039147c-21f9-435a-8a8b-8d5387422f95 button.colab-df-convert');\n",
              "        buttonEl.style.display =\n",
              "          google.colab.kernel.accessAllowed ? 'block' : 'none';\n",
              "\n",
              "        async function convertToInteractive(key) {\n",
              "          const element = document.querySelector('#df-5039147c-21f9-435a-8a8b-8d5387422f95');\n",
              "          const dataTable =\n",
              "            await google.colab.kernel.invokeFunction('convertToInteractive',\n",
              "                                                     [key], {});\n",
              "          if (!dataTable) return;\n",
              "\n",
              "          const docLinkHtml = 'Like what you see? Visit the ' +\n",
              "            '<a target=\"_blank\" href=https://colab.research.google.com/notebooks/data_table.ipynb>data table notebook</a>'\n",
              "            + ' to learn more about interactive tables.';\n",
              "          element.innerHTML = '';\n",
              "          dataTable['output_type'] = 'display_data';\n",
              "          await google.colab.output.renderOutput(dataTable, element);\n",
              "          const docLink = document.createElement('div');\n",
              "          docLink.innerHTML = docLinkHtml;\n",
              "          element.appendChild(docLink);\n",
              "        }\n",
              "      </script>\n",
              "    </div>\n",
              "  </div>\n",
              "  "
            ]
          },
          "metadata": {},
          "execution_count": 7
        }
      ]
    },
    {
      "cell_type": "code",
      "source": [
        "# # convert the date column to datetime format\n",
        "# df['Date'] = pd.to_datetime(df['Date'])\n",
        "\n",
        "# # extract the day, month, and year from the date column\n",
        "# df['day'] = df['Date'].dt.day\n",
        "# df['month'] = df['Date'].dt.month\n",
        "# df['year'] = df['Date'].dt.year"
      ],
      "metadata": {
        "id": "KuUGUY5wymr4"
      },
      "execution_count": null,
      "outputs": []
    },
    {
      "cell_type": "markdown",
      "source": [
        "### **Regress *Dew_point_temperature* on *Temperature* and *Humidity***"
      ],
      "metadata": {
        "id": "3KNr81zyWZtX"
      }
    },
    {
      "cell_type": "code",
      "source": [
        "# Import the necessary libraries\n",
        "from sklearn.model_selection import train_test_split\n",
        "\n",
        "# Split the dataset into training and testing sets\n",
        "x_tp, y_tp = df[['Temperature', 'Humidity']], df['Dew_point_temperature']\n",
        "\n",
        "from sklearn.linear_model import LinearRegression\n",
        "import statsmodels.api as sm\n",
        "\n",
        "# add a constant\n",
        "x_tp_constant = sm.add_constant(x_tp) # add an intercept column to the dataset\n",
        "\n",
        "# create a summary table using statsmodels\n",
        "est_tp = sm.OLS(y_tp, x_tp_constant).fit() # fit a linear regression model using statsmodels\n",
        "summary_tp = est_tp.summary() # create a summary table\n",
        "\n",
        "# print the summary table\n",
        "print(summary_tp)"
      ],
      "metadata": {
        "id": "OJ0Q_Z0AWic3",
        "colab": {
          "base_uri": "https://localhost:8080/"
        },
        "outputId": "763bf9f2-de9e-483f-8ad3-ccfd559db953"
      },
      "execution_count": null,
      "outputs": [
        {
          "output_type": "stream",
          "name": "stdout",
          "text": [
            "                              OLS Regression Results                             \n",
            "=================================================================================\n",
            "Dep. Variable:     Dew_point_temperature   R-squared:                       0.987\n",
            "Model:                               OLS   Adj. R-squared:                  0.987\n",
            "Method:                    Least Squares   F-statistic:                 7.276e+04\n",
            "Date:                   Sun, 30 Apr 2023   Prob (F-statistic):               0.00\n",
            "Time:                           17:37:45   Log-Likelihood:                -2605.2\n",
            "No. Observations:                   1937   AIC:                             5216.\n",
            "Df Residuals:                       1934   BIC:                             5233.\n",
            "Df Model:                              2                                         \n",
            "Covariance Type:               nonrobust                                         \n",
            "===============================================================================\n",
            "                  coef    std err          t      P>|t|      [0.025      0.975]\n",
            "-------------------------------------------------------------------------------\n",
            "const         -23.1448      0.083   -280.300      0.000     -23.307     -22.983\n",
            "Temperature     0.9319      0.003    318.561      0.000       0.926       0.938\n",
            "Humidity        0.2611      0.001    234.795      0.000       0.259       0.263\n",
            "==============================================================================\n",
            "Omnibus:                      794.730   Durbin-Watson:                   1.048\n",
            "Prob(Omnibus):                  0.000   Jarque-Bera (JB):             5318.192\n",
            "Skew:                          -1.788   Prob(JB):                         0.00\n",
            "Kurtosis:                      10.287   Cond. No.                         248.\n",
            "==============================================================================\n",
            "\n",
            "Notes:\n",
            "[1] Standard Errors assume that the covariance matrix of the errors is correctly specified.\n"
          ]
        }
      ]
    },
    {
      "cell_type": "markdown",
      "source": [
        "**Observation**\n",
        "- The model has very high $R^2$, and the equation yielded is $Dew = -23.14 + 0.93\\times Temp + 0.26\\times Himidity$, which is very close to the formula mentioned before. So it is a linear combination of the other 2 and we should consider dropping *Dew* or the other two."
      ],
      "metadata": {
        "id": "TDi9LfsSX0G6"
      }
    },
    {
      "cell_type": "markdown",
      "source": [
        "## **Exploratory analysis**"
      ],
      "metadata": {
        "id": "-aav3s_RloZO"
      }
    },
    {
      "cell_type": "markdown",
      "source": [
        "### **Check distribution of Y**"
      ],
      "metadata": {
        "id": "GbmwWgX8qwfq"
      }
    },
    {
      "cell_type": "code",
      "source": [
        "import matplotlib.pyplot as plt\n",
        "plt.hist(y_train,bins=50)"
      ],
      "metadata": {
        "id": "urHpLv_7qwtM",
        "colab": {
          "base_uri": "https://localhost:8080/",
          "height": 656
        },
        "outputId": "c261b54d-652c-4705-fe33-a0ec461b9f4c"
      },
      "execution_count": null,
      "outputs": [
        {
          "output_type": "execute_result",
          "data": {
            "text/plain": [
              "(array([45., 48., 84., 71., 54., 46., 50., 51., 42., 60., 56., 69., 50.,\n",
              "        57., 65., 66., 62., 57., 45., 40., 19., 33., 34., 32., 19., 20.,\n",
              "        16., 15., 24., 15., 23., 17., 12.,  9.,  9.,  7.,  6.,  5.,  2.,\n",
              "         5.,  0.,  1.,  2.,  1.,  0.,  0.,  0.,  5.,  0.,  3.]),\n",
              " array([   4.  ,   69.88,  135.76,  201.64,  267.52,  333.4 ,  399.28,\n",
              "         465.16,  531.04,  596.92,  662.8 ,  728.68,  794.56,  860.44,\n",
              "         926.32,  992.2 , 1058.08, 1123.96, 1189.84, 1255.72, 1321.6 ,\n",
              "        1387.48, 1453.36, 1519.24, 1585.12, 1651.  , 1716.88, 1782.76,\n",
              "        1848.64, 1914.52, 1980.4 , 2046.28, 2112.16, 2178.04, 2243.92,\n",
              "        2309.8 , 2375.68, 2441.56, 2507.44, 2573.32, 2639.2 , 2705.08,\n",
              "        2770.96, 2836.84, 2902.72, 2968.6 , 3034.48, 3100.36, 3166.24,\n",
              "        3232.12, 3298.  ]),\n",
              " <BarContainer object of 50 artists>)"
            ]
          },
          "metadata": {},
          "execution_count": 9
        },
        {
          "output_type": "display_data",
          "data": {
            "text/plain": [
              "<Figure size 640x480 with 1 Axes>"
            ],
            "image/png": "[encoded data removed]"
          },
          "metadata": {}
        }
      ]
    },
    {
      "cell_type": "markdown",
      "source": [
        "**Observations**\n",
        "- **Y has 2 peaks**, one close to 0, one around the mean.\n",
        "  - This makes Y (bike rental count) very hard to model as we can't find a distribution in the exponential family to match its pattern"
      ],
      "metadata": {
        "id": "9FzNIhbHR9g1"
      }
    },
    {
      "cell_type": "markdown",
      "source": [
        "### **Covariance**"
      ],
      "metadata": {
        "id": "tIVDJtpQD0Z9"
      }
    },
    {
      "cell_type": "code",
      "source": [
        "import seaborn as sns\n",
        "\n",
        "# create a correlation matrix between all the columns in your DataFrame\n",
        "corr_matrix = X_train.corr()\n",
        "\n",
        "# plot a heatmap of the correlation matrix\n",
        "sns.heatmap(corr_matrix, annot=True, cmap='coolwarm')"
      ],
      "metadata": {
        "colab": {
          "base_uri": "https://localhost:8080/",
          "height": 547
        },
        "id": "Rpg9KMyeD0kw",
        "outputId": "f6d5760d-8617-46a5-d8cd-9ed4794c79ee"
      },
      "execution_count": null,
      "outputs": [
        {
          "output_type": "execute_result",
          "data": {
            "text/plain": [
              "<Axes: >"
            ]
          },
          "metadata": {},
          "execution_count": 10
        },
        {
          "output_type": "display_data",
          "data": {
            "text/plain": [
              "<Figure size 640x480 with 2 Axes>"
            ],
            "image/png": "[encoded data removed]"
          },
          "metadata": {}
        }
      ]
    },
    {
      "cell_type": "markdown",
      "source": [
        "### **K Means**\n",
        "- Attemp to group the data and check for significant characteristics"
      ],
      "metadata": {
        "id": "r6W0Pu5ED8dX"
      }
    },
    {
      "cell_type": "code",
      "source": [
        "import numpy as np\n",
        "import matplotlib.pyplot as plt\n",
        "from sklearn.cluster import KMeans\n",
        "\n",
        "# Weekday and holiday is excluded\n",
        "# calculate WCSS for each number of clusters\n",
        "wcss = []\n",
        "for i in range(1, 11):\n",
        "    kmeans = KMeans(n_clusters=i, init='k-means++', max_iter=300, n_init=10, random_state=0)\n",
        "    kmeans.fit(X_train.iloc[:,:-2])\n",
        "    wcss.append(kmeans.inertia_)\n",
        "\n",
        "# plot the scree plot, ended up choosing 3 clusters\n",
        "plt.plot(range(1, 11), wcss)\n",
        "plt.title('Scree Plot')\n",
        "plt.xlabel('Number of clusters')\n",
        "plt.ylabel('WCSS')\n",
        "plt.show()"
      ],
      "metadata": {
        "id": "y7rLOwx9D8y_",
        "colab": {
          "base_uri": "https://localhost:8080/",
          "height": 472
        },
        "outputId": "5ceb9d11-84ca-498a-c16e-0183d05edf0b"
      },
      "execution_count": null,
      "outputs": [
        {
          "output_type": "display_data",
          "data": {
            "text/plain": [
              "<Figure size 640x480 with 1 Axes>"
            ],
            "image/png": "[encoded data removed]"
          },
          "metadata": {}
        }
      ]
    },
    {
      "cell_type": "code",
      "source": [
        "from sklearn.decomposition import PCA\n",
        "\n",
        "# create KMeans model with 3 clusters\n",
        "kmeans = KMeans(n_clusters=3, random_state=42)\n",
        "\n",
        "# fit the model to the data\n",
        "kmeans.fit(X_train.iloc[:,:-2])\n",
        "\n",
        "# predict the cluster assignments for each sample in the data\n",
        "clusters = kmeans.predict(X_train.iloc[:,:-2])\n",
        "\n",
        "# print the cluster centers\n",
        "centers = pd.DataFrame(kmeans.cluster_centers_, columns=X_train.columns[:-2])\n",
        "print(centers)"
      ],
      "metadata": {
        "id": "EqKaGdBKD81X",
        "colab": {
          "base_uri": "https://localhost:8080/"
        },
        "outputId": "71385086-f657-4c28-c545-7c4df0023f41"
      },
      "execution_count": null,
      "outputs": [
        {
          "output_type": "stream",
          "name": "stderr",
          "text": [
            "/usr/local/lib/python3.10/dist-packages/sklearn/cluster/_kmeans.py:870: FutureWarning: The default value of `n_init` will change from 10 to 'auto' in 1.4. Set the value of `n_init` explicitly to suppress the warning\n",
            "  warnings.warn(\n"
          ]
        },
        {
          "output_type": "stream",
          "name": "stdout",
          "text": [
            "        Hour  Temperature   Humidity  Wind_Speed   Visibility  \\\n",
            "0  10.241993    11.201068  63.188612    1.200712  1289.651246   \n",
            "1  12.197753    15.463708  52.808989    1.669663  1950.905618   \n",
            "2  10.505338    11.203203  75.341637    1.249466   564.932384   \n",
            "\n",
            "   Solar_Radiation  Rainfall  Snowfall  \n",
            "0         0.386441  0.107117  0.113879  \n",
            "1         0.647011  0.012360  0.006742  \n",
            "2         0.317402  0.363345  0.226690  \n"
          ]
        }
      ]
    },
    {
      "cell_type": "code",
      "source": [
        "unique_values, counts = np.unique(clusters, return_counts=True)\n",
        "print(\"Unique values:\", unique_values)\n",
        "print(\"Counts:\", counts)"
      ],
      "metadata": {
        "colab": {
          "base_uri": "https://localhost:8080/"
        },
        "id": "Q1bEHstnbySY",
        "outputId": "be027b51-2b0c-485f-bdbf-138c9d163a5d"
      },
      "execution_count": null,
      "outputs": [
        {
          "output_type": "stream",
          "name": "stdout",
          "text": [
            "Unique values: [0 1 2]\n",
            "Counts: [281 890 281]\n"
          ]
        }
      ]
    },
    {
      "cell_type": "markdown",
      "source": [
        "**Observations**\n",
        "- From the clustering resutls, these variables represent the groups very well: ***Humidity***, ***Visibility***, ***Dew_point_temperature***, ***Rainfall***, ***Snowfall***, ***Holiday***\n",
        "\n"
      ],
      "metadata": {
        "id": "aP_yQfpzKFb8"
      }
    },
    {
      "cell_type": "markdown",
      "source": [
        "- Now let's look at how they correspond to bike rental"
      ],
      "metadata": {
        "id": "CFYaYXqdTh6i"
      }
    },
    {
      "cell_type": "code",
      "source": [
        "pd.concat([centers, pd.DataFrame([np.mean(y_train[clusters==0]), np.mean(y_train[clusters==1]), np.mean(y_train[clusters==2])], columns=['Mean_Bike_Rental_Count']), pd.DataFrame(counts, columns=[\"Cluster_count\"])], axis=1)"
      ],
      "metadata": {
        "id": "9q2LH0wnFjsO",
        "colab": {
          "base_uri": "https://localhost:8080/",
          "height": 143
        },
        "outputId": "b3132e07-2833-400f-f243-e30f80164125"
      },
      "execution_count": null,
      "outputs": [
        {
          "output_type": "execute_result",
          "data": {
            "text/plain": [
              "        Hour  Temperature   Humidity  Wind_Speed   Visibility  \\\n",
              "0  10.241993    11.201068  63.188612    1.200712  1289.651246   \n",
              "1  12.197753    15.463708  52.808989    1.669663  1950.905618   \n",
              "2  10.505338    11.203203  75.341637    1.249466   564.932384   \n",
              "\n",
              "   Solar_Radiation  Rainfall  Snowfall  Mean_Bike_Rental_Count  Cluster_count  \n",
              "0         0.386441  0.107117  0.113879              791.676157            281  \n",
              "1         0.647011  0.012360  0.006742             1064.307865            890  \n",
              "2         0.317402  0.363345  0.226690              629.989324            281  "
            ],
            "text/html": [
              "\n",
              "  <div id=\"df-362dd5bb-89df-426d-a913-26bf2d3462e2\">\n",
              "    <div class=\"colab-df-container\">\n",
              "      <div>\n",
              "<style scoped>\n",
              "    .dataframe tbody tr th:only-of-type {\n",
              "        vertical-align: middle;\n",
              "    }\n",
              "\n",
              "    .dataframe tbody tr th {\n",
              "        vertical-align: top;\n",
              "    }\n",
              "\n",
              "    .dataframe thead th {\n",
              "        text-align: right;\n",
              "    }\n",
              "</style>\n",
              "<table border=\"1\" class=\"dataframe\">\n",
              "  <thead>\n",
              "    <tr style=\"text-align: right;\">\n",
              "      <th></th>\n",
              "      <th>Hour</th>\n",
              "      <th>Temperature</th>\n",
              "      <th>Humidity</th>\n",
              "      <th>Wind_Speed</th>\n",
              "      <th>Visibility</th>\n",
              "      <th>Solar_Radiation</th>\n",
              "      <th>Rainfall</th>\n",
              "      <th>Snowfall</th>\n",
              "      <th>Mean_Bike_Rental_Count</th>\n",
              "      <th>Cluster_count</th>\n",
              "    </tr>\n",
              "  </thead>\n",
              "  <tbody>\n",
              "    <tr>\n",
              "      <th>0</th>\n",
              "      <td>10.241993</td>\n",
              "      <td>11.201068</td>\n",
              "      <td>63.188612</td>\n",
              "      <td>1.200712</td>\n",
              "      <td>1289.651246</td>\n",
              "      <td>0.386441</td>\n",
              "      <td>0.107117</td>\n",
              "      <td>0.113879</td>\n",
              "      <td>791.676157</td>\n",
              "      <td>281</td>\n",
              "    </tr>\n",
              "    <tr>\n",
              "      <th>1</th>\n",
              "      <td>12.197753</td>\n",
              "      <td>15.463708</td>\n",
              "      <td>52.808989</td>\n",
              "      <td>1.669663</td>\n",
              "      <td>1950.905618</td>\n",
              "      <td>0.647011</td>\n",
              "      <td>0.012360</td>\n",
              "      <td>0.006742</td>\n",
              "      <td>1064.307865</td>\n",
              "      <td>890</td>\n",
              "    </tr>\n",
              "    <tr>\n",
              "      <th>2</th>\n",
              "      <td>10.505338</td>\n",
              "      <td>11.203203</td>\n",
              "      <td>75.341637</td>\n",
              "      <td>1.249466</td>\n",
              "      <td>564.932384</td>\n",
              "      <td>0.317402</td>\n",
              "      <td>0.363345</td>\n",
              "      <td>0.226690</td>\n",
              "      <td>629.989324</td>\n",
              "      <td>281</td>\n",
              "    </tr>\n",
              "  </tbody>\n",
              "</table>\n",
              "</div>\n",
              "      <button class=\"colab-df-convert\" onclick=\"convertToInteractive('df-362dd5bb-89df-426d-a913-26bf2d3462e2')\"\n",
              "              title=\"Convert this dataframe to an interactive table.\"\n",
              "              style=\"display:none;\">\n",
              "        \n",
              "  <svg xmlns=\"http://www.w3.org/2000/svg\" height=\"24px\"viewBox=\"0 0 24 24\"\n",
              "       width=\"24px\">\n",
              "    <path d=\"M0 0h24v24H0V0z\" fill=\"none\"/>\n",
              "    <path d=\"M18.56 5.44l.94 2.06.94-2.06 2.06-.94-2.06-.94-.94-2.06-.94 2.06-2.06.94zm-11 1L8.5 8.5l.94-2.06 2.06-.94-2.06-.94L8.5 2.5l-.94 2.06-2.06.94zm10 10l.94 2.06.94-2.06 2.06-.94-2.06-.94-.94-2.06-.94 2.06-2.06.94z\"/><path d=\"M17.41 7.96l-1.37-1.37c-.4-.4-.92-.59-1.43-.59-.52 0-1.04.2-1.43.59L10.3 9.45l-7.72 7.72c-.78.78-.78 2.05 0 2.83L4 21.41c.39.39.9.59 1.41.59.51 0 1.02-.2 1.41-.59l7.78-7.78 2.81-2.81c.8-.78.8-2.07 0-2.86zM5.41 20L4 18.59l7.72-7.72 1.47 1.35L5.41 20z\"/>\n",
              "  </svg>\n",
              "      </button>\n",
              "      \n",
              "  <style>\n",
              "    .colab-df-container {\n",
              "      display:flex;\n",
              "      flex-wrap:wrap;\n",
              "      gap: 12px;\n",
              "    }\n",
              "\n",
              "    .colab-df-convert {\n",
              "      background-color: #E8F0FE;\n",
              "      border: none;\n",
              "      border-radius: 50%;\n",
              "      cursor: pointer;\n",
              "      display: none;\n",
              "      fill: #1967D2;\n",
              "      height: 32px;\n",
              "      padding: 0 0 0 0;\n",
              "      width: 32px;\n",
              "    }\n",
              "\n",
              "    .colab-df-convert:hover {\n",
              "      background-color: #E2EBFA;\n",
              "      box-shadow: 0px 1px 2px rgba(60, 64, 67, 0.3), 0px 1px 3px 1px rgba(60, 64, 67, 0.15);\n",
              "      fill: #174EA6;\n",
              "    }\n",
              "\n",
              "    [theme=dark] .colab-df-convert {\n",
              "      background-color: #3B4455;\n",
              "      fill: #D2E3FC;\n",
              "    }\n",
              "\n",
              "    [theme=dark] .colab-df-convert:hover {\n",
              "      background-color: #434B5C;\n",
              "      box-shadow: 0px 1px 3px 1px rgba(0, 0, 0, 0.15);\n",
              "      filter: drop-shadow(0px 1px 2px rgba(0, 0, 0, 0.3));\n",
              "      fill: #FFFFFF;\n",
              "    }\n",
              "  </style>\n",
              "\n",
              "      <script>\n",
              "        const buttonEl =\n",
              "          document.querySelector('#df-362dd5bb-89df-426d-a913-26bf2d3462e2 button.colab-df-convert');\n",
              "        buttonEl.style.display =\n",
              "          google.colab.kernel.accessAllowed ? 'block' : 'none';\n",
              "\n",
              "        async function convertToInteractive(key) {\n",
              "          const element = document.querySelector('#df-362dd5bb-89df-426d-a913-26bf2d3462e2');\n",
              "          const dataTable =\n",
              "            await google.colab.kernel.invokeFunction('convertToInteractive',\n",
              "                                                     [key], {});\n",
              "          if (!dataTable) return;\n",
              "\n",
              "          const docLinkHtml = 'Like what you see? Visit the ' +\n",
              "            '<a target=\"_blank\" href=https://colab.research.google.com/notebooks/data_table.ipynb>data table notebook</a>'\n",
              "            + ' to learn more about interactive tables.';\n",
              "          element.innerHTML = '';\n",
              "          dataTable['output_type'] = 'display_data';\n",
              "          await google.colab.output.renderOutput(dataTable, element);\n",
              "          const docLink = document.createElement('div');\n",
              "          docLink.innerHTML = docLinkHtml;\n",
              "          element.appendChild(docLink);\n",
              "        }\n",
              "      </script>\n",
              "    </div>\n",
              "  </div>\n",
              "  "
            ]
          },
          "metadata": {},
          "execution_count": 21
        }
      ]
    },
    {
      "cell_type": "markdown",
      "source": [
        "**Observations**\n",
        "- They also corresponds to very different bike rental counts, suggests that we can group different bike rental counts with these variables\n",
        "- For example, larger average solar radiation, rainfall and snowfall all corespond to larger average bike counts\n",
        "- The clusters are not balanced, with the highest bike count group 3 times as large as the others."
      ],
      "metadata": {
        "id": "KX2gluw8U8Jc"
      }
    },
    {
      "cell_type": "markdown",
      "source": [
        "### **PCA**"
      ],
      "metadata": {
        "id": "CAyXZJsbIKii"
      }
    },
    {
      "cell_type": "code",
      "source": [
        "# reduce the dimensionality of the data to 2 dimensions using PCA\n",
        "pca = PCA(n_components=3)\n",
        "data_pca = pca.fit_transform(X_train.iloc[:,:-3])\n",
        "components = pca.components_\n",
        "\n",
        "# plot the reduced data with a different color for each cluster\n",
        "# plt.scatter(data_pca[:,0], data_pca[:,1], c=clusters)\n",
        "# plt.title('Clustered Data (PCA)')\n",
        "# plt.xlabel('PC1')\n",
        "# plt.ylabel('PC2')\n",
        "# plt.show()\n",
        "pd.DataFrame(components, columns = X_train.columns[:-3])"
      ],
      "metadata": {
        "colab": {
          "base_uri": "https://localhost:8080/",
          "height": 143
        },
        "id": "vL1a5rKhIJ7d",
        "outputId": "167a741e-6b69-400a-fa7b-242f75e66621"
      },
      "execution_count": null,
      "outputs": [
        {
          "output_type": "execute_result",
          "data": {
            "text/plain": [
              "       Hour  Temperature  Humidity  Wind_Speed  Visibility  Solar_Radiation  \\\n",
              "0 -0.001533    -0.003482  0.016402   -0.000324   -0.999858        -0.000243   \n",
              "1  0.135667    -0.017323 -0.990044    0.013995   -0.016401         0.024130   \n",
              "2 -0.583118    -0.808419 -0.066918   -0.030149    0.002627        -0.030270   \n",
              "\n",
              "   Rainfall  Snowfall  \n",
              "0  0.000262  0.000170  \n",
              "1 -0.007138 -0.002983  \n",
              "2 -0.009356  0.005923  "
            ],
            "text/html": [
              "\n",
              "  <div id=\"df-0318192e-0ace-438f-9d98-654deaf68181\">\n",
              "    <div class=\"colab-df-container\">\n",
              "      <div>\n",
              "<style scoped>\n",
              "    .dataframe tbody tr th:only-of-type {\n",
              "        vertical-align: middle;\n",
              "    }\n",
              "\n",
              "    .dataframe tbody tr th {\n",
              "        vertical-align: top;\n",
              "    }\n",
              "\n",
              "    .dataframe thead th {\n",
              "        text-align: right;\n",
              "    }\n",
              "</style>\n",
              "<table border=\"1\" class=\"dataframe\">\n",
              "  <thead>\n",
              "    <tr style=\"text-align: right;\">\n",
              "      <th></th>\n",
              "      <th>Hour</th>\n",
              "      <th>Temperature</th>\n",
              "      <th>Humidity</th>\n",
              "      <th>Wind_Speed</th>\n",
              "      <th>Visibility</th>\n",
              "      <th>Solar_Radiation</th>\n",
              "      <th>Rainfall</th>\n",
              "      <th>Snowfall</th>\n",
              "    </tr>\n",
              "  </thead>\n",
              "  <tbody>\n",
              "    <tr>\n",
              "      <th>0</th>\n",
              "      <td>-0.001533</td>\n",
              "      <td>-0.003482</td>\n",
              "      <td>0.016402</td>\n",
              "      <td>-0.000324</td>\n",
              "      <td>-0.999858</td>\n",
              "      <td>-0.000243</td>\n",
              "      <td>0.000262</td>\n",
              "      <td>0.000170</td>\n",
              "    </tr>\n",
              "    <tr>\n",
              "      <th>1</th>\n",
              "      <td>0.135667</td>\n",
              "      <td>-0.017323</td>\n",
              "      <td>-0.990044</td>\n",
              "      <td>0.013995</td>\n",
              "      <td>-0.016401</td>\n",
              "      <td>0.024130</td>\n",
              "      <td>-0.007138</td>\n",
              "      <td>-0.002983</td>\n",
              "    </tr>\n",
              "    <tr>\n",
              "      <th>2</th>\n",
              "      <td>-0.583118</td>\n",
              "      <td>-0.808419</td>\n",
              "      <td>-0.066918</td>\n",
              "      <td>-0.030149</td>\n",
              "      <td>0.002627</td>\n",
              "      <td>-0.030270</td>\n",
              "      <td>-0.009356</td>\n",
              "      <td>0.005923</td>\n",
              "    </tr>\n",
              "  </tbody>\n",
              "</table>\n",
              "</div>\n",
              "      <button class=\"colab-df-convert\" onclick=\"convertToInteractive('df-0318192e-0ace-438f-9d98-654deaf68181')\"\n",
              "              title=\"Convert this dataframe to an interactive table.\"\n",
              "              style=\"display:none;\">\n",
              "        \n",
              "  <svg xmlns=\"http://www.w3.org/2000/svg\" height=\"24px\"viewBox=\"0 0 24 24\"\n",
              "       width=\"24px\">\n",
              "    <path d=\"M0 0h24v24H0V0z\" fill=\"none\"/>\n",
              "    <path d=\"M18.56 5.44l.94 2.06.94-2.06 2.06-.94-2.06-.94-.94-2.06-.94 2.06-2.06.94zm-11 1L8.5 8.5l.94-2.06 2.06-.94-2.06-.94L8.5 2.5l-.94 2.06-2.06.94zm10 10l.94 2.06.94-2.06 2.06-.94-2.06-.94-.94-2.06-.94 2.06-2.06.94z\"/><path d=\"M17.41 7.96l-1.37-1.37c-.4-.4-.92-.59-1.43-.59-.52 0-1.04.2-1.43.59L10.3 9.45l-7.72 7.72c-.78.78-.78 2.05 0 2.83L4 21.41c.39.39.9.59 1.41.59.51 0 1.02-.2 1.41-.59l7.78-7.78 2.81-2.81c.8-.78.8-2.07 0-2.86zM5.41 20L4 18.59l7.72-7.72 1.47 1.35L5.41 20z\"/>\n",
              "  </svg>\n",
              "      </button>\n",
              "      \n",
              "  <style>\n",
              "    .colab-df-container {\n",
              "      display:flex;\n",
              "      flex-wrap:wrap;\n",
              "      gap: 12px;\n",
              "    }\n",
              "\n",
              "    .colab-df-convert {\n",
              "      background-color: #E8F0FE;\n",
              "      border: none;\n",
              "      border-radius: 50%;\n",
              "      cursor: pointer;\n",
              "      display: none;\n",
              "      fill: #1967D2;\n",
              "      height: 32px;\n",
              "      padding: 0 0 0 0;\n",
              "      width: 32px;\n",
              "    }\n",
              "\n",
              "    .colab-df-convert:hover {\n",
              "      background-color: #E2EBFA;\n",
              "      box-shadow: 0px 1px 2px rgba(60, 64, 67, 0.3), 0px 1px 3px 1px rgba(60, 64, 67, 0.15);\n",
              "      fill: #174EA6;\n",
              "    }\n",
              "\n",
              "    [theme=dark] .colab-df-convert {\n",
              "      background-color: #3B4455;\n",
              "      fill: #D2E3FC;\n",
              "    }\n",
              "\n",
              "    [theme=dark] .colab-df-convert:hover {\n",
              "      background-color: #434B5C;\n",
              "      box-shadow: 0px 1px 3px 1px rgba(0, 0, 0, 0.15);\n",
              "      filter: drop-shadow(0px 1px 2px rgba(0, 0, 0, 0.3));\n",
              "      fill: #FFFFFF;\n",
              "    }\n",
              "  </style>\n",
              "\n",
              "      <script>\n",
              "        const buttonEl =\n",
              "          document.querySelector('#df-0318192e-0ace-438f-9d98-654deaf68181 button.colab-df-convert');\n",
              "        buttonEl.style.display =\n",
              "          google.colab.kernel.accessAllowed ? 'block' : 'none';\n",
              "\n",
              "        async function convertToInteractive(key) {\n",
              "          const element = document.querySelector('#df-0318192e-0ace-438f-9d98-654deaf68181');\n",
              "          const dataTable =\n",
              "            await google.colab.kernel.invokeFunction('convertToInteractive',\n",
              "                                                     [key], {});\n",
              "          if (!dataTable) return;\n",
              "\n",
              "          const docLinkHtml = 'Like what you see? Visit the ' +\n",
              "            '<a target=\"_blank\" href=https://colab.research.google.com/notebooks/data_table.ipynb>data table notebook</a>'\n",
              "            + ' to learn more about interactive tables.';\n",
              "          element.innerHTML = '';\n",
              "          dataTable['output_type'] = 'display_data';\n",
              "          await google.colab.output.renderOutput(dataTable, element);\n",
              "          const docLink = document.createElement('div');\n",
              "          docLink.innerHTML = docLinkHtml;\n",
              "          element.appendChild(docLink);\n",
              "        }\n",
              "      </script>\n",
              "    </div>\n",
              "  </div>\n",
              "  "
            ]
          },
          "metadata": {},
          "execution_count": 64
        }
      ]
    },
    {
      "cell_type": "code",
      "source": [],
      "metadata": {
        "id": "8tMOPNQeVzFB"
      },
      "execution_count": null,
      "outputs": []
    },
    {
      "cell_type": "markdown",
      "source": [
        "****"
      ],
      "metadata": {
        "id": "wgPuDhkNh47-"
      }
    },
    {
      "cell_type": "markdown",
      "source": [
        "After consideration, we need to at least perform some transformations on Y to avoid model assumption violations. We also tried other distribution assumptions"
      ],
      "metadata": {
        "id": "k0JZX4O8inh8"
      }
    },
    {
      "cell_type": "markdown",
      "source": [
        "## **Standardization**"
      ],
      "metadata": {
        "id": "koRerS-SBvXC"
      }
    },
    {
      "cell_type": "markdown",
      "source": [
        "- Linear and GLM are sensitive to non-standardized data, such data can be bad to performanceW"
      ],
      "metadata": {
        "id": "ECw_0V5EByjh"
      }
    },
    {
      "cell_type": "code",
      "source": [
        "from sklearn.model_selection import train_test_split\n",
        "from sklearn.preprocessing import StandardScaler\n",
        "\n",
        "# Split data into training and testing sets\n",
        "X_train_sd, X_test_sd, y_train_sd, y_test_sd = train_test_split(df.drop(columns = ['Bike', 'Dew_point_temperature'], axis=1),\n",
        "                                                    df['Bike'], test_size=0.25, random_state=42)\n",
        "\n",
        "# Standardize the data\n",
        "scaler = StandardScaler()\n",
        "X_train_sd = pd.DataFrame(scaler.fit_transform(X_train_sd), index = X_train.index, columns = X_train.columns)\n",
        "X_test_sd = pd.DataFrame(scaler.fit_transform(X_test_sd), index = X_test.index, columns = X_train.columns)\n",
        "\n",
        "X_train_sd = pd.concat([X_train_sd.drop(columns = ['Holiday', 'Weekday'], axis=1), X_train['Holiday'], X_train_sd['Weekday']], axis = 1)\n",
        "X_test_sd = pd.concat([X_test_sd.drop(columns = ['Holiday', 'Weekday'], axis=1), X_test['Holiday'], X_test_sd['Weekday']], axis = 1)"
      ],
      "metadata": {
        "id": "FNC9j5f6Byqa"
      },
      "execution_count": 4,
      "outputs": []
    },
    {
      "cell_type": "code",
      "source": [
        "import statsmodels.api as sm\n",
        "\n",
        "# add a constant\n",
        "X_train_sd_constant = sm.add_constant(X_train_sd) # add an intercept column to the dataset\n",
        "X_test_sd_constant = sm.add_constant(X_test_sd) # add an intercept column to the dataset"
      ],
      "metadata": {
        "id": "j7hEbuuJBysv"
      },
      "execution_count": 5,
      "outputs": []
    },
    {
      "cell_type": "markdown",
      "source": [
        "## **Adding Polynomial Terms**"
      ],
      "metadata": {
        "id": "SKrRCTKG9JGG"
      }
    },
    {
      "cell_type": "code",
      "source": [
        "X_poly = X_train_constant\n",
        "X_poly['Hour2'] = X_poly['Hour'] ** 2\n",
        "X_poly['Hour3'] = X_poly['Hour'] ** 3\n",
        "X_poly['Hour4'] = X_poly['Hour'] ** 4\n",
        "X_poly['Hour5'] = X_poly['Hour'] ** 5\n",
        "X_poly['Hour6'] = X_poly['Hour'] ** 6\n",
        "X_poly['Hour7'] = X_poly['Hour'] ** 7\n",
        "X_poly['Hour8'] = X_poly['Hour'] ** 8\n",
        "X_poly['Humidity2'] = X_poly['Humidity'] ** 2\n",
        "X_poly['Humidity3'] = X_poly['Humidity'] ** 3\n",
        "X_poly['Humidity4'] = X_poly['Humidity'] ** 4\n",
        "X_poly['Weekday2'] = X_poly['Weekday'] ** 2\n",
        "X_poly['Weekday3'] = X_poly['Weekday'] ** 3\n",
        "X_poly['Rainfall2'] = X_poly['Rainfall'] ** 2\n",
        "X_poly['Rainfall3'] = X_poly['Rainfall'] ** 3\n",
        "X_poly['Snowfall2'] = X_poly['Snowfall'] ** 2\n",
        "X_poly['Snowfall3'] = X_poly['Snowfall'] ** 3\n",
        "X_poly['Visibility2'] = X_poly['Visibility'] ** 2\n",
        "X_poly['Visibility3'] = X_poly['Visibility'] ** 3\n",
        "X_poly['Temperature2'] = X_poly['Temperature'] ** 2\n",
        "X_poly['Temperature3'] = X_poly['Temperature'] ** 3\n",
        "X_poly['Solar_Radiation2'] = X_poly['Solar_Radiation'] ** 2\n",
        "X_poly['Solar_Radiation3'] = X_poly['Solar_Radiation'] ** 3\n",
        "X_poly['Wind_Speed2'] = X_poly['Wind_Speed'] ** 2\n",
        "X_poly['Wind_Speed3'] = X_poly['Wind_Speed'] ** 3"
      ],
      "metadata": {
        "id": "4ZXy6zXY9NO_"
      },
      "execution_count": null,
      "outputs": []
    },
    {
      "cell_type": "code",
      "source": [
        "X_poly_test = X_test_constant\n",
        "X_poly_test['Hour2'] = X_poly_test['Hour'] ** 2\n",
        "X_poly_test['Hour3'] = X_poly_test['Hour'] ** 3\n",
        "X_poly_test['Hour4'] = X_poly_test['Hour'] ** 4\n",
        "X_poly_test['Hour5'] = X_poly_test['Hour'] ** 5\n",
        "X_poly_test['Hour6'] = X_poly_test['Hour'] ** 6\n",
        "X_poly_test['Hour7'] = X_poly_test['Hour'] ** 7\n",
        "X_poly_test['Hour8'] = X_poly_test['Hour'] ** 8\n",
        "X_poly_test['Humidity2'] = X_poly_test['Humidity'] ** 2\n",
        "X_poly_test['Humidity3'] = X_poly_test['Humidity'] ** 3\n",
        "X_poly_test['Humidity4'] = X_poly_test['Humidity'] ** 4\n",
        "X_poly_test['Weekday2'] = X_poly_test['Weekday'] ** 2\n",
        "X_poly_test['Weekday3'] = X_poly_test['Weekday'] ** 3\n",
        "X_poly_test['Rainfall2'] = X_poly_test['Rainfall'] ** 2\n",
        "X_poly_test['Rainfall3'] = X_poly_test['Rainfall'] ** 3\n",
        "X_poly_test['Snowfall2'] = X_poly_test['Snowfall'] ** 2\n",
        "X_poly_test['Snowfall3'] = X_poly_test['Snowfall'] ** 3\n",
        "X_poly_test['Visibility2'] = X_poly_test['Visibility'] ** 2\n",
        "X_poly_test['Visibility3'] = X_poly_test['Visibility'] ** 3\n",
        "X_poly_test['Temperature2'] = X_poly_test['Temperature'] ** 2\n",
        "X_poly_test['Temperature3'] = X_poly_test['Temperature'] ** 3\n",
        "X_poly_test['Solar_Radiation2'] = X_poly_test['Solar_Radiation'] ** 2\n",
        "X_poly_test['Solar_Radiation3'] = X_poly_test['Solar_Radiation'] ** 3\n",
        "X_poly_test['Wind_Speed2'] = X_poly_test['Wind_Speed'] ** 2\n",
        "X_poly_test['Wind_Speed3'] = X_poly_test['Wind_Speed'] ** 3"
      ],
      "metadata": {
        "id": "pU7umpxv9NWH"
      },
      "execution_count": null,
      "outputs": []
    },
    {
      "cell_type": "markdown",
      "source": [
        "## **Linear Regression**"
      ],
      "metadata": {
        "id": "SzhlGBWilMWV"
      }
    },
    {
      "cell_type": "code",
      "source": [
        "from sklearn.linear_model import LinearRegression\n",
        "import statsmodels.api as sm\n",
        "\n",
        "# fit a linear regression model using sklearn\n",
        "model = LinearRegression().fit(X_train_constant, y_train)\n",
        "\n",
        "# create a summary table using statsmodels\n",
        "est = sm.OLS(y_train, X_train_constant).fit() # fit a linear regression model using statsmodels\n",
        "summary = est.summary() # create a summary table\n",
        "\n",
        "# print the summary table\n",
        "print(summary)"
      ],
      "metadata": {
        "colab": {
          "base_uri": "https://localhost:8080/"
        },
        "id": "w8o4tYqCy8PI",
        "outputId": "04fa8694-5fc3-416c-e9c9-b398389526b8"
      },
      "execution_count": null,
      "outputs": [
        {
          "output_type": "stream",
          "name": "stdout",
          "text": [
            "                            OLS Regression Results                            \n",
            "==============================================================================\n",
            "Dep. Variable:                   Bike   R-squared:                       0.521\n",
            "Model:                            OLS   Adj. R-squared:                  0.518\n",
            "Method:                 Least Squares   F-statistic:                     157.0\n",
            "Date:                Mon, 01 May 2023   Prob (F-statistic):          2.36e-222\n",
            "Time:                        18:47:35   Log-Likelihood:                -10872.\n",
            "No. Observations:                1452   AIC:                         2.177e+04\n",
            "Df Residuals:                    1441   BIC:                         2.183e+04\n",
            "Df Model:                          10                                         \n",
            "Covariance Type:            nonrobust                                         \n",
            "===================================================================================\n",
            "                      coef    std err          t      P>|t|      [0.025      0.975]\n",
            "-----------------------------------------------------------------------------------\n",
            "const             973.3612     88.750     10.967      0.000     799.268    1147.454\n",
            "Hour               33.5375      1.853     18.098      0.000      29.902      37.173\n",
            "Temperature        34.7981      2.015     17.270      0.000      30.846      38.751\n",
            "Humidity          -12.0745      0.926    -13.035      0.000     -13.892     -10.258\n",
            "Wind_Speed         -6.2858     13.967     -0.450      0.653     -33.684      21.112\n",
            "Visibility         -0.0051      0.025     -0.201      0.840      -0.055       0.045\n",
            "Solar_Radiation  -125.8712     20.006     -6.292      0.000    -165.115     -86.628\n",
            "Rainfall          -85.4988     15.474     -5.525      0.000    -115.852     -55.145\n",
            "Snowfall           22.8496     21.332      1.071      0.284     -18.996      64.695\n",
            "Holiday          -206.2665     54.009     -3.819      0.000    -312.212    -100.321\n",
            "Weekday           -23.8359      5.726     -4.163      0.000     -35.068     -12.604\n",
            "==============================================================================\n",
            "Omnibus:                      249.204   Durbin-Watson:                   1.983\n",
            "Prob(Omnibus):                  0.000   Jarque-Bera (JB):              471.740\n",
            "Skew:                           1.036   Prob(JB):                    3.66e-103\n",
            "Kurtosis:                       4.871   Cond. No.                     1.30e+04\n",
            "==============================================================================\n",
            "\n",
            "Notes:\n",
            "[1] Standard Errors assume that the covariance matrix of the errors is correctly specified.\n",
            "[2] The condition number is large, 1.3e+04. This might indicate that there are\n",
            "strong multicollinearity or other numerical problems.\n"
          ]
        }
      ]
    },
    {
      "cell_type": "markdown",
      "source": [
        "**Observations**\n",
        "- The model has a low $R^2$"
      ],
      "metadata": {
        "id": "P6uOM5auUmh9"
      }
    },
    {
      "cell_type": "markdown",
      "source": [
        "### **Diagnostics**"
      ],
      "metadata": {
        "id": "uvoHL7dBQxUZ"
      }
    },
    {
      "cell_type": "markdown",
      "source": [
        "#### **Residuals**"
      ],
      "metadata": {
        "id": "fSIKwEoARL3b"
      }
    },
    {
      "cell_type": "code",
      "source": [
        "from sklearn.metrics import mean_squared_error, r2_score\n",
        "import matplotlib.pyplot as plt\n",
        "\n",
        "# calculate the predicted y values\n",
        "y_pred = model.predict(X_train_constant)\n",
        "\n",
        "# calculate residuals\n",
        "residuals = y_train - y_pred\n",
        "\n",
        "# plot residuals vs fitted values\n",
        "plt.scatter(y_pred, residuals)\n",
        "plt.axhline(y=0, color='r', linestyle='--')\n",
        "plt.title('Homoscedasticity plot')\n",
        "plt.xlabel('Fitted values')\n",
        "plt.ylabel('Residuals')\n",
        "plt.show()"
      ],
      "metadata": {
        "colab": {
          "base_uri": "https://localhost:8080/",
          "height": 472
        },
        "id": "7C_nO4EpDioC",
        "outputId": "62763345-d839-46bd-8398-bc7dbb3dd5a0"
      },
      "execution_count": null,
      "outputs": [
        {
          "output_type": "display_data",
          "data": {
            "text/plain": [
              "<Figure size 640x480 with 1 Axes>"
            ],
            "image/png": "[encoded data removed]"
          },
          "metadata": {}
        }
      ]
    },
    {
      "cell_type": "markdown",
      "source": [
        "**Observations**\n",
        "- $y = -x$ line\n",
        "  - Model cannot predict small values for bike rentals\n",
        "  - Below shows that most below 100 values are predicted very large"
      ],
      "metadata": {
        "id": "5w6CB4b6QuzJ"
      }
    },
    {
      "cell_type": "code",
      "source": [
        "# Checking predictions of bike rental < 100\n",
        "y_pred[y_train<100]"
      ],
      "metadata": {
        "colab": {
          "base_uri": "https://localhost:8080/"
        },
        "id": "GArp0TE_Dit3",
        "outputId": "4549ea8e-e710-4031-a83d-866b63095c20"
      },
      "execution_count": null,
      "outputs": [
        {
          "output_type": "execute_result",
          "data": {
            "text/plain": [
              "array([ 564.07497704,  247.59866797,  -59.33683129,  549.36647093,\n",
              "        206.93764312,  503.70933156,  206.28438831,   97.04709818,\n",
              "        312.40562862,  768.53770772,  424.26050846,  416.01531667,\n",
              "        662.91770504,  131.8245262 ,  341.8125552 ,   -4.40220595,\n",
              "       1034.41943655,  437.9318584 ,   -2.91510855,  331.06827672,\n",
              "        -14.06649702,  892.56474803,  831.89076681,  381.79727749,\n",
              "       -656.23204777,  644.46693675,  506.36076462,  524.48216046,\n",
              "        301.2302147 ,  508.07529762, -653.09314492,  399.84408212,\n",
              "        224.24941195,  857.22753467,  680.28927053,  478.17105231,\n",
              "        460.98585794,  493.37275235,  -24.03125357,  266.72455333,\n",
              "        536.83853505,  642.96227624,  856.94127133,  475.5505886 ,\n",
              "        557.75780863,  215.79313745,  -16.07759289,  825.19683769,\n",
              "        821.29080201,  296.97433702,  391.98872616,  775.74082679,\n",
              "        413.153966  , -280.39996481,  259.40718372,   35.40466961,\n",
              "         68.80835692,  775.52733772,  643.87420198,  756.32775734,\n",
              "        374.55094161,  493.81214942,   73.7338075 ])"
            ]
          },
          "metadata": {},
          "execution_count": 130
        }
      ]
    },
    {
      "cell_type": "markdown",
      "source": [
        "#### **Outliers, Standardized Residuals, VIF, Normality**"
      ],
      "metadata": {
        "id": "a1IQGbfhSnza"
      }
    },
    {
      "cell_type": "markdown",
      "source": [
        "**Check predictors vs. response**"
      ],
      "metadata": {
        "id": "pHLoDKeYagvF"
      }
    },
    {
      "cell_type": "code",
      "source": [
        "import matplotlib.pyplot as plt\n",
        "# Bike counts vs. Predictors\n",
        "# Plot residuals against predictor variable\n",
        "for col in X_train.columns:\n",
        "  plt.scatter(list(X_train_constant[col]), list(y_train))\n",
        "  plt.xlabel(col)\n",
        "  plt.ylabel('Bike count')\n",
        "  plt.show()"
      ],
      "metadata": {
        "id": "sXXrldf93hb_"
      },
      "execution_count": null,
      "outputs": []
    },
    {
      "cell_type": "markdown",
      "source": [
        "**Check predictors vs. residuals**"
      ],
      "metadata": {
        "id": "c_en6OIoa72h"
      }
    },
    {
      "cell_type": "code",
      "source": [
        "# Residuals vs. Predictors\n",
        "# Plot residuals against predictor variable\n",
        "for col in X_train.columns:\n",
        "  plt.scatter(list(X_train_constant[col]), list(residuals))\n",
        "  plt.xlabel(col)\n",
        "  plt.ylabel('Residuals')\n",
        "  plt.show()"
      ],
      "metadata": {
        "id": "sV6vJpka37Cr"
      },
      "execution_count": null,
      "outputs": []
    },
    {
      "cell_type": "markdown",
      "source": [
        "#### **Predictions**"
      ],
      "metadata": {
        "id": "vgZtWvu2qiBP"
      }
    },
    {
      "cell_type": "markdown",
      "source": [
        "- The **MSE** on testing data is about 167000"
      ],
      "metadata": {
        "id": "BSLf4IAiVuYs"
      }
    },
    {
      "cell_type": "code",
      "source": [
        "from sklearn.metrics import mean_squared_error\n",
        "y_pred = model.predict(X_test_constant)\n",
        "# Calculate the mean squared error of the predictions\n",
        "mse = mean_squared_error(y_test, y_pred)\n",
        "print(\"Mean squared error: \", mse)"
      ],
      "metadata": {
        "id": "yrJ4cwotqkR3",
        "colab": {
          "base_uri": "https://localhost:8080/"
        },
        "outputId": "d79ae2bf-be7a-4060-8e99-19c550388e7a"
      },
      "execution_count": null,
      "outputs": [
        {
          "output_type": "stream",
          "name": "stdout",
          "text": [
            "Mean squared error:  168710.6826132982\n"
          ]
        }
      ]
    },
    {
      "cell_type": "markdown",
      "source": [
        "- For bike rental counts less than 50, the model is very bad at predicting. (Large residuals)"
      ],
      "metadata": {
        "id": "N3bhEakbV_K2"
      }
    },
    {
      "cell_type": "code",
      "source": [
        "y_pred[y_test<50]"
      ],
      "metadata": {
        "id": "OZWM7A9-O2Wv",
        "colab": {
          "base_uri": "https://localhost:8080/"
        },
        "outputId": "0164726e-db6d-49ab-a86c-c333617eab53"
      },
      "execution_count": null,
      "outputs": [
        {
          "output_type": "execute_result",
          "data": {
            "text/plain": [
              "array([-116.36164286, -441.19799775,  618.80842226,  230.41557205,\n",
              "        351.60181371,  220.55393421,  -84.97241528,  280.65952735,\n",
              "       1679.4587995 ,  172.55386286])"
            ]
          },
          "metadata": {},
          "execution_count": 14
        }
      ]
    },
    {
      "cell_type": "markdown",
      "source": [
        "### **Conclusion**\n",
        "**Linear models is not sufficient as we have strictly non-negative y values**"
      ],
      "metadata": {
        "id": "bqLnCxYQhfdU"
      }
    },
    {
      "cell_type": "markdown",
      "source": [
        "## **Linear Regression with Standardized Data**"
      ],
      "metadata": {
        "id": "PzfhI9YkgakJ"
      }
    },
    {
      "cell_type": "markdown",
      "source": [
        "- Below the linear regression is performed on standardized data. $R^2$ and AIC/BIC, Log-likelihood and all the fit statistics shouldn't change."
      ],
      "metadata": {
        "id": "kJ3Laq4mgatl"
      }
    },
    {
      "cell_type": "code",
      "source": [
        "# fit a linear regression model using sklearn\n",
        "model = LinearRegression().fit(X_train_sd_constant, y_train)\n",
        "\n",
        "# create a summary table using statsmodels\n",
        "est = sm.OLS(y_train, X_train_sd_constant).fit() # fit a linear regression model using statsmodels\n",
        "summary = est.summary() # create a summary table\n",
        "\n",
        "print(summary)"
      ],
      "metadata": {
        "colab": {
          "base_uri": "https://localhost:8080/"
        },
        "id": "GsIChD-Xga-V",
        "outputId": "c79199af-8368-4577-e279-b270ce3616f7"
      },
      "execution_count": null,
      "outputs": [
        {
          "output_type": "stream",
          "name": "stdout",
          "text": [
            "                            OLS Regression Results                            \n",
            "==============================================================================\n",
            "Dep. Variable:                   Bike   R-squared:                       0.521\n",
            "Model:                            OLS   Adj. R-squared:                  0.518\n",
            "Method:                 Least Squares   F-statistic:                     157.0\n",
            "Date:                Sun, 23 Apr 2023   Prob (F-statistic):          2.36e-222\n",
            "Time:                        21:00:50   Log-Likelihood:                -10872.\n",
            "No. Observations:                1452   AIC:                         2.177e+04\n",
            "Df Residuals:                    1441   BIC:                         2.183e+04\n",
            "Df Model:                          10                                         \n",
            "Covariance Type:            nonrobust                                         \n",
            "===================================================================================\n",
            "                      coef    std err          t      P>|t|      [0.025      0.975]\n",
            "-----------------------------------------------------------------------------------\n",
            "const             937.5805     11.689     80.211      0.000     914.651     960.510\n",
            "Hour              232.2292     12.832     18.098      0.000     207.058     257.400\n",
            "Temperature       252.2476     14.606     17.270      0.000     223.597     280.899\n",
            "Humidity         -230.7838     17.704    -13.035      0.000    -265.513    -196.055\n",
            "Wind_Speed         -5.8250     12.943     -0.450      0.653     -31.214      19.564\n",
            "Visibility         -2.8951     14.378     -0.201      0.840     -31.099      25.309\n",
            "Solar_Radiation  -102.6290     16.312     -6.292      0.000    -134.626     -70.632\n",
            "Rainfall          -66.1098     11.965     -5.525      0.000     -89.580     -42.640\n",
            "Snowfall           12.9755     12.114      1.071      0.284     -10.787      36.738\n",
            "Holiday          -206.2665     54.009     -3.819      0.000    -312.212    -100.321\n",
            "Weekday           -48.3143     11.606     -4.163      0.000     -71.081     -25.548\n",
            "==============================================================================\n",
            "Omnibus:                      249.204   Durbin-Watson:                   1.983\n",
            "Prob(Omnibus):                  0.000   Jarque-Bera (JB):              471.740\n",
            "Skew:                           1.036   Prob(JB):                    3.66e-103\n",
            "Kurtosis:                       4.871   Cond. No.                         7.49\n",
            "==============================================================================\n",
            "\n",
            "Notes:\n",
            "[1] Standard Errors assume that the covariance matrix of the errors is correctly specified.\n"
          ]
        }
      ]
    },
    {
      "cell_type": "markdown",
      "source": [
        "#### **Predictions**"
      ],
      "metadata": {
        "id": "Zp3o4-Jgjf6c"
      }
    },
    {
      "cell_type": "markdown",
      "source": [
        "- The **MSE** on testing data is about 169692, which is worse than non-standardized data"
      ],
      "metadata": {
        "id": "PEciD_a7jf6d"
      }
    },
    {
      "cell_type": "code",
      "source": [
        "from sklearn.metrics import mean_squared_error\n",
        "y_pred = model.predict(X_test_sd_constant)\n",
        "# Calculate the mean squared error of the predictions\n",
        "mse = mean_squared_error(y_test, y_pred)\n",
        "print(\"Mean squared error: \", mse)"
      ],
      "metadata": {
        "colab": {
          "base_uri": "https://localhost:8080/"
        },
        "outputId": "62cc5e68-c542-4c7f-c7b8-9013f19f44a9",
        "id": "_vFIn-i-jf6d"
      },
      "execution_count": null,
      "outputs": [
        {
          "output_type": "stream",
          "name": "stdout",
          "text": [
            "Mean squared error:  169388.90195910347\n"
          ]
        }
      ]
    },
    {
      "cell_type": "markdown",
      "source": [
        "## **Penalized Linear Regression (Standardized Data)**"
      ],
      "metadata": {
        "id": "NS8xtd12pBja"
      }
    },
    {
      "cell_type": "markdown",
      "source": [
        "**Attempt to run penalized regression to counter non-linearity**"
      ],
      "metadata": {
        "id": "IUDX7XDHpGfL"
      }
    },
    {
      "cell_type": "code",
      "source": [
        "from sklearn.linear_model import ElasticNet\n",
        "\n",
        "# assuming X_train and y_train are your predictor and response variables for the training set\n",
        "# alpha and l1_ratio are hyperparameters controlling the strength of L1 and L2 regularization\n",
        "# alpha=0 corresponds to no regularization\n",
        "# l1_ratio=0 corresponds to pure L2 regularization\n",
        "# l1_ratio=1 corresponds to pure L1 regularization\n",
        "model = ElasticNet(alpha=0.1, l1_ratio=0.9)\n",
        "model.fit(X_train_sd_constant, y_train)"
      ],
      "metadata": {
        "colab": {
          "base_uri": "https://localhost:8080/",
          "height": 75
        },
        "id": "4Jfblv74pByP",
        "outputId": "c3bb270b-0b77-4597-b372-7a9185717a19"
      },
      "execution_count": null,
      "outputs": [
        {
          "output_type": "execute_result",
          "data": {
            "text/plain": [
              "ElasticNet(alpha=0.1, l1_ratio=0.9)"
            ],
            "text/html": [
              "<style>#sk-container-id-11 {color: black;background-color: white;}#sk-container-id-11 pre{padding: 0;}#sk-container-id-11 div.sk-toggleable {background-color: white;}#sk-container-id-11 label.sk-toggleable__label {cursor: pointer;display: block;width: 100%;margin-bottom: 0;padding: 0.3em;box-sizing: border-box;text-align: center;}#sk-container-id-11 label.sk-toggleable__label-arrow:before {content: \"▸\";float: left;margin-right: 0.25em;color: #696969;}#sk-container-id-11 label.sk-toggleable__label-arrow:hover:before {color: black;}#sk-container-id-11 div.sk-estimator:hover label.sk-toggleable__label-arrow:before {color: black;}#sk-container-id-11 div.sk-toggleable__content {max-height: 0;max-width: 0;overflow: hidden;text-align: left;background-color: #f0f8ff;}#sk-container-id-11 div.sk-toggleable__content pre {margin: 0.2em;color: black;border-radius: 0.25em;background-color: #f0f8ff;}#sk-container-id-11 input.sk-toggleable__control:checked~div.sk-toggleable__content {max-height: 200px;max-width: 100%;overflow: auto;}#sk-container-id-11 input.sk-toggleable__control:checked~label.sk-toggleable__label-arrow:before {content: \"▾\";}#sk-container-id-11 div.sk-estimator input.sk-toggleable__control:checked~label.sk-toggleable__label {background-color: #d4ebff;}#sk-container-id-11 div.sk-label input.sk-toggleable__control:checked~label.sk-toggleable__label {background-color: #d4ebff;}#sk-container-id-11 input.sk-hidden--visually {border: 0;clip: rect(1px 1px 1px 1px);clip: rect(1px, 1px, 1px, 1px);height: 1px;margin: -1px;overflow: hidden;padding: 0;position: absolute;width: 1px;}#sk-container-id-11 div.sk-estimator {font-family: monospace;background-color: #f0f8ff;border: 1px dotted black;border-radius: 0.25em;box-sizing: border-box;margin-bottom: 0.5em;}#sk-container-id-11 div.sk-estimator:hover {background-color: #d4ebff;}#sk-container-id-11 div.sk-parallel-item::after {content: \"\";width: 100%;border-bottom: 1px solid gray;flex-grow: 1;}#sk-container-id-11 div.sk-label:hover label.sk-toggleable__label {background-color: #d4ebff;}#sk-container-id-11 div.sk-serial::before {content: \"\";position: absolute;border-left: 1px solid gray;box-sizing: border-box;top: 0;bottom: 0;left: 50%;z-index: 0;}#sk-container-id-11 div.sk-serial {display: flex;flex-direction: column;align-items: center;background-color: white;padding-right: 0.2em;padding-left: 0.2em;position: relative;}#sk-container-id-11 div.sk-item {position: relative;z-index: 1;}#sk-container-id-11 div.sk-parallel {display: flex;align-items: stretch;justify-content: center;background-color: white;position: relative;}#sk-container-id-11 div.sk-item::before, #sk-container-id-11 div.sk-parallel-item::before {content: \"\";position: absolute;border-left: 1px solid gray;box-sizing: border-box;top: 0;bottom: 0;left: 50%;z-index: -1;}#sk-container-id-11 div.sk-parallel-item {display: flex;flex-direction: column;z-index: 1;position: relative;background-color: white;}#sk-container-id-11 div.sk-parallel-item:first-child::after {align-self: flex-end;width: 50%;}#sk-container-id-11 div.sk-parallel-item:last-child::after {align-self: flex-start;width: 50%;}#sk-container-id-11 div.sk-parallel-item:only-child::after {width: 0;}#sk-container-id-11 div.sk-dashed-wrapped {border: 1px dashed gray;margin: 0 0.4em 0.5em 0.4em;box-sizing: border-box;padding-bottom: 0.4em;background-color: white;}#sk-container-id-11 div.sk-label label {font-family: monospace;font-weight: bold;display: inline-block;line-height: 1.2em;}#sk-container-id-11 div.sk-label-container {text-align: center;}#sk-container-id-11 div.sk-container {/* jupyter's `normalize.less` sets `[hidden] { display: none; }` but bootstrap.min.css set `[hidden] { display: none !important; }` so we also need the `!important` here to be able to override the default hidden behavior on the sphinx rendered scikit-learn.org. See: https://github.com/scikit-learn/scikit-learn/issues/21755 */display: inline-block !important;position: relative;}#sk-container-id-11 div.sk-text-repr-fallback {display: none;}</style><div id=\"sk-container-id-11\" class=\"sk-top-container\"><div class=\"sk-text-repr-fallback\"><pre>ElasticNet(alpha=0.1, l1_ratio=0.9)</pre><b>In a Jupyter environment, please rerun this cell to show the HTML representation or trust the notebook. <br />On GitHub, the HTML representation is unable to render, please try loading this page with nbviewer.org.</b></div><div class=\"sk-container\" hidden><div class=\"sk-item\"><div class=\"sk-estimator sk-toggleable\"><input class=\"sk-toggleable__control sk-hidden--visually\" id=\"sk-estimator-id-11\" type=\"checkbox\" checked><label for=\"sk-estimator-id-11\" class=\"sk-toggleable__label sk-toggleable__label-arrow\">ElasticNet</label><div class=\"sk-toggleable__content\"><pre>ElasticNet(alpha=0.1, l1_ratio=0.9)</pre></div></div></div></div></div>"
            ]
          },
          "metadata": {},
          "execution_count": 91
        }
      ]
    },
    {
      "cell_type": "markdown",
      "source": [
        "### **Prediction**"
      ],
      "metadata": {
        "id": "GaXicBOijztB"
      }
    },
    {
      "cell_type": "markdown",
      "source": [
        "- **MSE** if not so different from linear regression"
      ],
      "metadata": {
        "id": "M9xOjZbf40WF"
      }
    },
    {
      "cell_type": "code",
      "source": [
        "from sklearn.metrics import mean_squared_error\n",
        "\n",
        "y_pred = model.predict(X_test_sd_constant)\n",
        "mse = mean_squared_error(y_test, y_pred)\n",
        "print(\"MSE:\", mse)\n",
        "\n",
        "from sklearn.metrics import r2_score\n",
        "\n",
        "y_pred = model.predict(X_test_sd_constant)\n",
        "r2 = r2_score(y_test, y_pred)\n",
        "print(\"R2 score:\", r2)"
      ],
      "metadata": {
        "colab": {
          "base_uri": "https://localhost:8080/"
        },
        "id": "fm4NDhbEJpfg",
        "outputId": "af2d90da-8ba6-4430-eb8a-ae3978794a07"
      },
      "execution_count": null,
      "outputs": [
        {
          "output_type": "stream",
          "name": "stdout",
          "text": [
            "MSE: 169386.25143764747\n",
            "R2 score: 0.5296481141529321\n"
          ]
        }
      ]
    },
    {
      "cell_type": "markdown",
      "source": [
        "## **Log-transformation of Y**"
      ],
      "metadata": {
        "id": "u2wg9LNPixDq"
      }
    },
    {
      "cell_type": "markdown",
      "source": [
        "- Since Y is strictly non-negative, we might want to perform a log-transformation on Y"
      ],
      "metadata": {
        "id": "r5qLENtbj9Lq"
      }
    },
    {
      "cell_type": "code",
      "source": [],
      "metadata": {
        "id": "PWMFNH2wo7HJ"
      },
      "execution_count": null,
      "outputs": []
    },
    {
      "cell_type": "markdown",
      "source": [
        "****"
      ],
      "metadata": {
        "id": "Haf6WQq9ixTa"
      }
    },
    {
      "cell_type": "markdown",
      "source": [
        "## **GLM**"
      ],
      "metadata": {
        "id": "omAmYjyah6A1"
      }
    },
    {
      "cell_type": "markdown",
      "source": [
        "- To better fit the non-negative response data, we can try GLM which assumes different distributions for Y. "
      ],
      "metadata": {
        "id": "9HOAzETXldc0"
      }
    },
    {
      "cell_type": "markdown",
      "source": [
        "### **Poisson vs. Negative Binomial**\n"
      ],
      "metadata": {
        "id": "cnleen7EiHge"
      }
    },
    {
      "cell_type": "markdown",
      "source": [
        "- Both Poisson and Negative Binomial distribution are non-negative. Poisson assumes mean=variance, so in this case Negative Binomial seems to be more suitable"
      ],
      "metadata": {
        "id": "hxeVnKPVwiSr"
      }
    },
    {
      "cell_type": "code",
      "source": [
        "import numpy as np"
      ],
      "metadata": {
        "id": "eD9mFdE41Fez"
      },
      "execution_count": null,
      "outputs": []
    },
    {
      "cell_type": "code",
      "source": [
        "# briefly check mean and variance\n",
        "print('mean', np.mean(y_train), 'variance', np.var(y_train))"
      ],
      "metadata": {
        "colab": {
          "base_uri": "https://localhost:8080/"
        },
        "id": "seL0xR4Gh5O7",
        "outputId": "fb2814d2-a9fc-475f-f7bb-9f60e48f910f"
      },
      "execution_count": null,
      "outputs": [
        {
          "output_type": "stream",
          "name": "stdout",
          "text": [
            "mean 932.3066494512589 variance 386103.7813696001\n"
          ]
        }
      ]
    },
    {
      "cell_type": "markdown",
      "source": [
        "- mean and variance are very different"
      ],
      "metadata": {
        "id": "Amy-17Qc2Eeq"
      }
    },
    {
      "cell_type": "code",
      "source": [
        "import statsmodels.api as sm\n",
        "import numpy as np\n",
        "\n",
        "# assume y is your count response variable and X is your predictor variables\n",
        "# fit a Poisson regression model\n",
        "poisson_model = sm.GLM(y_train, X_train_constant, family=sm.families.Poisson())\n",
        "poisson_results = poisson_model.fit()\n",
        "\n",
        "# calculate dispersion statistic for Poisson model\n",
        "poisson_dispersion = poisson_results.deviance / poisson_results.df_resid\n",
        "\n",
        "# fit a negative binomial regression model\n",
        "negbin_model = sm.GLM(y_train, X_train_constant, family=sm.families.NegativeBinomial())\n",
        "negbin_results = negbin_model.fit()\n",
        "\n",
        "# calculate dispersion statistic for negative binomial model\n",
        "negbin_dispersion = negbin_results.deviance / negbin_results.df_resid\n",
        "\n",
        "print(poisson_dispersion,negbin_dispersion)"
      ],
      "metadata": {
        "colab": {
          "base_uri": "https://localhost:8080/"
        },
        "id": "osXMnzgC0q-2",
        "outputId": "911bdeb1-8ed3-4124-807b-7e5033c284f5"
      },
      "execution_count": null,
      "outputs": [
        {
          "output_type": "stream",
          "name": "stdout",
          "text": [
            "196.53310644402495 0.3765866578327057\n"
          ]
        }
      ]
    },
    {
      "cell_type": "code",
      "source": [
        "poisson_results.summary()"
      ],
      "metadata": {
        "id": "pn7qkpHa4jKz"
      },
      "execution_count": null,
      "outputs": []
    },
    {
      "cell_type": "code",
      "source": [
        "negbin_results.summary()"
      ],
      "metadata": {
        "id": "Dqr_LVFDl-jz"
      },
      "execution_count": null,
      "outputs": []
    },
    {
      "cell_type": "markdown",
      "source": [
        "**Observations**\n",
        "- Negative binomial is a more appropriate model, but it performs poorly due to Pseudo $R^2$\n",
        "- Need to perform variable selection, and add polynomials to tune performance"
      ],
      "metadata": {
        "id": "jOhs4BE6mmTV"
      }
    },
    {
      "cell_type": "markdown",
      "source": [
        "### **Fit a polynomial for Negative-Binomial Model (Raw data performs better than standardized)**"
      ],
      "metadata": {
        "id": "zokO1JvFdm_w"
      }
    },
    {
      "cell_type": "code",
      "source": [
        "# fit a negative binomial regression model\n",
        "negbin_model = sm.GLM(y_train, X_poly, family=sm.families.NegativeBinomial())\n",
        "negbin_results = negbin_model.fit()\n",
        "\n",
        "# calculate dispersion statistic for negative binomial model\n",
        "negbin_dispersion = negbin_results.deviance / negbin_results.df_resid\n",
        "negbin_results.summary()"
      ],
      "metadata": {
        "colab": {
          "base_uri": "https://localhost:8080/",
          "height": 980
        },
        "id": "v7LRDCEsdnJa",
        "outputId": "d84f5445-8c83-4109-e3be-c7ac87e3eeef"
      },
      "execution_count": null,
      "outputs": [
        {
          "output_type": "execute_result",
          "data": {
            "text/plain": [
              "<class 'statsmodels.iolib.summary.Summary'>\n",
              "\"\"\"\n",
              "                 Generalized Linear Model Regression Results                  \n",
              "==============================================================================\n",
              "Dep. Variable:                   Bike   No. Observations:                 1452\n",
              "Model:                            GLM   Df Residuals:                     1417\n",
              "Model Family:        NegativeBinomial   Df Model:                           34\n",
              "Link Function:                    Log   Scale:                          1.0000\n",
              "Method:                          IRLS   Log-Likelihood:                -11036.\n",
              "Date:                Sun, 23 Apr 2023   Deviance:                       285.09\n",
              "Time:                        22:52:53   Pearson chi2:                     264.\n",
              "No. Iterations:                    19   Pseudo R-squ. (CS):             0.3722\n",
              "Covariance Type:            nonrobust                                         \n",
              "====================================================================================\n",
              "                       coef    std err          z      P>|z|      [0.025      0.975]\n",
              "------------------------------------------------------------------------------------\n",
              "const                3.8491      1.289      2.985      0.003       1.322       6.376\n",
              "Hour                 1.2213      0.316      3.867      0.000       0.602       1.840\n",
              "Temperature         -0.0056      0.034     -0.163      0.871      -0.073       0.062\n",
              "Humidity             0.2195      0.099      2.213      0.027       0.025       0.414\n",
              "Wind_Speed          -0.1762      0.188     -0.936      0.349      -0.545       0.193\n",
              "Visibility           0.0009      0.001      0.887      0.375      -0.001       0.003\n",
              "Solar_Radiation     -0.1409      0.388     -0.364      0.716      -0.901       0.619\n",
              "Rainfall            -0.7986      0.168     -4.749      0.000      -1.128      -0.469\n",
              "Snowfall            -0.0746      0.343     -0.218      0.828      -0.746       0.597\n",
              "Holiday             -0.2618      0.130     -2.012      0.044      -0.517      -0.007\n",
              "Weekday              0.2794      0.208      1.346      0.178      -0.127       0.686\n",
              "Hour2               -1.5375      0.240     -6.405      0.000      -2.008      -1.067\n",
              "Hour3                0.5355      0.076      7.033      0.000       0.386       0.685\n",
              "Hour4               -0.0855      0.012     -6.929      0.000      -0.110      -0.061\n",
              "Hour5                0.0073      0.001      6.565      0.000       0.005       0.009\n",
              "Hour6               -0.0003   5.59e-05     -6.121      0.000      -0.000      -0.000\n",
              "Hour7              8.39e-06   1.48e-06      5.671      0.000    5.49e-06    1.13e-05\n",
              "Hour8            -8.395e-08    1.6e-08     -5.246      0.000   -1.15e-07   -5.26e-08\n",
              "Humidity2           -0.0075      0.003     -2.608      0.009      -0.013      -0.002\n",
              "Humidity3            0.0001   3.51e-05      2.974      0.003    3.55e-05       0.000\n",
              "Humidity4        -5.077e-07   1.51e-07     -3.354      0.001   -8.04e-07   -2.11e-07\n",
              "Weekday2            -0.0830      0.059     -1.398      0.162      -0.199       0.033\n",
              "Weekday3             0.0065      0.005      1.317      0.188      -0.003       0.016\n",
              "Rainfall2            0.1039      0.035      2.964      0.003       0.035       0.173\n",
              "Rainfall3           -0.0038      0.002     -2.510      0.012      -0.007      -0.001\n",
              "Snowfall2            0.0137      0.133      0.103      0.918      -0.247       0.274\n",
              "Snowfall3           -0.0010      0.011     -0.089      0.929      -0.023       0.021\n",
              "Visibility2      -7.299e-07   9.43e-07     -0.774      0.439   -2.58e-06    1.12e-06\n",
              "Visibility3       1.777e-10    2.6e-10      0.683      0.495   -3.32e-10    6.88e-10\n",
              "Temperature2         0.0038      0.003      1.411      0.158      -0.001       0.009\n",
              "Temperature3     -9.843e-05   6.26e-05     -1.573      0.116      -0.000    2.42e-05\n",
              "Solar_Radiation2     0.1209      0.307      0.394      0.694      -0.481       0.722\n",
              "Solar_Radiation3    -0.0147      0.072     -0.203      0.839      -0.156       0.127\n",
              "Wind_Speed2          0.0461      0.094      0.488      0.625      -0.139       0.231\n",
              "Wind_Speed3         -0.0031      0.013     -0.228      0.819      -0.030       0.023\n",
              "====================================================================================\n",
              "\"\"\""
            ],
            "text/html": [
              "<table class=\"simpletable\">\n",
              "<caption>Generalized Linear Model Regression Results</caption>\n",
              "<tr>\n",
              "  <th>Dep. Variable:</th>         <td>Bike</td>       <th>  No. Observations:  </th>  <td>  1452</td> \n",
              "</tr>\n",
              "<tr>\n",
              "  <th>Model:</th>                  <td>GLM</td>       <th>  Df Residuals:      </th>  <td>  1417</td> \n",
              "</tr>\n",
              "<tr>\n",
              "  <th>Model Family:</th>    <td>NegativeBinomial</td> <th>  Df Model:          </th>  <td>    34</td> \n",
              "</tr>\n",
              "<tr>\n",
              "  <th>Link Function:</th>          <td>Log</td>       <th>  Scale:             </th> <td>  1.0000</td>\n",
              "</tr>\n",
              "<tr>\n",
              "  <th>Method:</th>                <td>IRLS</td>       <th>  Log-Likelihood:    </th> <td> -11036.</td>\n",
              "</tr>\n",
              "<tr>\n",
              "  <th>Date:</th>            <td>Sun, 23 Apr 2023</td> <th>  Deviance:          </th> <td>  285.09</td>\n",
              "</tr>\n",
              "<tr>\n",
              "  <th>Time:</th>                <td>22:52:53</td>     <th>  Pearson chi2:      </th>  <td>  264.</td> \n",
              "</tr>\n",
              "<tr>\n",
              "  <th>No. Iterations:</th>         <td>19</td>        <th>  Pseudo R-squ. (CS):</th>  <td>0.3722</td> \n",
              "</tr>\n",
              "<tr>\n",
              "  <th>Covariance Type:</th>     <td>nonrobust</td>    <th>                     </th>     <td> </td>   \n",
              "</tr>\n",
              "</table>\n",
              "<table class=\"simpletable\">\n",
              "<tr>\n",
              "          <td></td>            <th>coef</th>     <th>std err</th>      <th>z</th>      <th>P>|z|</th>  <th>[0.025</th>    <th>0.975]</th>  \n",
              "</tr>\n",
              "<tr>\n",
              "  <th>const</th>            <td>    3.8491</td> <td>    1.289</td> <td>    2.985</td> <td> 0.003</td> <td>    1.322</td> <td>    6.376</td>\n",
              "</tr>\n",
              "<tr>\n",
              "  <th>Hour</th>             <td>    1.2213</td> <td>    0.316</td> <td>    3.867</td> <td> 0.000</td> <td>    0.602</td> <td>    1.840</td>\n",
              "</tr>\n",
              "<tr>\n",
              "  <th>Temperature</th>      <td>   -0.0056</td> <td>    0.034</td> <td>   -0.163</td> <td> 0.871</td> <td>   -0.073</td> <td>    0.062</td>\n",
              "</tr>\n",
              "<tr>\n",
              "  <th>Humidity</th>         <td>    0.2195</td> <td>    0.099</td> <td>    2.213</td> <td> 0.027</td> <td>    0.025</td> <td>    0.414</td>\n",
              "</tr>\n",
              "<tr>\n",
              "  <th>Wind_Speed</th>       <td>   -0.1762</td> <td>    0.188</td> <td>   -0.936</td> <td> 0.349</td> <td>   -0.545</td> <td>    0.193</td>\n",
              "</tr>\n",
              "<tr>\n",
              "  <th>Visibility</th>       <td>    0.0009</td> <td>    0.001</td> <td>    0.887</td> <td> 0.375</td> <td>   -0.001</td> <td>    0.003</td>\n",
              "</tr>\n",
              "<tr>\n",
              "  <th>Solar_Radiation</th>  <td>   -0.1409</td> <td>    0.388</td> <td>   -0.364</td> <td> 0.716</td> <td>   -0.901</td> <td>    0.619</td>\n",
              "</tr>\n",
              "<tr>\n",
              "  <th>Rainfall</th>         <td>   -0.7986</td> <td>    0.168</td> <td>   -4.749</td> <td> 0.000</td> <td>   -1.128</td> <td>   -0.469</td>\n",
              "</tr>\n",
              "<tr>\n",
              "  <th>Snowfall</th>         <td>   -0.0746</td> <td>    0.343</td> <td>   -0.218</td> <td> 0.828</td> <td>   -0.746</td> <td>    0.597</td>\n",
              "</tr>\n",
              "<tr>\n",
              "  <th>Holiday</th>          <td>   -0.2618</td> <td>    0.130</td> <td>   -2.012</td> <td> 0.044</td> <td>   -0.517</td> <td>   -0.007</td>\n",
              "</tr>\n",
              "<tr>\n",
              "  <th>Weekday</th>          <td>    0.2794</td> <td>    0.208</td> <td>    1.346</td> <td> 0.178</td> <td>   -0.127</td> <td>    0.686</td>\n",
              "</tr>\n",
              "<tr>\n",
              "  <th>Hour2</th>            <td>   -1.5375</td> <td>    0.240</td> <td>   -6.405</td> <td> 0.000</td> <td>   -2.008</td> <td>   -1.067</td>\n",
              "</tr>\n",
              "<tr>\n",
              "  <th>Hour3</th>            <td>    0.5355</td> <td>    0.076</td> <td>    7.033</td> <td> 0.000</td> <td>    0.386</td> <td>    0.685</td>\n",
              "</tr>\n",
              "<tr>\n",
              "  <th>Hour4</th>            <td>   -0.0855</td> <td>    0.012</td> <td>   -6.929</td> <td> 0.000</td> <td>   -0.110</td> <td>   -0.061</td>\n",
              "</tr>\n",
              "<tr>\n",
              "  <th>Hour5</th>            <td>    0.0073</td> <td>    0.001</td> <td>    6.565</td> <td> 0.000</td> <td>    0.005</td> <td>    0.009</td>\n",
              "</tr>\n",
              "<tr>\n",
              "  <th>Hour6</th>            <td>   -0.0003</td> <td> 5.59e-05</td> <td>   -6.121</td> <td> 0.000</td> <td>   -0.000</td> <td>   -0.000</td>\n",
              "</tr>\n",
              "<tr>\n",
              "  <th>Hour7</th>            <td>  8.39e-06</td> <td> 1.48e-06</td> <td>    5.671</td> <td> 0.000</td> <td> 5.49e-06</td> <td> 1.13e-05</td>\n",
              "</tr>\n",
              "<tr>\n",
              "  <th>Hour8</th>            <td>-8.395e-08</td> <td>  1.6e-08</td> <td>   -5.246</td> <td> 0.000</td> <td>-1.15e-07</td> <td>-5.26e-08</td>\n",
              "</tr>\n",
              "<tr>\n",
              "  <th>Humidity2</th>        <td>   -0.0075</td> <td>    0.003</td> <td>   -2.608</td> <td> 0.009</td> <td>   -0.013</td> <td>   -0.002</td>\n",
              "</tr>\n",
              "<tr>\n",
              "  <th>Humidity3</th>        <td>    0.0001</td> <td> 3.51e-05</td> <td>    2.974</td> <td> 0.003</td> <td> 3.55e-05</td> <td>    0.000</td>\n",
              "</tr>\n",
              "<tr>\n",
              "  <th>Humidity4</th>        <td>-5.077e-07</td> <td> 1.51e-07</td> <td>   -3.354</td> <td> 0.001</td> <td>-8.04e-07</td> <td>-2.11e-07</td>\n",
              "</tr>\n",
              "<tr>\n",
              "  <th>Weekday2</th>         <td>   -0.0830</td> <td>    0.059</td> <td>   -1.398</td> <td> 0.162</td> <td>   -0.199</td> <td>    0.033</td>\n",
              "</tr>\n",
              "<tr>\n",
              "  <th>Weekday3</th>         <td>    0.0065</td> <td>    0.005</td> <td>    1.317</td> <td> 0.188</td> <td>   -0.003</td> <td>    0.016</td>\n",
              "</tr>\n",
              "<tr>\n",
              "  <th>Rainfall2</th>        <td>    0.1039</td> <td>    0.035</td> <td>    2.964</td> <td> 0.003</td> <td>    0.035</td> <td>    0.173</td>\n",
              "</tr>\n",
              "<tr>\n",
              "  <th>Rainfall3</th>        <td>   -0.0038</td> <td>    0.002</td> <td>   -2.510</td> <td> 0.012</td> <td>   -0.007</td> <td>   -0.001</td>\n",
              "</tr>\n",
              "<tr>\n",
              "  <th>Snowfall2</th>        <td>    0.0137</td> <td>    0.133</td> <td>    0.103</td> <td> 0.918</td> <td>   -0.247</td> <td>    0.274</td>\n",
              "</tr>\n",
              "<tr>\n",
              "  <th>Snowfall3</th>        <td>   -0.0010</td> <td>    0.011</td> <td>   -0.089</td> <td> 0.929</td> <td>   -0.023</td> <td>    0.021</td>\n",
              "</tr>\n",
              "<tr>\n",
              "  <th>Visibility2</th>      <td>-7.299e-07</td> <td> 9.43e-07</td> <td>   -0.774</td> <td> 0.439</td> <td>-2.58e-06</td> <td> 1.12e-06</td>\n",
              "</tr>\n",
              "<tr>\n",
              "  <th>Visibility3</th>      <td> 1.777e-10</td> <td>  2.6e-10</td> <td>    0.683</td> <td> 0.495</td> <td>-3.32e-10</td> <td> 6.88e-10</td>\n",
              "</tr>\n",
              "<tr>\n",
              "  <th>Temperature2</th>     <td>    0.0038</td> <td>    0.003</td> <td>    1.411</td> <td> 0.158</td> <td>   -0.001</td> <td>    0.009</td>\n",
              "</tr>\n",
              "<tr>\n",
              "  <th>Temperature3</th>     <td>-9.843e-05</td> <td> 6.26e-05</td> <td>   -1.573</td> <td> 0.116</td> <td>   -0.000</td> <td> 2.42e-05</td>\n",
              "</tr>\n",
              "<tr>\n",
              "  <th>Solar_Radiation2</th> <td>    0.1209</td> <td>    0.307</td> <td>    0.394</td> <td> 0.694</td> <td>   -0.481</td> <td>    0.722</td>\n",
              "</tr>\n",
              "<tr>\n",
              "  <th>Solar_Radiation3</th> <td>   -0.0147</td> <td>    0.072</td> <td>   -0.203</td> <td> 0.839</td> <td>   -0.156</td> <td>    0.127</td>\n",
              "</tr>\n",
              "<tr>\n",
              "  <th>Wind_Speed2</th>      <td>    0.0461</td> <td>    0.094</td> <td>    0.488</td> <td> 0.625</td> <td>   -0.139</td> <td>    0.231</td>\n",
              "</tr>\n",
              "<tr>\n",
              "  <th>Wind_Speed3</th>      <td>   -0.0031</td> <td>    0.013</td> <td>   -0.228</td> <td> 0.819</td> <td>   -0.030</td> <td>    0.023</td>\n",
              "</tr>\n",
              "</table>"
            ]
          },
          "metadata": {},
          "execution_count": 65
        }
      ]
    },
    {
      "cell_type": "markdown",
      "source": [
        "### **Variable selection for the polynomial Negative-Binomial Model**"
      ],
      "metadata": {
        "id": "pWUc7tmCpUos"
      }
    },
    {
      "cell_type": "markdown",
      "source": [
        "#### **Backward Selection**"
      ],
      "metadata": {
        "id": "-z7VeL1UufpK"
      }
    },
    {
      "cell_type": "code",
      "source": [
        "# backward elimination based on p-values\n",
        "X_poly_copy = X_poly\n",
        "nb_model = sm.GLM(y_train, X_poly_copy, family=sm.families.NegativeBinomial()).fit()\n",
        "\n",
        "while nb_model.pvalues.max() > 0.05:\n",
        "    max_pvalue = nb_model.pvalues.idxmax()\n",
        "    X_poly_copy = X_poly_copy.drop(max_pvalue, axis=1)\n",
        "    nb_model = sm.GLM(y_train, X_poly_copy, family=sm.families.NegativeBinomial()).fit()\n",
        "\n",
        "# final model\n",
        "nb_model.summary()"
      ],
      "metadata": {
        "colab": {
          "base_uri": "https://localhost:8080/",
          "height": 645
        },
        "id": "qJWlZrwHufvl",
        "outputId": "230a0e31-aab7-4522-fb5c-d4f552104abf"
      },
      "execution_count": null,
      "outputs": [
        {
          "output_type": "execute_result",
          "data": {
            "text/plain": [
              "<class 'statsmodels.iolib.summary.Summary'>\n",
              "\"\"\"\n",
              "                 Generalized Linear Model Regression Results                  \n",
              "==============================================================================\n",
              "Dep. Variable:                   Bike   No. Observations:                 1452\n",
              "Model:                            GLM   Df Residuals:                     1433\n",
              "Model Family:        NegativeBinomial   Df Model:                           18\n",
              "Link Function:                    Log   Scale:                          1.0000\n",
              "Method:                          IRLS   Log-Likelihood:                -11041.\n",
              "Date:                Wed, 26 Apr 2023   Deviance:                       296.76\n",
              "Time:                        00:58:03   Pearson chi2:                     277.\n",
              "No. Iterations:                    17   Pseudo R-squ. (CS):             0.3671\n",
              "Covariance Type:            nonrobust                                         \n",
              "================================================================================\n",
              "                   coef    std err          z      P>|z|      [0.025      0.975]\n",
              "--------------------------------------------------------------------------------\n",
              "const            4.1444      1.170      3.544      0.000       1.852       6.437\n",
              "Hour             1.1611      0.309      3.758      0.000       0.556       1.767\n",
              "Humidity         0.2330      0.096      2.429      0.015       0.045       0.421\n",
              "Rainfall        -0.8026      0.161     -4.974      0.000      -1.119      -0.486\n",
              "Hour2           -1.4731      0.232     -6.353      0.000      -1.927      -1.019\n",
              "Hour3            0.5134      0.073      7.026      0.000       0.370       0.657\n",
              "Hour4           -0.0819      0.012     -6.936      0.000      -0.105      -0.059\n",
              "Hour5            0.0070      0.001      6.566      0.000       0.005       0.009\n",
              "Hour6           -0.0003   5.37e-05     -6.109      0.000      -0.000      -0.000\n",
              "Hour7         8.045e-06   1.43e-06      5.645      0.000    5.25e-06    1.08e-05\n",
              "Hour8        -8.062e-08   1.55e-08     -5.209      0.000   -1.11e-07   -5.03e-08\n",
              "Humidity2       -0.0079      0.003     -2.845      0.004      -0.013      -0.002\n",
              "Humidity3        0.0001   3.38e-05      3.212      0.001    4.23e-05       0.000\n",
              "Humidity4    -5.233e-07   1.46e-07     -3.588      0.000   -8.09e-07   -2.37e-07\n",
              "Weekday2        -0.0033      0.002     -2.051      0.040      -0.006      -0.000\n",
              "Rainfall2        0.1026      0.034      3.046      0.002       0.037       0.169\n",
              "Rainfall3       -0.0037      0.001     -2.557      0.011      -0.007      -0.001\n",
              "Temperature2     0.0031      0.001      4.349      0.000       0.002       0.004\n",
              "Temperature3 -7.761e-05   2.65e-05     -2.926      0.003      -0.000   -2.56e-05\n",
              "================================================================================\n",
              "\"\"\""
            ],
            "text/html": [
              "<table class=\"simpletable\">\n",
              "<caption>Generalized Linear Model Regression Results</caption>\n",
              "<tr>\n",
              "  <th>Dep. Variable:</th>         <td>Bike</td>       <th>  No. Observations:  </th>  <td>  1452</td> \n",
              "</tr>\n",
              "<tr>\n",
              "  <th>Model:</th>                  <td>GLM</td>       <th>  Df Residuals:      </th>  <td>  1433</td> \n",
              "</tr>\n",
              "<tr>\n",
              "  <th>Model Family:</th>    <td>NegativeBinomial</td> <th>  Df Model:          </th>  <td>    18</td> \n",
              "</tr>\n",
              "<tr>\n",
              "  <th>Link Function:</th>          <td>Log</td>       <th>  Scale:             </th> <td>  1.0000</td>\n",
              "</tr>\n",
              "<tr>\n",
              "  <th>Method:</th>                <td>IRLS</td>       <th>  Log-Likelihood:    </th> <td> -11041.</td>\n",
              "</tr>\n",
              "<tr>\n",
              "  <th>Date:</th>            <td>Wed, 26 Apr 2023</td> <th>  Deviance:          </th> <td>  296.76</td>\n",
              "</tr>\n",
              "<tr>\n",
              "  <th>Time:</th>                <td>00:58:03</td>     <th>  Pearson chi2:      </th>  <td>  277.</td> \n",
              "</tr>\n",
              "<tr>\n",
              "  <th>No. Iterations:</th>         <td>17</td>        <th>  Pseudo R-squ. (CS):</th>  <td>0.3671</td> \n",
              "</tr>\n",
              "<tr>\n",
              "  <th>Covariance Type:</th>     <td>nonrobust</td>    <th>                     </th>     <td> </td>   \n",
              "</tr>\n",
              "</table>\n",
              "<table class=\"simpletable\">\n",
              "<tr>\n",
              "        <td></td>          <th>coef</th>     <th>std err</th>      <th>z</th>      <th>P>|z|</th>  <th>[0.025</th>    <th>0.975]</th>  \n",
              "</tr>\n",
              "<tr>\n",
              "  <th>const</th>        <td>    4.1444</td> <td>    1.170</td> <td>    3.544</td> <td> 0.000</td> <td>    1.852</td> <td>    6.437</td>\n",
              "</tr>\n",
              "<tr>\n",
              "  <th>Hour</th>         <td>    1.1611</td> <td>    0.309</td> <td>    3.758</td> <td> 0.000</td> <td>    0.556</td> <td>    1.767</td>\n",
              "</tr>\n",
              "<tr>\n",
              "  <th>Humidity</th>     <td>    0.2330</td> <td>    0.096</td> <td>    2.429</td> <td> 0.015</td> <td>    0.045</td> <td>    0.421</td>\n",
              "</tr>\n",
              "<tr>\n",
              "  <th>Rainfall</th>     <td>   -0.8026</td> <td>    0.161</td> <td>   -4.974</td> <td> 0.000</td> <td>   -1.119</td> <td>   -0.486</td>\n",
              "</tr>\n",
              "<tr>\n",
              "  <th>Hour2</th>        <td>   -1.4731</td> <td>    0.232</td> <td>   -6.353</td> <td> 0.000</td> <td>   -1.927</td> <td>   -1.019</td>\n",
              "</tr>\n",
              "<tr>\n",
              "  <th>Hour3</th>        <td>    0.5134</td> <td>    0.073</td> <td>    7.026</td> <td> 0.000</td> <td>    0.370</td> <td>    0.657</td>\n",
              "</tr>\n",
              "<tr>\n",
              "  <th>Hour4</th>        <td>   -0.0819</td> <td>    0.012</td> <td>   -6.936</td> <td> 0.000</td> <td>   -0.105</td> <td>   -0.059</td>\n",
              "</tr>\n",
              "<tr>\n",
              "  <th>Hour5</th>        <td>    0.0070</td> <td>    0.001</td> <td>    6.566</td> <td> 0.000</td> <td>    0.005</td> <td>    0.009</td>\n",
              "</tr>\n",
              "<tr>\n",
              "  <th>Hour6</th>        <td>   -0.0003</td> <td> 5.37e-05</td> <td>   -6.109</td> <td> 0.000</td> <td>   -0.000</td> <td>   -0.000</td>\n",
              "</tr>\n",
              "<tr>\n",
              "  <th>Hour7</th>        <td> 8.045e-06</td> <td> 1.43e-06</td> <td>    5.645</td> <td> 0.000</td> <td> 5.25e-06</td> <td> 1.08e-05</td>\n",
              "</tr>\n",
              "<tr>\n",
              "  <th>Hour8</th>        <td>-8.062e-08</td> <td> 1.55e-08</td> <td>   -5.209</td> <td> 0.000</td> <td>-1.11e-07</td> <td>-5.03e-08</td>\n",
              "</tr>\n",
              "<tr>\n",
              "  <th>Humidity2</th>    <td>   -0.0079</td> <td>    0.003</td> <td>   -2.845</td> <td> 0.004</td> <td>   -0.013</td> <td>   -0.002</td>\n",
              "</tr>\n",
              "<tr>\n",
              "  <th>Humidity3</th>    <td>    0.0001</td> <td> 3.38e-05</td> <td>    3.212</td> <td> 0.001</td> <td> 4.23e-05</td> <td>    0.000</td>\n",
              "</tr>\n",
              "<tr>\n",
              "  <th>Humidity4</th>    <td>-5.233e-07</td> <td> 1.46e-07</td> <td>   -3.588</td> <td> 0.000</td> <td>-8.09e-07</td> <td>-2.37e-07</td>\n",
              "</tr>\n",
              "<tr>\n",
              "  <th>Weekday2</th>     <td>   -0.0033</td> <td>    0.002</td> <td>   -2.051</td> <td> 0.040</td> <td>   -0.006</td> <td>   -0.000</td>\n",
              "</tr>\n",
              "<tr>\n",
              "  <th>Rainfall2</th>    <td>    0.1026</td> <td>    0.034</td> <td>    3.046</td> <td> 0.002</td> <td>    0.037</td> <td>    0.169</td>\n",
              "</tr>\n",
              "<tr>\n",
              "  <th>Rainfall3</th>    <td>   -0.0037</td> <td>    0.001</td> <td>   -2.557</td> <td> 0.011</td> <td>   -0.007</td> <td>   -0.001</td>\n",
              "</tr>\n",
              "<tr>\n",
              "  <th>Temperature2</th> <td>    0.0031</td> <td>    0.001</td> <td>    4.349</td> <td> 0.000</td> <td>    0.002</td> <td>    0.004</td>\n",
              "</tr>\n",
              "<tr>\n",
              "  <th>Temperature3</th> <td>-7.761e-05</td> <td> 2.65e-05</td> <td>   -2.926</td> <td> 0.003</td> <td>   -0.000</td> <td>-2.56e-05</td>\n",
              "</tr>\n",
              "</table>"
            ]
          },
          "metadata": {},
          "execution_count": 34
        }
      ]
    },
    {
      "cell_type": "markdown",
      "source": [
        "**Observations**\n",
        "- We ended up with some 2nd order and 3rd order terms"
      ],
      "metadata": {
        "id": "MdMzkRj04N30"
      }
    },
    {
      "cell_type": "code",
      "source": [
        "X_poly_vs = X_poly[['const','Hour','Humidity','Rainfall','Hour2','Hour3', 'Hour4', 'Hour5', 'Hour6', 'Hour7', 'Hour8', \n",
        "                    'Humidity2', 'Humidity3', 'Humidity4','Weekday2','Rainfall2','Rainfall3','Temperature2','Temperature3']]"
      ],
      "metadata": {
        "id": "_SiIso9B6JXm"
      },
      "execution_count": null,
      "outputs": []
    },
    {
      "cell_type": "markdown",
      "source": [
        "### **Diagnostics**"
      ],
      "metadata": {
        "id": "npfgKOkF58Bu"
      }
    },
    {
      "cell_type": "code",
      "source": [
        "# predict and get mse\n",
        "negbin_pred = nb_model.predict(X_poly_vs)\n",
        "negbin_res = negbin_pred - y_train\n",
        "print(negbin_res)\n",
        "# plot residuals vs fitted values\n",
        "plt.scatter(y_train, negbin_res)\n",
        "plt.axhline(y=0, color='r', linestyle='--')\n",
        "plt.title('Homoscedasticity plot')\n",
        "plt.xlabel('Fitted values')\n",
        "plt.ylabel('Residuals')\n",
        "plt.show()"
      ],
      "metadata": {
        "colab": {
          "base_uri": "https://localhost:8080/",
          "height": 680
        },
        "id": "RBZmYJ-O5-B2",
        "outputId": "bf3c71de-ff31-4757-a55a-5a585175de73"
      },
      "execution_count": null,
      "outputs": [
        {
          "output_type": "stream",
          "name": "stdout",
          "text": [
            "1507   -121.222519\n",
            "1899     79.883504\n",
            "1187   -151.859629\n",
            "1509     75.984343\n",
            "1775    193.768566\n",
            "           ...    \n",
            "1130   -727.315618\n",
            "1294    310.456908\n",
            "860    -693.189037\n",
            "1459   -163.784470\n",
            "1126    334.453916\n",
            "Length: 1452, dtype: float64\n"
          ]
        },
        {
          "output_type": "display_data",
          "data": {
            "text/plain": [
              "<Figure size 640x480 with 1 Axes>"
            ],
            "image/png": "[encoded data removed]"
          },
          "metadata": {}
        }
      ]
    },
    {
      "cell_type": "markdown",
      "source": [
        "### **Prediction**"
      ],
      "metadata": {
        "id": "MXl1QhoopE6C"
      }
    },
    {
      "cell_type": "markdown",
      "source": [
        "#### Use the final selection of the polynomials to run the negative binomial model"
      ],
      "metadata": {
        "id": "3OQF_Pyt3z1z"
      }
    },
    {
      "cell_type": "code",
      "source": [
        "X_poly_test_vs = X_poly_test[['const','Hour','Humidity','Rainfall','Hour2','Hour3', 'Hour4', 'Hour5', 'Hour6', 'Hour7', 'Hour8', \n",
        "                    'Humidity2', 'Humidity3', 'Humidity4','Weekday2','Rainfall2','Rainfall3','Temperature2','Temperature3']]"
      ],
      "metadata": {
        "id": "anGqjlyf2Tnt"
      },
      "execution_count": null,
      "outputs": []
    },
    {
      "cell_type": "markdown",
      "source": [
        "#### **MSE**\n",
        "- The **MSE** is about 97500, which is much better than Linear Regression\n",
        "- The $y = -x$ line for neg-binomial model is not as obvious"
      ],
      "metadata": {
        "id": "i4caCRR13oOC"
      }
    },
    {
      "cell_type": "code",
      "source": [
        "from sklearn.metrics import mean_squared_error, r2_score, mean_absolute_error\n",
        "\n",
        "negbin_pred = nb_model.predict(X_poly_test_vs)\n",
        "print(\"Testing Mean squared error for Negative-Binomial model: \", mean_squared_error(y_test, negbin_pred), \"\\n MAE is\", mean_absolute_error(y_test, negbin_pred))"
      ],
      "metadata": {
        "id": "vcZsr91Hh5Xl",
        "colab": {
          "base_uri": "https://localhost:8080/"
        },
        "outputId": "55e1285e-2a18-49ac-d1b0-e9db641ead65"
      },
      "execution_count": null,
      "outputs": [
        {
          "output_type": "stream",
          "name": "stdout",
          "text": [
            "Testing Mean squared error for Negative-Binomial model:  97571.58718880176 \n",
            " MAE is 220.0561372539406\n"
          ]
        }
      ]
    },
    {
      "cell_type": "markdown",
      "source": [
        "**Illustration of random sample**\n",
        "- 15 samples were chosen from the testing data, their predictions are compared with the true values"
      ],
      "metadata": {
        "id": "HkXCZrNGT_hE"
      }
    },
    {
      "cell_type": "code",
      "source": [
        "import numpy as np\n",
        "# Illustration on testing data\n",
        "# randomly select 15 rows from the testing data\n",
        "indices = np.random.choice(len(X_poly_test_vs), 30, replace=False)\n",
        "X_poly_test_vs_sample = X_poly_test_vs.iloc[indices]\n",
        "y_test_sample = y_test.iloc[indices]\n",
        "\n",
        "# predict using the RF model\n",
        "y_pred_sample = nb_model.predict(X_poly_test_vs_sample)\n",
        "\n",
        "# concatenate the predicted and true values with the predictors in a dataframe\n",
        "X_poly_test_vs_sample = X_test.iloc[indices]\n",
        "df_sample = pd.concat([X_poly_test_vs_sample.reset_index(drop=True),\n",
        "                       pd.Series(y_test_sample).reset_index(drop=True),\n",
        "                       pd.Series(y_pred_sample).reset_index(drop=True)], axis=1)\n",
        "df_sample.columns = list(X_poly_test_vs_sample.columns) + ['True', 'Pred']\n",
        "df_sample"
      ],
      "metadata": {
        "colab": {
          "base_uri": "https://localhost:8080/",
          "height": 519
        },
        "id": "6Y9eHhXsT-qU",
        "outputId": "fc5a783a-0067-49a5-c8f2-90035f27dbbc"
      },
      "execution_count": null,
      "outputs": [
        {
          "output_type": "execute_result",
          "data": {
            "text/plain": [
              "    Hour  Temperature  Humidity  Wind_Speed  Visibility  Solar_Radiation  \\\n",
              "0     19          5.2        48         1.9        1590             0.00   \n",
              "1     13         18.3        33         1.9        1324             2.53   \n",
              "2     19         11.3        50         1.1        2000             0.00   \n",
              "3     14         23.7        28         1.4        2000             2.77   \n",
              "4      7         16.5        97         2.3         364             0.00   \n",
              "5      7         -1.0        43         1.8        2000             0.00   \n",
              "6     11          4.3        25         2.0        1958             1.56   \n",
              "7      3          1.7        59         0.5        2000             0.00   \n",
              "8     18         20.9        77         0.6        2000             0.23   \n",
              "9     17         18.8        24         2.1        2000             0.63   \n",
              "10     2         11.8        82         0.7        1262             0.00   \n",
              "11     2          4.7        81         1.0        1918             0.00   \n",
              "12     5          4.8        75         0.7        1471             0.00   \n",
              "13    12         10.8        49         2.7        2000             1.45   \n",
              "14    15         21.8        32         3.3        2000             2.42   \n",
              "\n",
              "    Rainfall  Snowfall  Holiday  Weekday  True         Pred  \n",
              "0        0.0       0.0        0        4  1026  1128.377875  \n",
              "1        0.0       0.0        0        6  1652   993.146287  \n",
              "2        0.0       0.0        0        3  1723  1402.096705  \n",
              "3        0.0       0.0        1        2  1522  1428.264361  \n",
              "4        9.5       0.0        0        6     5    47.247274  \n",
              "5        0.0       0.0        0        4   848   631.763717  \n",
              "6        0.0       0.0        0        5   635   764.470862  \n",
              "7        0.0       0.0        0        2   182   178.791554  \n",
              "8        0.0       0.0        0        5  2235  1900.202307  \n",
              "9        0.0       0.0        0        7  1883  1910.949353  \n",
              "10       0.0       0.0        0        1   272   360.090074  \n",
              "11       0.0       0.0        0        1   184   291.025600  \n",
              "12       0.0       0.0        0        5   153   240.990432  \n",
              "13       0.0       0.0        0        1   737   713.903907  \n",
              "14       0.0       0.0        1        1  1273  1630.543681  "
            ],
            "text/html": [
              "\n",
              "  <div id=\"df-1025a7e9-3199-41f3-89be-b492ff5a35e3\">\n",
              "    <div class=\"colab-df-container\">\n",
              "      <div>\n",
              "<style scoped>\n",
              "    .dataframe tbody tr th:only-of-type {\n",
              "        vertical-align: middle;\n",
              "    }\n",
              "\n",
              "    .dataframe tbody tr th {\n",
              "        vertical-align: top;\n",
              "    }\n",
              "\n",
              "    .dataframe thead th {\n",
              "        text-align: right;\n",
              "    }\n",
              "</style>\n",
              "<table border=\"1\" class=\"dataframe\">\n",
              "  <thead>\n",
              "    <tr style=\"text-align: right;\">\n",
              "      <th></th>\n",
              "      <th>Hour</th>\n",
              "      <th>Temperature</th>\n",
              "      <th>Humidity</th>\n",
              "      <th>Wind_Speed</th>\n",
              "      <th>Visibility</th>\n",
              "      <th>Solar_Radiation</th>\n",
              "      <th>Rainfall</th>\n",
              "      <th>Snowfall</th>\n",
              "      <th>Holiday</th>\n",
              "      <th>Weekday</th>\n",
              "      <th>True</th>\n",
              "      <th>Pred</th>\n",
              "    </tr>\n",
              "  </thead>\n",
              "  <tbody>\n",
              "    <tr>\n",
              "      <th>0</th>\n",
              "      <td>19</td>\n",
              "      <td>5.2</td>\n",
              "      <td>48</td>\n",
              "      <td>1.9</td>\n",
              "      <td>1590</td>\n",
              "      <td>0.00</td>\n",
              "      <td>0.0</td>\n",
              "      <td>0.0</td>\n",
              "      <td>0</td>\n",
              "      <td>4</td>\n",
              "      <td>1026</td>\n",
              "      <td>1128.377875</td>\n",
              "    </tr>\n",
              "    <tr>\n",
              "      <th>1</th>\n",
              "      <td>13</td>\n",
              "      <td>18.3</td>\n",
              "      <td>33</td>\n",
              "      <td>1.9</td>\n",
              "      <td>1324</td>\n",
              "      <td>2.53</td>\n",
              "      <td>0.0</td>\n",
              "      <td>0.0</td>\n",
              "      <td>0</td>\n",
              "      <td>6</td>\n",
              "      <td>1652</td>\n",
              "      <td>993.146287</td>\n",
              "    </tr>\n",
              "    <tr>\n",
              "      <th>2</th>\n",
              "      <td>19</td>\n",
              "      <td>11.3</td>\n",
              "      <td>50</td>\n",
              "      <td>1.1</td>\n",
              "      <td>2000</td>\n",
              "      <td>0.00</td>\n",
              "      <td>0.0</td>\n",
              "      <td>0.0</td>\n",
              "      <td>0</td>\n",
              "      <td>3</td>\n",
              "      <td>1723</td>\n",
              "      <td>1402.096705</td>\n",
              "    </tr>\n",
              "    <tr>\n",
              "      <th>3</th>\n",
              "      <td>14</td>\n",
              "      <td>23.7</td>\n",
              "      <td>28</td>\n",
              "      <td>1.4</td>\n",
              "      <td>2000</td>\n",
              "      <td>2.77</td>\n",
              "      <td>0.0</td>\n",
              "      <td>0.0</td>\n",
              "      <td>1</td>\n",
              "      <td>2</td>\n",
              "      <td>1522</td>\n",
              "      <td>1428.264361</td>\n",
              "    </tr>\n",
              "    <tr>\n",
              "      <th>4</th>\n",
              "      <td>7</td>\n",
              "      <td>16.5</td>\n",
              "      <td>97</td>\n",
              "      <td>2.3</td>\n",
              "      <td>364</td>\n",
              "      <td>0.00</td>\n",
              "      <td>9.5</td>\n",
              "      <td>0.0</td>\n",
              "      <td>0</td>\n",
              "      <td>6</td>\n",
              "      <td>5</td>\n",
              "      <td>47.247274</td>\n",
              "    </tr>\n",
              "    <tr>\n",
              "      <th>5</th>\n",
              "      <td>7</td>\n",
              "      <td>-1.0</td>\n",
              "      <td>43</td>\n",
              "      <td>1.8</td>\n",
              "      <td>2000</td>\n",
              "      <td>0.00</td>\n",
              "      <td>0.0</td>\n",
              "      <td>0.0</td>\n",
              "      <td>0</td>\n",
              "      <td>4</td>\n",
              "      <td>848</td>\n",
              "      <td>631.763717</td>\n",
              "    </tr>\n",
              "    <tr>\n",
              "      <th>6</th>\n",
              "      <td>11</td>\n",
              "      <td>4.3</td>\n",
              "      <td>25</td>\n",
              "      <td>2.0</td>\n",
              "      <td>1958</td>\n",
              "      <td>1.56</td>\n",
              "      <td>0.0</td>\n",
              "      <td>0.0</td>\n",
              "      <td>0</td>\n",
              "      <td>5</td>\n",
              "      <td>635</td>\n",
              "      <td>764.470862</td>\n",
              "    </tr>\n",
              "    <tr>\n",
              "      <th>7</th>\n",
              "      <td>3</td>\n",
              "      <td>1.7</td>\n",
              "      <td>59</td>\n",
              "      <td>0.5</td>\n",
              "      <td>2000</td>\n",
              "      <td>0.00</td>\n",
              "      <td>0.0</td>\n",
              "      <td>0.0</td>\n",
              "      <td>0</td>\n",
              "      <td>2</td>\n",
              "      <td>182</td>\n",
              "      <td>178.791554</td>\n",
              "    </tr>\n",
              "    <tr>\n",
              "      <th>8</th>\n",
              "      <td>18</td>\n",
              "      <td>20.9</td>\n",
              "      <td>77</td>\n",
              "      <td>0.6</td>\n",
              "      <td>2000</td>\n",
              "      <td>0.23</td>\n",
              "      <td>0.0</td>\n",
              "      <td>0.0</td>\n",
              "      <td>0</td>\n",
              "      <td>5</td>\n",
              "      <td>2235</td>\n",
              "      <td>1900.202307</td>\n",
              "    </tr>\n",
              "    <tr>\n",
              "      <th>9</th>\n",
              "      <td>17</td>\n",
              "      <td>18.8</td>\n",
              "      <td>24</td>\n",
              "      <td>2.1</td>\n",
              "      <td>2000</td>\n",
              "      <td>0.63</td>\n",
              "      <td>0.0</td>\n",
              "      <td>0.0</td>\n",
              "      <td>0</td>\n",
              "      <td>7</td>\n",
              "      <td>1883</td>\n",
              "      <td>1910.949353</td>\n",
              "    </tr>\n",
              "    <tr>\n",
              "      <th>10</th>\n",
              "      <td>2</td>\n",
              "      <td>11.8</td>\n",
              "      <td>82</td>\n",
              "      <td>0.7</td>\n",
              "      <td>1262</td>\n",
              "      <td>0.00</td>\n",
              "      <td>0.0</td>\n",
              "      <td>0.0</td>\n",
              "      <td>0</td>\n",
              "      <td>1</td>\n",
              "      <td>272</td>\n",
              "      <td>360.090074</td>\n",
              "    </tr>\n",
              "    <tr>\n",
              "      <th>11</th>\n",
              "      <td>2</td>\n",
              "      <td>4.7</td>\n",
              "      <td>81</td>\n",
              "      <td>1.0</td>\n",
              "      <td>1918</td>\n",
              "      <td>0.00</td>\n",
              "      <td>0.0</td>\n",
              "      <td>0.0</td>\n",
              "      <td>0</td>\n",
              "      <td>1</td>\n",
              "      <td>184</td>\n",
              "      <td>291.025600</td>\n",
              "    </tr>\n",
              "    <tr>\n",
              "      <th>12</th>\n",
              "      <td>5</td>\n",
              "      <td>4.8</td>\n",
              "      <td>75</td>\n",
              "      <td>0.7</td>\n",
              "      <td>1471</td>\n",
              "      <td>0.00</td>\n",
              "      <td>0.0</td>\n",
              "      <td>0.0</td>\n",
              "      <td>0</td>\n",
              "      <td>5</td>\n",
              "      <td>153</td>\n",
              "      <td>240.990432</td>\n",
              "    </tr>\n",
              "    <tr>\n",
              "      <th>13</th>\n",
              "      <td>12</td>\n",
              "      <td>10.8</td>\n",
              "      <td>49</td>\n",
              "      <td>2.7</td>\n",
              "      <td>2000</td>\n",
              "      <td>1.45</td>\n",
              "      <td>0.0</td>\n",
              "      <td>0.0</td>\n",
              "      <td>0</td>\n",
              "      <td>1</td>\n",
              "      <td>737</td>\n",
              "      <td>713.903907</td>\n",
              "    </tr>\n",
              "    <tr>\n",
              "      <th>14</th>\n",
              "      <td>15</td>\n",
              "      <td>21.8</td>\n",
              "      <td>32</td>\n",
              "      <td>3.3</td>\n",
              "      <td>2000</td>\n",
              "      <td>2.42</td>\n",
              "      <td>0.0</td>\n",
              "      <td>0.0</td>\n",
              "      <td>1</td>\n",
              "      <td>1</td>\n",
              "      <td>1273</td>\n",
              "      <td>1630.543681</td>\n",
              "    </tr>\n",
              "  </tbody>\n",
              "</table>\n",
              "</div>\n",
              "      <button class=\"colab-df-convert\" onclick=\"convertToInteractive('df-1025a7e9-3199-41f3-89be-b492ff5a35e3')\"\n",
              "              title=\"Convert this dataframe to an interactive table.\"\n",
              "              style=\"display:none;\">\n",
              "        \n",
              "  <svg xmlns=\"http://www.w3.org/2000/svg\" height=\"24px\"viewBox=\"0 0 24 24\"\n",
              "       width=\"24px\">\n",
              "    <path d=\"M0 0h24v24H0V0z\" fill=\"none\"/>\n",
              "    <path d=\"M18.56 5.44l.94 2.06.94-2.06 2.06-.94-2.06-.94-.94-2.06-.94 2.06-2.06.94zm-11 1L8.5 8.5l.94-2.06 2.06-.94-2.06-.94L8.5 2.5l-.94 2.06-2.06.94zm10 10l.94 2.06.94-2.06 2.06-.94-2.06-.94-.94-2.06-.94 2.06-2.06.94z\"/><path d=\"M17.41 7.96l-1.37-1.37c-.4-.4-.92-.59-1.43-.59-.52 0-1.04.2-1.43.59L10.3 9.45l-7.72 7.72c-.78.78-.78 2.05 0 2.83L4 21.41c.39.39.9.59 1.41.59.51 0 1.02-.2 1.41-.59l7.78-7.78 2.81-2.81c.8-.78.8-2.07 0-2.86zM5.41 20L4 18.59l7.72-7.72 1.47 1.35L5.41 20z\"/>\n",
              "  </svg>\n",
              "      </button>\n",
              "      \n",
              "  <style>\n",
              "    .colab-df-container {\n",
              "      display:flex;\n",
              "      flex-wrap:wrap;\n",
              "      gap: 12px;\n",
              "    }\n",
              "\n",
              "    .colab-df-convert {\n",
              "      background-color: #E8F0FE;\n",
              "      border: none;\n",
              "      border-radius: 50%;\n",
              "      cursor: pointer;\n",
              "      display: none;\n",
              "      fill: #1967D2;\n",
              "      height: 32px;\n",
              "      padding: 0 0 0 0;\n",
              "      width: 32px;\n",
              "    }\n",
              "\n",
              "    .colab-df-convert:hover {\n",
              "      background-color: #E2EBFA;\n",
              "      box-shadow: 0px 1px 2px rgba(60, 64, 67, 0.3), 0px 1px 3px 1px rgba(60, 64, 67, 0.15);\n",
              "      fill: #174EA6;\n",
              "    }\n",
              "\n",
              "    [theme=dark] .colab-df-convert {\n",
              "      background-color: #3B4455;\n",
              "      fill: #D2E3FC;\n",
              "    }\n",
              "\n",
              "    [theme=dark] .colab-df-convert:hover {\n",
              "      background-color: #434B5C;\n",
              "      box-shadow: 0px 1px 3px 1px rgba(0, 0, 0, 0.15);\n",
              "      filter: drop-shadow(0px 1px 2px rgba(0, 0, 0, 0.3));\n",
              "      fill: #FFFFFF;\n",
              "    }\n",
              "  </style>\n",
              "\n",
              "      <script>\n",
              "        const buttonEl =\n",
              "          document.querySelector('#df-1025a7e9-3199-41f3-89be-b492ff5a35e3 button.colab-df-convert');\n",
              "        buttonEl.style.display =\n",
              "          google.colab.kernel.accessAllowed ? 'block' : 'none';\n",
              "\n",
              "        async function convertToInteractive(key) {\n",
              "          const element = document.querySelector('#df-1025a7e9-3199-41f3-89be-b492ff5a35e3');\n",
              "          const dataTable =\n",
              "            await google.colab.kernel.invokeFunction('convertToInteractive',\n",
              "                                                     [key], {});\n",
              "          if (!dataTable) return;\n",
              "\n",
              "          const docLinkHtml = 'Like what you see? Visit the ' +\n",
              "            '<a target=\"_blank\" href=https://colab.research.google.com/notebooks/data_table.ipynb>data table notebook</a>'\n",
              "            + ' to learn more about interactive tables.';\n",
              "          element.innerHTML = '';\n",
              "          dataTable['output_type'] = 'display_data';\n",
              "          await google.colab.output.renderOutput(dataTable, element);\n",
              "          const docLink = document.createElement('div');\n",
              "          docLink.innerHTML = docLinkHtml;\n",
              "          element.appendChild(docLink);\n",
              "        }\n",
              "      </script>\n",
              "    </div>\n",
              "  </div>\n",
              "  "
            ]
          },
          "metadata": {},
          "execution_count": 74
        }
      ]
    },
    {
      "cell_type": "markdown",
      "source": [
        "**Observations**\n",
        "- We observed that the predictions are a little bit off, but for larger values it is able to capture most of them. However, it fails to predict smaller values accurately"
      ],
      "metadata": {
        "id": "BOTRGBZ0U7iv"
      }
    },
    {
      "cell_type": "markdown",
      "source": [
        "****"
      ],
      "metadata": {
        "id": "w92LSysnsBpW"
      }
    },
    {
      "cell_type": "markdown",
      "source": [
        "### **Standardized**"
      ],
      "metadata": {
        "id": "L5BWpgYZq7RA"
      }
    },
    {
      "cell_type": "markdown",
      "source": [
        "#### **Backward Selection**"
      ],
      "metadata": {
        "id": "qaTR2Cp7rsG7"
      }
    },
    {
      "cell_type": "code",
      "source": [
        "X_poly_sd = X_train_sd_constant\n",
        "X_poly_sd['Hour2'] = X_poly_sd['Hour'] ** 2\n",
        "X_poly_sd['Hour3'] = X_poly_sd['Hour'] ** 3\n",
        "X_poly_sd['Weekday2'] = X_poly_sd['Weekday'] ** 2\n",
        "X_poly_sd['Weekday3'] = X_poly_sd['Weekday'] ** 3\n",
        "X_poly_sd['Rainfall2'] = X_poly_sd['Rainfall'] ** 2\n",
        "X_poly_sd['Rainfall3'] = X_poly_sd['Rainfall'] ** 3\n",
        "X_poly_sd['Snowfall2'] = X_poly_sd['Snowfall'] ** 2\n",
        "X_poly_sd['Snowfall3'] = X_poly_sd['Snowfall'] ** 3\n",
        "X_poly_sd['Visibility2'] = X_poly_sd['Visibility'] ** 2\n",
        "X_poly_sd['Visibility3'] = X_poly_sd['Visibility'] ** 3\n",
        "X_poly_sd['Temperature2'] = X_poly_sd['Temperature'] ** 2\n",
        "X_poly_sd['Temperature3'] = X_poly_sd['Temperature'] ** 3\n",
        "X_poly_sd['Solar_Radiation2'] = X_poly_sd['Solar_Radiation'] ** 2\n",
        "X_poly_sd['Solar_Radiation3'] = X_poly_sd['Solar_Radiation'] ** 3\n",
        "X_poly_sd['Wind_Speed2'] = X_poly_sd['Wind_Speed'] ** 2\n",
        "X_poly_sd['Wind_Speed3'] = X_poly_sd['Wind_Speed'] ** 3"
      ],
      "metadata": {
        "id": "qm6WalaDr1nS"
      },
      "execution_count": null,
      "outputs": []
    },
    {
      "cell_type": "code",
      "source": [
        "X_poly_sd"
      ],
      "metadata": {
        "id": "yuAQ4w8YtJUv"
      },
      "execution_count": null,
      "outputs": []
    },
    {
      "cell_type": "code",
      "source": [
        "# backward elimination based on p-values\n",
        "X_poly_sd_copy = X_poly_sd\n",
        "nb_model = sm.GLM(y_train, X_poly_sd_copy, family=sm.families.NegativeBinomial()).fit()\n",
        "\n",
        "while nb_model.pvalues.max() > 0.05:\n",
        "    max_pvalue = nb_model.pvalues.idxmax()\n",
        "    X_poly_sd_copy = X_poly_sd_copy.drop(max_pvalue, axis=1)\n",
        "    nb_model = sm.GLM(y_train, X_poly_sd_copy, family=sm.families.NegativeBinomial()).fit()\n",
        "\n",
        "# final model\n",
        "nb_model.summary()"
      ],
      "metadata": {
        "colab": {
          "base_uri": "https://localhost:8080/",
          "height": 551
        },
        "outputId": "ab31ac9f-2fef-48b2-a681-4aed9883277f",
        "id": "FR0ilbirrsG7"
      },
      "execution_count": null,
      "outputs": [
        {
          "output_type": "execute_result",
          "data": {
            "text/plain": [
              "<class 'statsmodels.iolib.summary.Summary'>\n",
              "\"\"\"\n",
              "                 Generalized Linear Model Regression Results                  \n",
              "==============================================================================\n",
              "Dep. Variable:                   Bike   No. Observations:                 1549\n",
              "Model:                            GLM   Df Residuals:                     1535\n",
              "Model Family:        NegativeBinomial   Df Model:                           13\n",
              "Link Function:                    Log   Scale:                          1.0000\n",
              "Method:                          IRLS   Log-Likelihood:                -11887.\n",
              "Date:                Fri, 21 Apr 2023   Deviance:                       498.22\n",
              "Time:                        02:48:12   Pearson chi2:                     475.\n",
              "No. Iterations:                    14   Pseudo R-squ. (CS):             0.2797\n",
              "Covariance Type:            nonrobust                                         \n",
              "====================================================================================\n",
              "                       coef    std err          z      P>|z|      [0.025      0.975]\n",
              "------------------------------------------------------------------------------------\n",
              "const                6.8889      0.062    111.032      0.000       6.767       7.011\n",
              "Hour                 0.7166      0.079      9.063      0.000       0.562       0.872\n",
              "Temperature          0.1530      0.032      4.833      0.000       0.091       0.215\n",
              "Humidity            -0.0793      0.040     -1.971      0.049      -0.158      -0.000\n",
              "Rainfall            -0.8853      0.111     -7.951      0.000      -1.104      -0.667\n",
              "Snowfall            -0.0711      0.027     -2.587      0.010      -0.125      -0.017\n",
              "Weekday             -0.0632      0.026     -2.453      0.014      -0.114      -0.013\n",
              "Hour2               -0.1294      0.032     -4.006      0.000      -0.193      -0.066\n",
              "Hour3               -0.2104      0.037     -5.678      0.000      -0.283      -0.138\n",
              "Rainfall2            0.0974      0.019      5.129      0.000       0.060       0.135\n",
              "Rainfall3           -0.0028      0.001     -4.407      0.000      -0.004      -0.002\n",
              "Visibility3          0.0232      0.011      2.203      0.028       0.003       0.044\n",
              "Solar_Radiation2    -0.2192      0.088     -2.482      0.013      -0.392      -0.046\n",
              "Solar_Radiation3     0.0672      0.032      2.112      0.035       0.005       0.130\n",
              "====================================================================================\n",
              "\"\"\""
            ],
            "text/html": [
              "<table class=\"simpletable\">\n",
              "<caption>Generalized Linear Model Regression Results</caption>\n",
              "<tr>\n",
              "  <th>Dep. Variable:</th>         <td>Bike</td>       <th>  No. Observations:  </th>  <td>  1549</td> \n",
              "</tr>\n",
              "<tr>\n",
              "  <th>Model:</th>                  <td>GLM</td>       <th>  Df Residuals:      </th>  <td>  1535</td> \n",
              "</tr>\n",
              "<tr>\n",
              "  <th>Model Family:</th>    <td>NegativeBinomial</td> <th>  Df Model:          </th>  <td>    13</td> \n",
              "</tr>\n",
              "<tr>\n",
              "  <th>Link Function:</th>          <td>Log</td>       <th>  Scale:             </th> <td>  1.0000</td>\n",
              "</tr>\n",
              "<tr>\n",
              "  <th>Method:</th>                <td>IRLS</td>       <th>  Log-Likelihood:    </th> <td> -11887.</td>\n",
              "</tr>\n",
              "<tr>\n",
              "  <th>Date:</th>            <td>Fri, 21 Apr 2023</td> <th>  Deviance:          </th> <td>  498.22</td>\n",
              "</tr>\n",
              "<tr>\n",
              "  <th>Time:</th>                <td>02:48:12</td>     <th>  Pearson chi2:      </th>  <td>  475.</td> \n",
              "</tr>\n",
              "<tr>\n",
              "  <th>No. Iterations:</th>         <td>14</td>        <th>  Pseudo R-squ. (CS):</th>  <td>0.2797</td> \n",
              "</tr>\n",
              "<tr>\n",
              "  <th>Covariance Type:</th>     <td>nonrobust</td>    <th>                     </th>     <td> </td>   \n",
              "</tr>\n",
              "</table>\n",
              "<table class=\"simpletable\">\n",
              "<tr>\n",
              "          <td></td>            <th>coef</th>     <th>std err</th>      <th>z</th>      <th>P>|z|</th>  <th>[0.025</th>    <th>0.975]</th>  \n",
              "</tr>\n",
              "<tr>\n",
              "  <th>const</th>            <td>    6.8889</td> <td>    0.062</td> <td>  111.032</td> <td> 0.000</td> <td>    6.767</td> <td>    7.011</td>\n",
              "</tr>\n",
              "<tr>\n",
              "  <th>Hour</th>             <td>    0.7166</td> <td>    0.079</td> <td>    9.063</td> <td> 0.000</td> <td>    0.562</td> <td>    0.872</td>\n",
              "</tr>\n",
              "<tr>\n",
              "  <th>Temperature</th>      <td>    0.1530</td> <td>    0.032</td> <td>    4.833</td> <td> 0.000</td> <td>    0.091</td> <td>    0.215</td>\n",
              "</tr>\n",
              "<tr>\n",
              "  <th>Humidity</th>         <td>   -0.0793</td> <td>    0.040</td> <td>   -1.971</td> <td> 0.049</td> <td>   -0.158</td> <td>   -0.000</td>\n",
              "</tr>\n",
              "<tr>\n",
              "  <th>Rainfall</th>         <td>   -0.8853</td> <td>    0.111</td> <td>   -7.951</td> <td> 0.000</td> <td>   -1.104</td> <td>   -0.667</td>\n",
              "</tr>\n",
              "<tr>\n",
              "  <th>Snowfall</th>         <td>   -0.0711</td> <td>    0.027</td> <td>   -2.587</td> <td> 0.010</td> <td>   -0.125</td> <td>   -0.017</td>\n",
              "</tr>\n",
              "<tr>\n",
              "  <th>Weekday</th>          <td>   -0.0632</td> <td>    0.026</td> <td>   -2.453</td> <td> 0.014</td> <td>   -0.114</td> <td>   -0.013</td>\n",
              "</tr>\n",
              "<tr>\n",
              "  <th>Hour2</th>            <td>   -0.1294</td> <td>    0.032</td> <td>   -4.006</td> <td> 0.000</td> <td>   -0.193</td> <td>   -0.066</td>\n",
              "</tr>\n",
              "<tr>\n",
              "  <th>Hour3</th>            <td>   -0.2104</td> <td>    0.037</td> <td>   -5.678</td> <td> 0.000</td> <td>   -0.283</td> <td>   -0.138</td>\n",
              "</tr>\n",
              "<tr>\n",
              "  <th>Rainfall2</th>        <td>    0.0974</td> <td>    0.019</td> <td>    5.129</td> <td> 0.000</td> <td>    0.060</td> <td>    0.135</td>\n",
              "</tr>\n",
              "<tr>\n",
              "  <th>Rainfall3</th>        <td>   -0.0028</td> <td>    0.001</td> <td>   -4.407</td> <td> 0.000</td> <td>   -0.004</td> <td>   -0.002</td>\n",
              "</tr>\n",
              "<tr>\n",
              "  <th>Visibility3</th>      <td>    0.0232</td> <td>    0.011</td> <td>    2.203</td> <td> 0.028</td> <td>    0.003</td> <td>    0.044</td>\n",
              "</tr>\n",
              "<tr>\n",
              "  <th>Solar_Radiation2</th> <td>   -0.2192</td> <td>    0.088</td> <td>   -2.482</td> <td> 0.013</td> <td>   -0.392</td> <td>   -0.046</td>\n",
              "</tr>\n",
              "<tr>\n",
              "  <th>Solar_Radiation3</th> <td>    0.0672</td> <td>    0.032</td> <td>    2.112</td> <td> 0.035</td> <td>    0.005</td> <td>    0.130</td>\n",
              "</tr>\n",
              "</table>"
            ]
          },
          "metadata": {},
          "execution_count": 138
        }
      ]
    },
    {
      "cell_type": "markdown",
      "source": [
        "**Observations**\n",
        "- We ended up with some 2nd order and 3rd order terms"
      ],
      "metadata": {
        "id": "sYTrqlLprsG8"
      }
    },
    {
      "cell_type": "code",
      "source": [
        "X_poly_sd_vs = X_poly_sd[['const','Hour','Temperature','Humidity','Rainfall','Snowfall','Weekday','Hour2','Hour3','Rainfall2','Rainfall3','Visibility3','Solar_Radiation2','Solar_Radiation3']]"
      ],
      "metadata": {
        "id": "BoB8kZg4rsG8"
      },
      "execution_count": null,
      "outputs": []
    },
    {
      "cell_type": "markdown",
      "source": [
        "### **Prediction**"
      ],
      "metadata": {
        "id": "csKDZLSUrsG8"
      }
    },
    {
      "cell_type": "markdown",
      "source": [
        "#### Use the final selection of the polynomials to run the negative binomial model (standardized)"
      ],
      "metadata": {
        "id": "eggrZVn8rsG8"
      }
    },
    {
      "cell_type": "code",
      "source": [
        "X_poly_sd_test = X_test_sd_constant\n",
        "X_poly_sd_test['Hour2'] = X_poly_sd_test['Hour'] ** 2\n",
        "X_poly_sd_test['Hour3'] = X_poly_sd_test['Hour'] ** 3\n",
        "X_poly_sd_test['Weekday2'] = X_poly_sd_test['Weekday'] ** 2\n",
        "X_poly_sd_test['Weekday3'] = X_poly_sd_test['Weekday'] ** 3\n",
        "X_poly_sd_test['Rainfall2'] = X_poly_sd_test['Rainfall'] ** 2\n",
        "X_poly_sd_test['Rainfall3'] = X_poly_sd_test['Rainfall'] ** 3\n",
        "X_poly_sd_test['Snowfall2'] = X_poly_sd_test['Snowfall'] ** 2\n",
        "X_poly_sd_test['Snowfall3'] = X_poly_sd_test['Snowfall'] ** 3\n",
        "X_poly_sd_test['Visibility2'] = X_poly_sd_test['Visibility'] ** 2\n",
        "X_poly_sd_test['Visibility3'] = X_poly_sd_test['Visibility'] ** 3\n",
        "X_poly_sd_test['Temperature2'] = X_poly_sd_test['Temperature'] ** 2\n",
        "X_poly_sd_test['Temperature3'] = X_poly_sd_test['Temperature'] ** 3\n",
        "X_poly_sd_test['Solar_Radiation2'] = X_poly_sd_test['Solar_Radiation'] ** 2\n",
        "X_poly_sd_test['Solar_Radiation3'] = X_poly_sd_test['Solar_Radiation'] ** 3\n",
        "X_poly_sd_test['Wind_Speed2'] = X_poly_sd_test['Wind_Speed'] ** 2\n",
        "X_poly_sd_test['Wind_Speed3'] = X_poly_sd_test['Wind_Speed'] ** 3"
      ],
      "metadata": {
        "id": "L6YpG4urrsG8"
      },
      "execution_count": null,
      "outputs": []
    },
    {
      "cell_type": "code",
      "source": [
        "X_poly_sd_test_vs = X_poly_sd_test[['const','Hour','Temperature','Humidity','Rainfall','Snowfall','Weekday','Hour2','Hour3','Rainfall2','Rainfall3','Visibility3','Solar_Radiation2','Solar_Radiation3']]"
      ],
      "metadata": {
        "id": "aaoQ21mKrsG8"
      },
      "execution_count": null,
      "outputs": []
    },
    {
      "cell_type": "markdown",
      "source": [
        "#### **MSE**\n",
        "- The **MSE** is about 141000, which is worse than non-standardized"
      ],
      "metadata": {
        "id": "KZdaAfjBrsG8"
      }
    },
    {
      "cell_type": "code",
      "source": [
        "negbin_pred = nb_model.predict(X_poly_sd_test_vs)\n",
        "print(\"Testing Mean squared error for Negative-Binomial model: \", mean_squared_error(y_test, negbin_pred))"
      ],
      "metadata": {
        "colab": {
          "base_uri": "https://localhost:8080/"
        },
        "outputId": "d2f7eaf3-a53a-4e05-b50e-5b087c8b1788",
        "id": "W2aXVuk5rsG8"
      },
      "execution_count": null,
      "outputs": [
        {
          "output_type": "stream",
          "name": "stdout",
          "text": [
            "Testing Mean squared error for Negative-Binomial model:  141615.502392477\n"
          ]
        }
      ]
    },
    {
      "cell_type": "markdown",
      "source": [
        "****"
      ],
      "metadata": {
        "id": "GJXC97hNrsG8"
      }
    },
    {
      "cell_type": "markdown",
      "source": [
        "## **Kernel-ridge regression (Polynomial)**"
      ],
      "metadata": {
        "id": "LoNaDaKSihVM"
      }
    },
    {
      "cell_type": "markdown",
      "source": [
        "- Fit a Kernel ridge regression on the polynomials(standardized) we just obtained, in order to counter non-linearity"
      ],
      "metadata": {
        "id": "XNnSHGCq5MHP"
      }
    },
    {
      "cell_type": "code",
      "source": [
        "from sklearn.kernel_ridge import KernelRidge"
      ],
      "metadata": {
        "id": "0BA7GwJSiiPR"
      },
      "execution_count": null,
      "outputs": []
    },
    {
      "cell_type": "code",
      "source": [
        "# Fit kernel ridge regression model with Gaussian kernel\n",
        "model = KernelRidge(kernel='rbf', alpha=0.1, gamma=0.2)\n",
        "model.fit(X_poly_sd, y_train)\n",
        "\n",
        "# Make predictions on new data\n",
        "y_pred = model.predict(X_poly_sd)"
      ],
      "metadata": {
        "id": "LxTSIjlQiiR9"
      },
      "execution_count": null,
      "outputs": []
    },
    {
      "cell_type": "markdown",
      "source": [
        "### **Diagnostics**"
      ],
      "metadata": {
        "id": "GPTQpcMP7HO4"
      }
    },
    {
      "cell_type": "markdown",
      "source": [
        "- The residual plot is not explanable"
      ],
      "metadata": {
        "id": "HvJMVwLw7JTo"
      }
    },
    {
      "cell_type": "code",
      "source": [
        "# plot residuals vs fitted values\n",
        "kernel_res = y_pred - y_train\n",
        "plt.scatter(y_train, kernel_res)\n",
        "plt.axhline(y=0, color='r', linestyle='--')\n",
        "plt.title('Homoscedasticity plot')\n",
        "plt.xlabel('Fitted values')\n",
        "plt.ylabel('Residuals')\n",
        "plt.show()"
      ],
      "metadata": {
        "colab": {
          "base_uri": "https://localhost:8080/",
          "height": 472
        },
        "id": "SCG7fxnRiiUU",
        "outputId": "bb65b26f-fa3d-4eeb-948d-0415ba7d0b68"
      },
      "execution_count": null,
      "outputs": [
        {
          "output_type": "display_data",
          "data": {
            "text/plain": [
              "<Figure size 640x480 with 1 Axes>"
            ],
            "image/png": "[encoded data removed]"
          },
          "metadata": {}
        }
      ]
    },
    {
      "cell_type": "markdown",
      "source": [
        "### **Prediction**\n",
        "- The best"
      ],
      "metadata": {
        "id": "cmeDfcLlyZqP"
      }
    },
    {
      "cell_type": "code",
      "source": [
        "for a in range(0, 20, 2):\n",
        "  alpha = a / 100\n",
        "  model = KernelRidge(kernel='rbf', alpha=alpha, gamma=0.2)\n",
        "  model.fit(X_poly_sd, y_train)\n",
        "  y_pred = model.predict(X_poly_sd)\n",
        "  print(f\"Training Mean squared error for Kernel_ridge regression model: {alpha}\", mean_squared_error(y_train, y_pred))\n",
        "\n",
        "  # Make predictions on new data\n",
        "  y_pred = model.predict(X_poly_sd_test)\n",
        "  print(f\"Testing Mean squared error for Kernel_ridge regression model: {alpha}\", mean_squared_error(y_test, y_pred))\n",
        "  print(\"\")"
      ],
      "metadata": {
        "id": "OISdznV1iiW-",
        "colab": {
          "base_uri": "https://localhost:8080/"
        },
        "outputId": "db1118fe-db62-4284-c850-3519654349f0"
      },
      "execution_count": null,
      "outputs": [
        {
          "output_type": "stream",
          "name": "stdout",
          "text": [
            "Training Mean squared error for Kernel_ridge regression model: 0.0 5.2244648526420627e-20\n",
            "Testing Mean squared error for Kernel_ridge regression model: 0.0 191296.34638756138\n",
            "\n",
            "Training Mean squared error for Kernel_ridge regression model: 0.02 1408.3430164308354\n",
            "Testing Mean squared error for Kernel_ridge regression model: 0.02 184078.51759908634\n",
            "\n",
            "Training Mean squared error for Kernel_ridge regression model: 0.04 3067.064025133331\n",
            "Testing Mean squared error for Kernel_ridge regression model: 0.04 184858.8094919712\n",
            "\n",
            "Training Mean squared error for Kernel_ridge regression model: 0.06 4757.948278705601\n",
            "Testing Mean squared error for Kernel_ridge regression model: 0.06 186018.1011239312\n",
            "\n",
            "Training Mean squared error for Kernel_ridge regression model: 0.08 6467.754558616823\n",
            "Testing Mean squared error for Kernel_ridge regression model: 0.08 187269.34346124408\n",
            "\n",
            "Training Mean squared error for Kernel_ridge regression model: 0.1 8194.457701838202\n",
            "Testing Mean squared error for Kernel_ridge regression model: 0.1 188550.35449813766\n",
            "\n",
            "Training Mean squared error for Kernel_ridge regression model: 0.12 9937.643026340147\n",
            "Testing Mean squared error for Kernel_ridge regression model: 0.12 189840.4415446064\n",
            "\n",
            "Training Mean squared error for Kernel_ridge regression model: 0.14 11696.952598956552\n",
            "Testing Mean squared error for Kernel_ridge regression model: 0.14 191131.0911000706\n",
            "\n",
            "Training Mean squared error for Kernel_ridge regression model: 0.16 13471.800282269971\n",
            "Testing Mean squared error for Kernel_ridge regression model: 0.16 192418.3659159342\n",
            "\n",
            "Training Mean squared error for Kernel_ridge regression model: 0.18 15261.3653496234\n",
            "Testing Mean squared error for Kernel_ridge regression model: 0.18 193700.3242244269\n",
            "\n"
          ]
        }
      ]
    },
    {
      "cell_type": "markdown",
      "source": [
        "**Observations**\n",
        "\n",
        "- After standardization, Kernel Ridge regression performs worse than raw regression or GLM\n",
        "- Kernel ridge regression has a acceptable trainng error but large testing error, which is a sign of over-fitting"
      ],
      "metadata": {
        "id": "fCTRPBN-ihXy"
      }
    },
    {
      "cell_type": "markdown",
      "source": [
        "### **Kernel Regression**"
      ],
      "metadata": {
        "id": "lpdF-fiL8P4_"
      }
    },
    {
      "cell_type": "code",
      "source": [
        "import numpy as np\n",
        "from sklearn.metrics.pairwise import rbf_kernel\n",
        "\n",
        "class RBFKernelRegression:\n",
        "    def __init__(self, gamma=1.0):\n",
        "        self.gamma = gamma\n",
        "        self.X_train = None\n",
        "        self.y_train = None\n",
        "    \n",
        "    def fit(self, X, y):\n",
        "        self.X_train = X\n",
        "        self.y_train = y\n",
        "    \n",
        "    def predict(self, X):\n",
        "        K = rbf_kernel(X, self.X_train, gamma=self.gamma)\n",
        "        y_pred = K.dot(self.y_train) / K.sum(axis=1)\n",
        "        return y_pred"
      ],
      "metadata": {
        "id": "_sQ-2NpY8P-_"
      },
      "execution_count": null,
      "outputs": []
    },
    {
      "cell_type": "code",
      "source": [
        "import pandas as pd\n",
        "from sklearn.model_selection import train_test_split\n",
        "from sklearn.metrics import mean_squared_error\n",
        "\n",
        "# Initialize RBFKernelRegression with gamma=0.1\n",
        "rbf_kernel_reg = RBFKernelRegression(gamma=0.01)\n",
        "\n",
        "# Fit the model on the training data\n",
        "rbf_kernel_reg.fit(X_poly, y_train)\n",
        "\n",
        "# Make predictions on the test data\n",
        "y_pred = rbf_kernel_reg.predict(X_poly_test)\n",
        "\n",
        "# Calculate root mean squared error\n",
        "mse = mean_squared_error(y_test, y_pred)\n",
        "print(f'Mean Squared Error: {mse}')"
      ],
      "metadata": {
        "id": "feJOZm278WBz"
      },
      "execution_count": null,
      "outputs": []
    },
    {
      "cell_type": "markdown",
      "source": [],
      "metadata": {
        "id": "IfFwmWnE8WHa"
      }
    },
    {
      "cell_type": "markdown",
      "source": [
        "## **SVM (Polynomial+Standardized)**"
      ],
      "metadata": {
        "id": "-_95NeYrihaY"
      }
    },
    {
      "cell_type": "markdown",
      "source": [
        "- SVM with the right choice of Kernel can also model non-linear relationship between predictors and irregular response variables\n"
      ],
      "metadata": {
        "id": "FfXGrssrihc_"
      }
    },
    {
      "cell_type": "code",
      "source": [
        "from sklearn.svm import SVR"
      ],
      "metadata": {
        "id": "LjGNy9eyKnSE"
      },
      "execution_count": null,
      "outputs": []
    },
    {
      "cell_type": "markdown",
      "source": [
        "### **Linear Kernels**"
      ],
      "metadata": {
        "id": "x98SeLyP070N"
      }
    },
    {
      "cell_type": "markdown",
      "source": [
        "- Using linear kernels, we tune the SVM model by applying different values of Cs"
      ],
      "metadata": {
        "id": "a-9Vfcyb_3L7"
      }
    },
    {
      "cell_type": "code",
      "source": [
        "# DONT RUN THIS\n",
        "for i in range(105,500,10):\n",
        "  C = i / 10\n",
        "  # create an SVM regression model\n",
        "  model = SVR(kernel='linear', C=C)\n",
        "\n",
        "  # fit the model on the training data\n",
        "  model.fit(X_poly_sd, y_train)\n",
        "  # predict on the testing data\n",
        "  y_pred = model.predict(X_poly_sd_test)\n",
        "\n",
        "  # calculate the mean squared error\n",
        "  mse = mean_squared_error(y_test, y_pred)\n",
        "  print(f\"Mean squared error for C = {C}: \", mse)"
      ],
      "metadata": {
        "colab": {
          "base_uri": "https://localhost:8080/"
        },
        "id": "V1QeIJ-TMA5e",
        "outputId": "81a9dffc-59f1-4caa-ca65-05e5e64aa7c0"
      },
      "execution_count": null,
      "outputs": [
        {
          "output_type": "stream",
          "name": "stdout",
          "text": [
            "Mean squared error for C = 10.5:  151546.07676759647\n",
            "Mean squared error for C = 11.5:  151404.50408821373\n",
            "Mean squared error for C = 12.5:  151062.77542913065\n",
            "Mean squared error for C = 13.5:  151182.9394772416\n",
            "Mean squared error for C = 14.5:  151108.01989262376\n",
            "Mean squared error for C = 15.5:  150911.54161834263\n",
            "Mean squared error for C = 16.5:  150785.88606923365\n",
            "Mean squared error for C = 17.5:  150821.164154891\n",
            "Mean squared error for C = 18.5:  150859.44040231034\n",
            "Mean squared error for C = 19.5:  150757.17077505478\n",
            "Mean squared error for C = 20.5:  150620.48799804944\n",
            "Mean squared error for C = 21.5:  150715.50174455307\n",
            "Mean squared error for C = 22.5:  150651.7017413935\n",
            "Mean squared error for C = 23.5:  150865.51259440908\n",
            "Mean squared error for C = 24.5:  150936.53471897217\n",
            "Mean squared error for C = 25.5:  150836.42655411366\n",
            "Mean squared error for C = 26.5:  150825.94203095298\n",
            "Mean squared error for C = 27.5:  150871.0907474298\n",
            "Mean squared error for C = 28.5:  150861.474801584\n",
            "Mean squared error for C = 29.5:  150812.14802874697\n",
            "Mean squared error for C = 30.5:  150945.77047131403\n",
            "Mean squared error for C = 31.5:  151135.703096461\n",
            "Mean squared error for C = 32.5:  151440.27502977216\n",
            "Mean squared error for C = 33.5:  151724.86752708745\n",
            "Mean squared error for C = 34.5:  152071.40161597158\n",
            "Mean squared error for C = 35.5:  152535.64455644944\n",
            "Mean squared error for C = 36.5:  153033.36436039518\n",
            "Mean squared error for C = 37.5:  153067.5700171973\n",
            "Mean squared error for C = 38.5:  153080.33076603565\n",
            "Mean squared error for C = 39.5:  153194.37118987317\n",
            "Mean squared error for C = 40.5:  153295.43080315995\n",
            "Mean squared error for C = 41.5:  153349.83149014824\n",
            "Mean squared error for C = 42.5:  153369.0865473056\n",
            "Mean squared error for C = 43.5:  153373.50725808748\n",
            "Mean squared error for C = 44.5:  153387.32690268007\n",
            "Mean squared error for C = 45.5:  153390.96185202748\n",
            "Mean squared error for C = 46.5:  153410.96257103045\n",
            "Mean squared error for C = 47.5:  153445.56051038005\n",
            "Mean squared error for C = 48.5:  153432.13661705266\n",
            "Mean squared error for C = 49.5:  153187.39251531707\n"
          ]
        }
      ]
    },
    {
      "cell_type": "markdown",
      "source": [
        "#### **Prediction**"
      ],
      "metadata": {
        "id": "D5vmgaUzAAie"
      }
    },
    {
      "cell_type": "code",
      "source": [
        "from sklearn.metrics import mean_squared_error\n",
        "# The best is 20.5\n",
        "model = SVR(kernel='linear', C=20.5)\n",
        "\n",
        "# fit the model on the training data\n",
        "model.fit(X_poly_sd, y_train)\n",
        "# predict on the testing data\n",
        "y_pred = model.predict(X_poly_sd_test)"
      ],
      "metadata": {
        "id": "KPD1LUkvfXR2"
      },
      "execution_count": null,
      "outputs": []
    },
    {
      "cell_type": "code",
      "source": [
        "# calculate the mean squared error\n",
        "mse = mean_squared_error(y_test, y_pred)\n",
        "print(f\"Mean squared error for C = {20.5}: \", mse)"
      ],
      "metadata": {
        "id": "pevvrJkhiyIG",
        "colab": {
          "base_uri": "https://localhost:8080/"
        },
        "outputId": "cc1dd73c-0633-472e-f014-a95ddd8ffcc5"
      },
      "execution_count": null,
      "outputs": [
        {
          "output_type": "stream",
          "name": "stdout",
          "text": [
            "Mean squared error for C = 20.5:  150620.48799804944\n"
          ]
        }
      ]
    },
    {
      "cell_type": "markdown",
      "source": [
        "**Observations**\n",
        "- SVM regression with **Linear** kernel is better than linear regression, but worse than GLM"
      ],
      "metadata": {
        "id": "tARGfO7DL3Bq"
      }
    },
    {
      "cell_type": "markdown",
      "source": [
        "### **Non-linear Kernels**"
      ],
      "metadata": {
        "id": "WXfG_Spi01z8"
      }
    },
    {
      "cell_type": "code",
      "source": [
        "# Fit regression model with polynomial kernel\n",
        "clf_poly = SVR(kernel='poly', degree=3, C=20.5, gamma='auto')\n",
        "clf_poly.fit(X_poly_sd, y_train)\n",
        "\n",
        "# predict on the testing data\n",
        "y_pred = clf_poly.predict(X_poly_sd_test)\n",
        "\n",
        "# calculate the mean squared error\n",
        "mse = mean_squared_error(y_test, y_pred)\n",
        "print(f\"Mean squared error for C = {20.5}: \", mse)"
      ],
      "metadata": {
        "id": "f3etgl7WfzGL"
      },
      "execution_count": null,
      "outputs": []
    },
    {
      "cell_type": "code",
      "source": [
        "# Fit regression model with RBF kernel\n",
        "clf_rbf = SVR(kernel='rbf', C=20.5, gamma=0.1)\n",
        "clf_rbf.fit(X_poly_sd, y_train)\n",
        "\n",
        "# predict on the testing data\n",
        "y_pred = clf_rbf.predict(X_poly_sd_test)\n",
        "\n",
        "# calculate the mean squared error\n",
        "mse = mean_squared_error(y_test, y_pred)\n",
        "print(f\"Mean squared error for C = {20.5}: \", mse)"
      ],
      "metadata": {
        "id": "ARJPHvMngGqC"
      },
      "execution_count": null,
      "outputs": []
    },
    {
      "cell_type": "code",
      "source": [
        "# Fit regression model with sigmoid kernel\n",
        "clf_sigmoid = SVR(kernel='sigmoid', C=20.5, gamma=0.1)\n",
        "clf_sigmoid.fit(X_poly_sd, y_train)\n",
        "\n",
        "# predict on the testing data\n",
        "y_pred = clf_sigmoid.predict(X_poly_sd_test)\n",
        "\n",
        "# calculate the mean squared error\n",
        "mse = mean_squared_error(y_test, y_pred)\n",
        "print(f\"Mean squared error for C = {20.5}: \", mse)"
      ],
      "metadata": {
        "id": "578qgMsOgHtr"
      },
      "execution_count": null,
      "outputs": []
    },
    {
      "cell_type": "markdown",
      "source": [
        "## **Other models**"
      ],
      "metadata": {
        "id": "4LWAYxVzihga"
      }
    },
    {
      "cell_type": "markdown",
      "source": [
        "### **Random Forest**"
      ],
      "metadata": {
        "id": "Apk8yCsIWXkG"
      }
    },
    {
      "cell_type": "code",
      "source": [
        "from sklearn.ensemble import RandomForestRegressor\n",
        "from sklearn.model_selection import cross_val_score\n",
        "\n",
        "# Define the range of n_estimators to test\n",
        "n_estimators_range = range(500, 701, 50)\n",
        "\n",
        "# Perform 10-fold cross-validation for each value of n_estimators\n",
        "for n in [150, 250, 400, 500, 600,700]:\n",
        "    # Initialize the random forest model\n",
        "    rf = RandomForestRegressor(n_estimators=n, random_state=42)\n",
        "\n",
        "    # Compute 10-fold cross-validation scores\n",
        "    cv_scores = cross_val_score(rf, X_train, y_train, cv=10, scoring='neg_mean_squared_error')\n",
        "\n",
        "    # Convert negative MSE scores to positive\n",
        "    cv_scores = -1 * cv_scores\n",
        "\n",
        "    # Calculate the mean and standard deviation of the CV scores\n",
        "    mean_cv_mse = cv_scores.mean()\n",
        "    std_cv_mse = cv_scores.std()\n",
        "\n",
        "    # Print the CV scores, C=150 is the best\n",
        "    print(f\"CV Mean squared error for estimators = {n}: {mean_cv_mse:.4f} (+/- {std_cv_mse:.4f})\")"
      ],
      "metadata": {
        "colab": {
          "base_uri": "https://localhost:8080/"
        },
        "id": "wVJDqo-qVzHm",
        "outputId": "974e3cce-edd7-4a2a-80a6-a0710320a54b"
      },
      "execution_count": 6,
      "outputs": [
        {
          "output_type": "stream",
          "name": "stdout",
          "text": [
            "CV Mean squared error for estimators = 150: 42101.9760 (+/- 12835.8109)\n",
            "CV Mean squared error for estimators = 250: 41451.2122 (+/- 12092.9814)\n",
            "CV Mean squared error for estimators = 400: 41697.4812 (+/- 12675.6290)\n",
            "CV Mean squared error for estimators = 500: 41438.1686 (+/- 12726.8713)\n",
            "CV Mean squared error for estimators = 600: 41309.4915 (+/- 12754.4669)\n",
            "CV Mean squared error for estimators = 700: 41421.9980 (+/- 12771.9320)\n"
          ]
        }
      ]
    },
    {
      "cell_type": "code",
      "source": [
        "import pandas as pd\n",
        "\n",
        "# create data\n",
        "grid_search = {\n",
        "        'No. Decision Trees': [150, 250, 400, 500, 600,700],\n",
        "        'Testing MSE': [50000, 60000, 75000, 80000]}\n",
        "\n",
        "# create dataframe\n",
        "df = pd.DataFrame(data)\n",
        "\n",
        "# format salary column\n",
        "df['Salary'] = df['Salary'].map('${:,.2f}'.format)\n",
        "\n",
        "# print table\n",
        "print(df.to_string(index=False))\n"
      ],
      "metadata": {
        "id": "b2KeQMYrs-Ct"
      },
      "execution_count": null,
      "outputs": []
    },
    {
      "cell_type": "code",
      "source": [
        "from sklearn.ensemble import RandomForestRegressor\n",
        "from sklearn.metrics import mean_squared_error, r2_score, mean_absolute_error\n",
        "\n",
        "rf = RandomForestRegressor(n_estimators=600, random_state=42)\n",
        "rf.fit(X_train, y_train)\n",
        "# Calculate the MSE for testing data\n",
        "mse = mean_squared_error(y_test, rf.predict(X_test))\n",
        "mae = mean_absolute_error(y_test, rf.predict(X_test))\n",
        "\n",
        "# Calculate the R^2 score of the random forest model\n",
        "r2_rf = r2_score(y_train, rf.predict(X_train))\n",
        "r2_rf\n",
        "\n",
        "print(f'Mean squared error for testing data at C = {600} is', mse, '\\n MAE is', mae, '\\nR2 is', r2_rf)"
      ],
      "metadata": {
        "colab": {
          "base_uri": "https://localhost:8080/"
        },
        "id": "ximkM-lfEqY0",
        "outputId": "1dd67e3a-52c2-4e5a-cc31-32d3f6275f88"
      },
      "execution_count": null,
      "outputs": [
        {
          "output_type": "stream",
          "name": "stdout",
          "text": [
            "Mean squared error for testing data at C = 600 is 43594.49111156358 \n",
            " MAE is 132.56296563573883 \n",
            "R2 is 0.9862062457596759\n"
          ]
        }
      ]
    },
    {
      "cell_type": "code",
      "source": [
        "import pandas as pd\n",
        "import matplotlib.pyplot as plt\n",
        "\n",
        "# create scatter plot\n",
        "plt.scatter(y_test, rf.predict(X_test), s=7.5)\n",
        "\n",
        "# plot 45-degree line\n",
        "plt.plot(y_test, y_test, '--', color='green')\n",
        "\n",
        "# set axis labels and title\n",
        "plt.xlabel('True Bike Count')\n",
        "plt.ylabel('Predicted Value')\n",
        "plt.title('True vs. Predicted')\n",
        "\n",
        "# display plot\n",
        "plt.show()"
      ],
      "metadata": {
        "colab": {
          "base_uri": "https://localhost:8080/",
          "height": 472
        },
        "id": "Qes5liot9rji",
        "outputId": "7d752cc2-241b-4b6e-bd45-45c3df7ddc74"
      },
      "execution_count": null,
      "outputs": [
        {
          "output_type": "display_data",
          "data": {
            "text/plain": [
              "<Figure size 640x480 with 1 Axes>"
            ],
            "image/png": "[encoded data removed]"
          },
          "metadata": {}
        }
      ]
    },
    {
      "cell_type": "code",
      "source": [
        "mean_squared_error(y_train, rf.predict(X_train))"
      ],
      "metadata": {
        "colab": {
          "base_uri": "https://localhost:8080/"
        },
        "id": "h9-mQQDzN4hj",
        "outputId": "a23fdbf0-f344-4cf4-ce7a-bc25f3cf49a2"
      },
      "execution_count": null,
      "outputs": [
        {
          "output_type": "execute_result",
          "data": {
            "text/plain": [
              "5384.317137125038"
            ]
          },
          "metadata": {},
          "execution_count": 13
        }
      ]
    },
    {
      "cell_type": "code",
      "source": [
        "import numpy as np\n",
        "np.sqrt(43594.49111156358)"
      ],
      "metadata": {
        "colab": {
          "base_uri": "https://localhost:8080/"
        },
        "id": "gWxNsG23OGvH",
        "outputId": "adf52446-1cae-4c1e-952d-d7816cc0fe5e"
      },
      "execution_count": null,
      "outputs": [
        {
          "output_type": "execute_result",
          "data": {
            "text/plain": [
              "208.79293836613243"
            ]
          },
          "metadata": {},
          "execution_count": 15
        }
      ]
    },
    {
      "cell_type": "code",
      "source": [
        "rf.score(X_train,y_train)"
      ],
      "metadata": {
        "colab": {
          "base_uri": "https://localhost:8080/"
        },
        "id": "qSfOwcbpyZhm",
        "outputId": "5b4ebaae-69c0-4fb5-e612-3517e5ef8864"
      },
      "execution_count": null,
      "outputs": [
        {
          "output_type": "execute_result",
          "data": {
            "text/plain": [
              "0.8766985011199582"
            ]
          },
          "metadata": {},
          "execution_count": 16
        }
      ]
    },
    {
      "cell_type": "markdown",
      "source": [
        "- Random forest beats other models by a large margin. It has a testing MSE of 37826, and an $R^2$ of 0.88.\n",
        "- The n_estimators parameter controls the complexity of the model and can have a significant impact on the performance of the model. A larger value of n_estimators can increase the accuracy of the model, but it also increases the computational cost and the risk of overfitting the training data."
      ],
      "metadata": {
        "id": "J7dXM7Y_Jrc-"
      }
    },
    {
      "cell_type": "markdown",
      "source": [
        "**Model Inspection**"
      ],
      "metadata": {
        "id": "5gWDq4BNH6Ry"
      }
    },
    {
      "cell_type": "code",
      "source": [
        "importance_scores = rf.feature_importances_\n",
        "feature_names = X_train.columns.tolist()\n",
        "\n",
        "# Create a dataframe of feature names and their importance scores\n",
        "feature_importance = pd.DataFrame({'feature': feature_names, 'importance': importance_scores})\n",
        "feature_importance = feature_importance.sort_values('importance', ascending=False)\n",
        "\n",
        "# Plot feature importances\n",
        "import matplotlib.pyplot as plt\n",
        "import seaborn as sns\n",
        "\n",
        "plt.figure(figsize=(10,6))\n",
        "sns.barplot(data=feature_importance, x='importance', y='feature')\n",
        "plt.title('Feature Importance Plot')\n",
        "plt.show()"
      ],
      "metadata": {
        "id": "nVwunnSEVzQ_",
        "colab": {
          "base_uri": "https://localhost:8080/",
          "height": 458
        },
        "outputId": "5e27b005-69aa-4b23-f2f1-db5791fc7dc4"
      },
      "execution_count": null,
      "outputs": [
        {
          "output_type": "display_data",
          "data": {
            "text/plain": [
              "<Figure size 1000x600 with 1 Axes>"
            ],
            "image/png": "[encoded data removed]"
          },
          "metadata": {}
        }
      ]
    },
    {
      "cell_type": "code",
      "source": [
        "X_train"
      ],
      "metadata": {
        "colab": {
          "base_uri": "https://localhost:8080/",
          "height": 423
        },
        "id": "fjyN1UgrBmqB",
        "outputId": "0d8a2a6d-5580-4942-86c9-e27fd24813f8"
      },
      "execution_count": null,
      "outputs": [
        {
          "output_type": "execute_result",
          "data": {
            "text/plain": [
              "      Hour  Temperature  Humidity  Wind_Speed  Visibility  Solar_Radiation  \\\n",
              "1507    19          9.8        45         1.3        1882             0.00   \n",
              "1899    14          6.0        27         0.6        1452             0.34   \n",
              "1187     2          9.5        58         3.0        2000             0.00   \n",
              "1509    20          9.5        44         1.8        1991             0.00   \n",
              "1775    22          2.7        85         1.1         580             0.00   \n",
              "...    ...          ...       ...         ...         ...              ...   \n",
              "1130     7          7.3        85         1.4        1039             0.00   \n",
              "1294    16         14.7        32         2.0        1934             1.13   \n",
              "860     14         18.9        31         2.6        1936             2.37   \n",
              "1459    12         10.6        72         2.0         365             0.29   \n",
              "1126    16         20.4        32         0.9        1720             0.84   \n",
              "\n",
              "      Rainfall  Snowfall  Holiday  Weekday  \n",
              "1507       0.0       0.0        0        2  \n",
              "1899       0.0       0.0        0        4  \n",
              "1187       0.0       0.0        0        6  \n",
              "1509       0.0       0.0        0        2  \n",
              "1775       0.0       3.2        0        6  \n",
              "...        ...       ...      ...      ...  \n",
              "1130       0.0       0.0        0        4  \n",
              "1294       0.0       0.0        0        4  \n",
              "860        0.0       0.0        0        7  \n",
              "1459       0.0       0.0        0        7  \n",
              "1126       0.0       0.0        0        4  \n",
              "\n",
              "[1452 rows x 10 columns]"
            ],
            "text/html": [
              "\n",
              "  <div id=\"df-3ff279f5-9e66-4973-84a9-9627d452b1f6\">\n",
              "    <div class=\"colab-df-container\">\n",
              "      <div>\n",
              "<style scoped>\n",
              "    .dataframe tbody tr th:only-of-type {\n",
              "        vertical-align: middle;\n",
              "    }\n",
              "\n",
              "    .dataframe tbody tr th {\n",
              "        vertical-align: top;\n",
              "    }\n",
              "\n",
              "    .dataframe thead th {\n",
              "        text-align: right;\n",
              "    }\n",
              "</style>\n",
              "<table border=\"1\" class=\"dataframe\">\n",
              "  <thead>\n",
              "    <tr style=\"text-align: right;\">\n",
              "      <th></th>\n",
              "      <th>Hour</th>\n",
              "      <th>Temperature</th>\n",
              "      <th>Humidity</th>\n",
              "      <th>Wind_Speed</th>\n",
              "      <th>Visibility</th>\n",
              "      <th>Solar_Radiation</th>\n",
              "      <th>Rainfall</th>\n",
              "      <th>Snowfall</th>\n",
              "      <th>Holiday</th>\n",
              "      <th>Weekday</th>\n",
              "    </tr>\n",
              "  </thead>\n",
              "  <tbody>\n",
              "    <tr>\n",
              "      <th>1507</th>\n",
              "      <td>19</td>\n",
              "      <td>9.8</td>\n",
              "      <td>45</td>\n",
              "      <td>1.3</td>\n",
              "      <td>1882</td>\n",
              "      <td>0.00</td>\n",
              "      <td>0.0</td>\n",
              "      <td>0.0</td>\n",
              "      <td>0</td>\n",
              "      <td>2</td>\n",
              "    </tr>\n",
              "    <tr>\n",
              "      <th>1899</th>\n",
              "      <td>14</td>\n",
              "      <td>6.0</td>\n",
              "      <td>27</td>\n",
              "      <td>0.6</td>\n",
              "      <td>1452</td>\n",
              "      <td>0.34</td>\n",
              "      <td>0.0</td>\n",
              "      <td>0.0</td>\n",
              "      <td>0</td>\n",
              "      <td>4</td>\n",
              "    </tr>\n",
              "    <tr>\n",
              "      <th>1187</th>\n",
              "      <td>2</td>\n",
              "      <td>9.5</td>\n",
              "      <td>58</td>\n",
              "      <td>3.0</td>\n",
              "      <td>2000</td>\n",
              "      <td>0.00</td>\n",
              "      <td>0.0</td>\n",
              "      <td>0.0</td>\n",
              "      <td>0</td>\n",
              "      <td>6</td>\n",
              "    </tr>\n",
              "    <tr>\n",
              "      <th>1509</th>\n",
              "      <td>20</td>\n",
              "      <td>9.5</td>\n",
              "      <td>44</td>\n",
              "      <td>1.8</td>\n",
              "      <td>1991</td>\n",
              "      <td>0.00</td>\n",
              "      <td>0.0</td>\n",
              "      <td>0.0</td>\n",
              "      <td>0</td>\n",
              "      <td>2</td>\n",
              "    </tr>\n",
              "    <tr>\n",
              "      <th>1775</th>\n",
              "      <td>22</td>\n",
              "      <td>2.7</td>\n",
              "      <td>85</td>\n",
              "      <td>1.1</td>\n",
              "      <td>580</td>\n",
              "      <td>0.00</td>\n",
              "      <td>0.0</td>\n",
              "      <td>3.2</td>\n",
              "      <td>0</td>\n",
              "      <td>6</td>\n",
              "    </tr>\n",
              "    <tr>\n",
              "      <th>...</th>\n",
              "      <td>...</td>\n",
              "      <td>...</td>\n",
              "      <td>...</td>\n",
              "      <td>...</td>\n",
              "      <td>...</td>\n",
              "      <td>...</td>\n",
              "      <td>...</td>\n",
              "      <td>...</td>\n",
              "      <td>...</td>\n",
              "      <td>...</td>\n",
              "    </tr>\n",
              "    <tr>\n",
              "      <th>1130</th>\n",
              "      <td>7</td>\n",
              "      <td>7.3</td>\n",
              "      <td>85</td>\n",
              "      <td>1.4</td>\n",
              "      <td>1039</td>\n",
              "      <td>0.00</td>\n",
              "      <td>0.0</td>\n",
              "      <td>0.0</td>\n",
              "      <td>0</td>\n",
              "      <td>4</td>\n",
              "    </tr>\n",
              "    <tr>\n",
              "      <th>1294</th>\n",
              "      <td>16</td>\n",
              "      <td>14.7</td>\n",
              "      <td>32</td>\n",
              "      <td>2.0</td>\n",
              "      <td>1934</td>\n",
              "      <td>1.13</td>\n",
              "      <td>0.0</td>\n",
              "      <td>0.0</td>\n",
              "      <td>0</td>\n",
              "      <td>4</td>\n",
              "    </tr>\n",
              "    <tr>\n",
              "      <th>860</th>\n",
              "      <td>14</td>\n",
              "      <td>18.9</td>\n",
              "      <td>31</td>\n",
              "      <td>2.6</td>\n",
              "      <td>1936</td>\n",
              "      <td>2.37</td>\n",
              "      <td>0.0</td>\n",
              "      <td>0.0</td>\n",
              "      <td>0</td>\n",
              "      <td>7</td>\n",
              "    </tr>\n",
              "    <tr>\n",
              "      <th>1459</th>\n",
              "      <td>12</td>\n",
              "      <td>10.6</td>\n",
              "      <td>72</td>\n",
              "      <td>2.0</td>\n",
              "      <td>365</td>\n",
              "      <td>0.29</td>\n",
              "      <td>0.0</td>\n",
              "      <td>0.0</td>\n",
              "      <td>0</td>\n",
              "      <td>7</td>\n",
              "    </tr>\n",
              "    <tr>\n",
              "      <th>1126</th>\n",
              "      <td>16</td>\n",
              "      <td>20.4</td>\n",
              "      <td>32</td>\n",
              "      <td>0.9</td>\n",
              "      <td>1720</td>\n",
              "      <td>0.84</td>\n",
              "      <td>0.0</td>\n",
              "      <td>0.0</td>\n",
              "      <td>0</td>\n",
              "      <td>4</td>\n",
              "    </tr>\n",
              "  </tbody>\n",
              "</table>\n",
              "<p>1452 rows × 10 columns</p>\n",
              "</div>\n",
              "      <button class=\"colab-df-convert\" onclick=\"convertToInteractive('df-3ff279f5-9e66-4973-84a9-9627d452b1f6')\"\n",
              "              title=\"Convert this dataframe to an interactive table.\"\n",
              "              style=\"display:none;\">\n",
              "        \n",
              "  <svg xmlns=\"http://www.w3.org/2000/svg\" height=\"24px\"viewBox=\"0 0 24 24\"\n",
              "       width=\"24px\">\n",
              "    <path d=\"M0 0h24v24H0V0z\" fill=\"none\"/>\n",
              "    <path d=\"M18.56 5.44l.94 2.06.94-2.06 2.06-.94-2.06-.94-.94-2.06-.94 2.06-2.06.94zm-11 1L8.5 8.5l.94-2.06 2.06-.94-2.06-.94L8.5 2.5l-.94 2.06-2.06.94zm10 10l.94 2.06.94-2.06 2.06-.94-2.06-.94-.94-2.06-.94 2.06-2.06.94z\"/><path d=\"M17.41 7.96l-1.37-1.37c-.4-.4-.92-.59-1.43-.59-.52 0-1.04.2-1.43.59L10.3 9.45l-7.72 7.72c-.78.78-.78 2.05 0 2.83L4 21.41c.39.39.9.59 1.41.59.51 0 1.02-.2 1.41-.59l7.78-7.78 2.81-2.81c.8-.78.8-2.07 0-2.86zM5.41 20L4 18.59l7.72-7.72 1.47 1.35L5.41 20z\"/>\n",
              "  </svg>\n",
              "      </button>\n",
              "      \n",
              "  <style>\n",
              "    .colab-df-container {\n",
              "      display:flex;\n",
              "      flex-wrap:wrap;\n",
              "      gap: 12px;\n",
              "    }\n",
              "\n",
              "    .colab-df-convert {\n",
              "      background-color: #E8F0FE;\n",
              "      border: none;\n",
              "      border-radius: 50%;\n",
              "      cursor: pointer;\n",
              "      display: none;\n",
              "      fill: #1967D2;\n",
              "      height: 32px;\n",
              "      padding: 0 0 0 0;\n",
              "      width: 32px;\n",
              "    }\n",
              "\n",
              "    .colab-df-convert:hover {\n",
              "      background-color: #E2EBFA;\n",
              "      box-shadow: 0px 1px 2px rgba(60, 64, 67, 0.3), 0px 1px 3px 1px rgba(60, 64, 67, 0.15);\n",
              "      fill: #174EA6;\n",
              "    }\n",
              "\n",
              "    [theme=dark] .colab-df-convert {\n",
              "      background-color: #3B4455;\n",
              "      fill: #D2E3FC;\n",
              "    }\n",
              "\n",
              "    [theme=dark] .colab-df-convert:hover {\n",
              "      background-color: #434B5C;\n",
              "      box-shadow: 0px 1px 3px 1px rgba(0, 0, 0, 0.15);\n",
              "      filter: drop-shadow(0px 1px 2px rgba(0, 0, 0, 0.3));\n",
              "      fill: #FFFFFF;\n",
              "    }\n",
              "  </style>\n",
              "\n",
              "      <script>\n",
              "        const buttonEl =\n",
              "          document.querySelector('#df-3ff279f5-9e66-4973-84a9-9627d452b1f6 button.colab-df-convert');\n",
              "        buttonEl.style.display =\n",
              "          google.colab.kernel.accessAllowed ? 'block' : 'none';\n",
              "\n",
              "        async function convertToInteractive(key) {\n",
              "          const element = document.querySelector('#df-3ff279f5-9e66-4973-84a9-9627d452b1f6');\n",
              "          const dataTable =\n",
              "            await google.colab.kernel.invokeFunction('convertToInteractive',\n",
              "                                                     [key], {});\n",
              "          if (!dataTable) return;\n",
              "\n",
              "          const docLinkHtml = 'Like what you see? Visit the ' +\n",
              "            '<a target=\"_blank\" href=https://colab.research.google.com/notebooks/data_table.ipynb>data table notebook</a>'\n",
              "            + ' to learn more about interactive tables.';\n",
              "          element.innerHTML = '';\n",
              "          dataTable['output_type'] = 'display_data';\n",
              "          await google.colab.output.renderOutput(dataTable, element);\n",
              "          const docLink = document.createElement('div');\n",
              "          docLink.innerHTML = docLinkHtml;\n",
              "          element.appendChild(docLink);\n",
              "        }\n",
              "      </script>\n",
              "    </div>\n",
              "  </div>\n",
              "  "
            ]
          },
          "metadata": {},
          "execution_count": 15
        }
      ]
    },
    {
      "cell_type": "code",
      "source": [
        "!pip install --upgrade scikit-learn"
      ],
      "metadata": {
        "colab": {
          "base_uri": "https://localhost:8080/"
        },
        "id": "2uGmM8aKIO8q",
        "outputId": "1a08f3a7-1cbd-472c-e266-9762b3e9a887"
      },
      "execution_count": null,
      "outputs": [
        {
          "output_type": "stream",
          "name": "stdout",
          "text": [
            "Looking in indexes: https://pypi.org/simple, https://us-python.pkg.dev/colab-wheels/public/simple/\n",
            "Requirement already satisfied: scikit-learn in /usr/local/lib/python3.9/dist-packages (1.2.2)\n",
            "Requirement already satisfied: joblib>=1.1.1 in /usr/local/lib/python3.9/dist-packages (from scikit-learn) (1.2.0)\n",
            "Requirement already satisfied: scipy>=1.3.2 in /usr/local/lib/python3.9/dist-packages (from scikit-learn) (1.10.1)\n",
            "Requirement already satisfied: threadpoolctl>=2.0.0 in /usr/local/lib/python3.9/dist-packages (from scikit-learn) (3.1.0)\n",
            "Requirement already satisfied: numpy>=1.17.3 in /usr/local/lib/python3.9/dist-packages (from scikit-learn) (1.22.4)\n"
          ]
        }
      ]
    },
    {
      "cell_type": "markdown",
      "source": [],
      "metadata": {
        "id": "sT1lquscNj11"
      }
    },
    {
      "cell_type": "code",
      "source": [
        "from sklearn.inspection import PartialDependenceDisplay\n",
        "\n",
        "# Choose feature for which to create PDP (e.g. feature \"X1\")\n",
        "feature_idx = 0\n",
        "\n",
        "# Select range of values for chosen feature (e.g. 10 values between min and max of feature X1)\n",
        "# feature_range = pd.Series(X_train.iloc[:, feature_idx]).quantile([0.05, 0.1, 0.2, 0.3, 0.4, 0.5, 0.6, 0.7, 0.8, 0.9])\n",
        "\n",
        "# Create a copy of the original dataset with the chosen feature's values replaced by the selected range of values\n",
        "X_pdp = X_train.copy()\n",
        "# X_pdp.iloc[:, feature_idx] = feature_range\n",
        "\n",
        "# Plot the partial dependence of the chosen feature on the target variable using the random forest model\n",
        "for i in range(0,10):\n",
        "    ax = PartialDependenceDisplay.from_estimator(rf, X_pdp, [i])\n",
        "# ax.set_title(\"Partial Dependence Plot for Feature X1\")\n",
        "# ax.set_xlabel(\"Feature X1\")\n",
        "# ax.set_ylabel(\"Target Variable\")"
      ],
      "metadata": {
        "id": "V3gfIKNlVzVq"
      },
      "execution_count": null,
      "outputs": []
    },
    {
      "cell_type": "code",
      "source": [
        "X_train.columns[1:]"
      ],
      "metadata": {
        "colab": {
          "base_uri": "https://localhost:8080/"
        },
        "id": "D9Up6QRmf352",
        "outputId": "855894a6-f87f-4c0c-8306-c6b94d7c4a34"
      },
      "execution_count": null,
      "outputs": [
        {
          "output_type": "execute_result",
          "data": {
            "text/plain": [
              "Index(['Temperature', 'Humidity', 'Wind_Speed', 'Visibility',\n",
              "       'Solar_Radiation', 'Rainfall', 'Snowfall', 'Holiday', 'Weekday'],\n",
              "      dtype='object')"
            ]
          },
          "metadata": {},
          "execution_count": 46
        }
      ]
    },
    {
      "cell_type": "code",
      "source": [
        "features = [3,4,5,6,7]\n",
        "PartialDependenceDisplay.from_estimator(rf, X_train, features, target=0)"
      ],
      "metadata": {
        "colab": {
          "base_uri": "https://localhost:8080/",
          "height": 466
        },
        "id": "ZnZfduTWgkJ-",
        "outputId": "d7e77f22-d95e-4656-9cab-43e153c7f60c"
      },
      "execution_count": null,
      "outputs": [
        {
          "output_type": "execute_result",
          "data": {
            "text/plain": [
              "<sklearn.inspection._plot.partial_dependence.PartialDependenceDisplay at 0x7f82ad80ce80>"
            ]
          },
          "metadata": {},
          "execution_count": 60
        },
        {
          "output_type": "display_data",
          "data": {
            "text/plain": [
              "<Figure size 640x480 with 6 Axes>"
            ],
            "image/png": "[encoded data removed]"
          },
          "metadata": {}
        }
      ]
    },
    {
      "cell_type": "code",
      "source": [
        "n_cols = 2\n",
        "n_rows = int(6/n_cols)\n",
        "fig, ax = plt.subplots(n_rows, n_cols, figsize=(5, 5))\n",
        "PartialDependenceDisplay.from_estimator(rf, X_train, features=[3,4,5,6,7,8], ax=ax, target=0)\n",
        "fig.suptitle('Partial Dependence Plots')\n",
        "fig.tight_layout();"
      ],
      "metadata": {
        "colab": {
          "base_uri": "https://localhost:8080/",
          "height": 512
        },
        "id": "r9nwcwttfNhB",
        "outputId": "152166f2-b21e-40ca-b0a7-fa35a727025d"
      },
      "execution_count": null,
      "outputs": [
        {
          "output_type": "display_data",
          "data": {
            "text/plain": [
              "<Figure size 500x500 with 6 Axes>"
            ],
            "image/png": "[encoded data removed]"
          },
          "metadata": {}
        }
      ]
    },
    {
      "cell_type": "markdown",
      "source": [
        "**Observations**\n",
        "- It looks like Hour is playing a significant part in the counts of bikes rented. Temperature is also significant. Solar_radiation, weekday and humidity are next. The remaining predictors have little effect on the final count."
      ],
      "metadata": {
        "id": "7lSj4Jg-Q9tZ"
      }
    },
    {
      "cell_type": "code",
      "source": [
        "import numpy as np\n",
        "# Illustration on testing data\n",
        "# randomly select 15 rows from the testing data\n",
        "# Set random state\n",
        "np.random.seed(42)\n",
        "\n",
        "indices = np.random.choice(len(X_test), 15, replace=False)\n",
        "X_test_sample = X_test.iloc[indices]\n",
        "y_test_sample = y_test.iloc[indices]\n",
        "\n",
        "# predict using the RF model\n",
        "y_pred_sample = rf.predict(X_test_sample)\n",
        "\n",
        "# concatenate the predicted and true values with the predictors in a dataframe\n",
        "df_sample = pd.concat([X_test_sample.reset_index(drop=True),\n",
        "                       pd.Series(y_test_sample).reset_index(drop=True),\n",
        "                       pd.Series(y_pred_sample).reset_index(drop=True)], axis=1)\n",
        "df_sample.columns = list(X_test_sample.columns) + ['True', 'Pred']\n",
        "df_sample"
      ],
      "metadata": {
        "id": "f_p-FHqiVzX5",
        "colab": {
          "base_uri": "https://localhost:8080/",
          "height": 519
        },
        "outputId": "15b66f59-8894-4d64-a2ea-29b8298536b8"
      },
      "execution_count": null,
      "outputs": [
        {
          "output_type": "execute_result",
          "data": {
            "text/plain": [
              "    Hour  Temperature  Humidity  Wind_Speed  Visibility  Solar_Radiation  \\\n",
              "0     14         10.1        37         2.4        1723             1.24   \n",
              "1     14         15.0        37         1.6        1703             1.82   \n",
              "2      6         19.8        82         0.5        2000             0.00   \n",
              "3     12         24.3        59         1.5        2000             1.12   \n",
              "4      9         19.9        51         0.6        1906             1.46   \n",
              "5     14         19.9        29         1.9        1833             2.09   \n",
              "6     19         13.8        81         1.5         760             0.00   \n",
              "7     22          3.0        59         1.1        1218             0.00   \n",
              "8     19         25.4        50         0.6        2000             0.07   \n",
              "9      6          7.6        75         0.6        1181             0.00   \n",
              "10     3         11.5        61         1.4        1399             0.00   \n",
              "11     3          5.6        69         0.1        2000             0.00   \n",
              "12     9         24.1        56         2.1        1956             1.46   \n",
              "13    21         10.6        70         2.4        2000             0.00   \n",
              "14     3         12.8        57         0.5        1715             0.00   \n",
              "\n",
              "    Rainfall  Snowfall  Holiday  Weekday  True         Pred  \n",
              "0        0.0       0.0        0        7  1054   879.758333  \n",
              "1        0.0       0.0        0        2   928  1013.701667  \n",
              "2        0.0       0.0        0        3   676   650.143333  \n",
              "3        0.0       0.0        0        4  1119  1077.511667  \n",
              "4        0.0       0.0        0        6   956  1018.741667  \n",
              "5        0.0       0.0        0        2  1113  1262.758333  \n",
              "6        0.0       0.0        0        3  1176  1420.201667  \n",
              "7        0.0       0.0        0        4   726   791.868333  \n",
              "8        0.0       0.0        0        3  2443  2364.115000  \n",
              "9        0.0       0.0        0        7   172   170.768333  \n",
              "10       0.0       0.0        0        2   253   213.138333  \n",
              "11       0.0       0.0        0        3   227   206.540000  \n",
              "12       0.0       0.0        0        6   925  1046.161667  \n",
              "13       0.0       0.0        0        5   542  1080.815000  \n",
              "14       0.0       0.0        0        5   327   316.356667  "
            ],
            "text/html": [
              "\n",
              "  <div id=\"df-2d739605-293b-4210-b251-ad3cdfb63cfa\">\n",
              "    <div class=\"colab-df-container\">\n",
              "      <div>\n",
              "<style scoped>\n",
              "    .dataframe tbody tr th:only-of-type {\n",
              "        vertical-align: middle;\n",
              "    }\n",
              "\n",
              "    .dataframe tbody tr th {\n",
              "        vertical-align: top;\n",
              "    }\n",
              "\n",
              "    .dataframe thead th {\n",
              "        text-align: right;\n",
              "    }\n",
              "</style>\n",
              "<table border=\"1\" class=\"dataframe\">\n",
              "  <thead>\n",
              "    <tr style=\"text-align: right;\">\n",
              "      <th></th>\n",
              "      <th>Hour</th>\n",
              "      <th>Temperature</th>\n",
              "      <th>Humidity</th>\n",
              "      <th>Wind_Speed</th>\n",
              "      <th>Visibility</th>\n",
              "      <th>Solar_Radiation</th>\n",
              "      <th>Rainfall</th>\n",
              "      <th>Snowfall</th>\n",
              "      <th>Holiday</th>\n",
              "      <th>Weekday</th>\n",
              "      <th>True</th>\n",
              "      <th>Pred</th>\n",
              "    </tr>\n",
              "  </thead>\n",
              "  <tbody>\n",
              "    <tr>\n",
              "      <th>0</th>\n",
              "      <td>14</td>\n",
              "      <td>10.1</td>\n",
              "      <td>37</td>\n",
              "      <td>2.4</td>\n",
              "      <td>1723</td>\n",
              "      <td>1.24</td>\n",
              "      <td>0.0</td>\n",
              "      <td>0.0</td>\n",
              "      <td>0</td>\n",
              "      <td>7</td>\n",
              "      <td>1054</td>\n",
              "      <td>879.758333</td>\n",
              "    </tr>\n",
              "    <tr>\n",
              "      <th>1</th>\n",
              "      <td>14</td>\n",
              "      <td>15.0</td>\n",
              "      <td>37</td>\n",
              "      <td>1.6</td>\n",
              "      <td>1703</td>\n",
              "      <td>1.82</td>\n",
              "      <td>0.0</td>\n",
              "      <td>0.0</td>\n",
              "      <td>0</td>\n",
              "      <td>2</td>\n",
              "      <td>928</td>\n",
              "      <td>1013.701667</td>\n",
              "    </tr>\n",
              "    <tr>\n",
              "      <th>2</th>\n",
              "      <td>6</td>\n",
              "      <td>19.8</td>\n",
              "      <td>82</td>\n",
              "      <td>0.5</td>\n",
              "      <td>2000</td>\n",
              "      <td>0.00</td>\n",
              "      <td>0.0</td>\n",
              "      <td>0.0</td>\n",
              "      <td>0</td>\n",
              "      <td>3</td>\n",
              "      <td>676</td>\n",
              "      <td>650.143333</td>\n",
              "    </tr>\n",
              "    <tr>\n",
              "      <th>3</th>\n",
              "      <td>12</td>\n",
              "      <td>24.3</td>\n",
              "      <td>59</td>\n",
              "      <td>1.5</td>\n",
              "      <td>2000</td>\n",
              "      <td>1.12</td>\n",
              "      <td>0.0</td>\n",
              "      <td>0.0</td>\n",
              "      <td>0</td>\n",
              "      <td>4</td>\n",
              "      <td>1119</td>\n",
              "      <td>1077.511667</td>\n",
              "    </tr>\n",
              "    <tr>\n",
              "      <th>4</th>\n",
              "      <td>9</td>\n",
              "      <td>19.9</td>\n",
              "      <td>51</td>\n",
              "      <td>0.6</td>\n",
              "      <td>1906</td>\n",
              "      <td>1.46</td>\n",
              "      <td>0.0</td>\n",
              "      <td>0.0</td>\n",
              "      <td>0</td>\n",
              "      <td>6</td>\n",
              "      <td>956</td>\n",
              "      <td>1018.741667</td>\n",
              "    </tr>\n",
              "    <tr>\n",
              "      <th>5</th>\n",
              "      <td>14</td>\n",
              "      <td>19.9</td>\n",
              "      <td>29</td>\n",
              "      <td>1.9</td>\n",
              "      <td>1833</td>\n",
              "      <td>2.09</td>\n",
              "      <td>0.0</td>\n",
              "      <td>0.0</td>\n",
              "      <td>0</td>\n",
              "      <td>2</td>\n",
              "      <td>1113</td>\n",
              "      <td>1262.758333</td>\n",
              "    </tr>\n",
              "    <tr>\n",
              "      <th>6</th>\n",
              "      <td>19</td>\n",
              "      <td>13.8</td>\n",
              "      <td>81</td>\n",
              "      <td>1.5</td>\n",
              "      <td>760</td>\n",
              "      <td>0.00</td>\n",
              "      <td>0.0</td>\n",
              "      <td>0.0</td>\n",
              "      <td>0</td>\n",
              "      <td>3</td>\n",
              "      <td>1176</td>\n",
              "      <td>1420.201667</td>\n",
              "    </tr>\n",
              "    <tr>\n",
              "      <th>7</th>\n",
              "      <td>22</td>\n",
              "      <td>3.0</td>\n",
              "      <td>59</td>\n",
              "      <td>1.1</td>\n",
              "      <td>1218</td>\n",
              "      <td>0.00</td>\n",
              "      <td>0.0</td>\n",
              "      <td>0.0</td>\n",
              "      <td>0</td>\n",
              "      <td>4</td>\n",
              "      <td>726</td>\n",
              "      <td>791.868333</td>\n",
              "    </tr>\n",
              "    <tr>\n",
              "      <th>8</th>\n",
              "      <td>19</td>\n",
              "      <td>25.4</td>\n",
              "      <td>50</td>\n",
              "      <td>0.6</td>\n",
              "      <td>2000</td>\n",
              "      <td>0.07</td>\n",
              "      <td>0.0</td>\n",
              "      <td>0.0</td>\n",
              "      <td>0</td>\n",
              "      <td>3</td>\n",
              "      <td>2443</td>\n",
              "      <td>2364.115000</td>\n",
              "    </tr>\n",
              "    <tr>\n",
              "      <th>9</th>\n",
              "      <td>6</td>\n",
              "      <td>7.6</td>\n",
              "      <td>75</td>\n",
              "      <td>0.6</td>\n",
              "      <td>1181</td>\n",
              "      <td>0.00</td>\n",
              "      <td>0.0</td>\n",
              "      <td>0.0</td>\n",
              "      <td>0</td>\n",
              "      <td>7</td>\n",
              "      <td>172</td>\n",
              "      <td>170.768333</td>\n",
              "    </tr>\n",
              "    <tr>\n",
              "      <th>10</th>\n",
              "      <td>3</td>\n",
              "      <td>11.5</td>\n",
              "      <td>61</td>\n",
              "      <td>1.4</td>\n",
              "      <td>1399</td>\n",
              "      <td>0.00</td>\n",
              "      <td>0.0</td>\n",
              "      <td>0.0</td>\n",
              "      <td>0</td>\n",
              "      <td>2</td>\n",
              "      <td>253</td>\n",
              "      <td>213.138333</td>\n",
              "    </tr>\n",
              "    <tr>\n",
              "      <th>11</th>\n",
              "      <td>3</td>\n",
              "      <td>5.6</td>\n",
              "      <td>69</td>\n",
              "      <td>0.1</td>\n",
              "      <td>2000</td>\n",
              "      <td>0.00</td>\n",
              "      <td>0.0</td>\n",
              "      <td>0.0</td>\n",
              "      <td>0</td>\n",
              "      <td>3</td>\n",
              "      <td>227</td>\n",
              "      <td>206.540000</td>\n",
              "    </tr>\n",
              "    <tr>\n",
              "      <th>12</th>\n",
              "      <td>9</td>\n",
              "      <td>24.1</td>\n",
              "      <td>56</td>\n",
              "      <td>2.1</td>\n",
              "      <td>1956</td>\n",
              "      <td>1.46</td>\n",
              "      <td>0.0</td>\n",
              "      <td>0.0</td>\n",
              "      <td>0</td>\n",
              "      <td>6</td>\n",
              "      <td>925</td>\n",
              "      <td>1046.161667</td>\n",
              "    </tr>\n",
              "    <tr>\n",
              "      <th>13</th>\n",
              "      <td>21</td>\n",
              "      <td>10.6</td>\n",
              "      <td>70</td>\n",
              "      <td>2.4</td>\n",
              "      <td>2000</td>\n",
              "      <td>0.00</td>\n",
              "      <td>0.0</td>\n",
              "      <td>0.0</td>\n",
              "      <td>0</td>\n",
              "      <td>5</td>\n",
              "      <td>542</td>\n",
              "      <td>1080.815000</td>\n",
              "    </tr>\n",
              "    <tr>\n",
              "      <th>14</th>\n",
              "      <td>3</td>\n",
              "      <td>12.8</td>\n",
              "      <td>57</td>\n",
              "      <td>0.5</td>\n",
              "      <td>1715</td>\n",
              "      <td>0.00</td>\n",
              "      <td>0.0</td>\n",
              "      <td>0.0</td>\n",
              "      <td>0</td>\n",
              "      <td>5</td>\n",
              "      <td>327</td>\n",
              "      <td>316.356667</td>\n",
              "    </tr>\n",
              "  </tbody>\n",
              "</table>\n",
              "</div>\n",
              "      <button class=\"colab-df-convert\" onclick=\"convertToInteractive('df-2d739605-293b-4210-b251-ad3cdfb63cfa')\"\n",
              "              title=\"Convert this dataframe to an interactive table.\"\n",
              "              style=\"display:none;\">\n",
              "        \n",
              "  <svg xmlns=\"http://www.w3.org/2000/svg\" height=\"24px\"viewBox=\"0 0 24 24\"\n",
              "       width=\"24px\">\n",
              "    <path d=\"M0 0h24v24H0V0z\" fill=\"none\"/>\n",
              "    <path d=\"M18.56 5.44l.94 2.06.94-2.06 2.06-.94-2.06-.94-.94-2.06-.94 2.06-2.06.94zm-11 1L8.5 8.5l.94-2.06 2.06-.94-2.06-.94L8.5 2.5l-.94 2.06-2.06.94zm10 10l.94 2.06.94-2.06 2.06-.94-2.06-.94-.94-2.06-.94 2.06-2.06.94z\"/><path d=\"M17.41 7.96l-1.37-1.37c-.4-.4-.92-.59-1.43-.59-.52 0-1.04.2-1.43.59L10.3 9.45l-7.72 7.72c-.78.78-.78 2.05 0 2.83L4 21.41c.39.39.9.59 1.41.59.51 0 1.02-.2 1.41-.59l7.78-7.78 2.81-2.81c.8-.78.8-2.07 0-2.86zM5.41 20L4 18.59l7.72-7.72 1.47 1.35L5.41 20z\"/>\n",
              "  </svg>\n",
              "      </button>\n",
              "      \n",
              "  <style>\n",
              "    .colab-df-container {\n",
              "      display:flex;\n",
              "      flex-wrap:wrap;\n",
              "      gap: 12px;\n",
              "    }\n",
              "\n",
              "    .colab-df-convert {\n",
              "      background-color: #E8F0FE;\n",
              "      border: none;\n",
              "      border-radius: 50%;\n",
              "      cursor: pointer;\n",
              "      display: none;\n",
              "      fill: #1967D2;\n",
              "      height: 32px;\n",
              "      padding: 0 0 0 0;\n",
              "      width: 32px;\n",
              "    }\n",
              "\n",
              "    .colab-df-convert:hover {\n",
              "      background-color: #E2EBFA;\n",
              "      box-shadow: 0px 1px 2px rgba(60, 64, 67, 0.3), 0px 1px 3px 1px rgba(60, 64, 67, 0.15);\n",
              "      fill: #174EA6;\n",
              "    }\n",
              "\n",
              "    [theme=dark] .colab-df-convert {\n",
              "      background-color: #3B4455;\n",
              "      fill: #D2E3FC;\n",
              "    }\n",
              "\n",
              "    [theme=dark] .colab-df-convert:hover {\n",
              "      background-color: #434B5C;\n",
              "      box-shadow: 0px 1px 3px 1px rgba(0, 0, 0, 0.15);\n",
              "      filter: drop-shadow(0px 1px 2px rgba(0, 0, 0, 0.3));\n",
              "      fill: #FFFFFF;\n",
              "    }\n",
              "  </style>\n",
              "\n",
              "      <script>\n",
              "        const buttonEl =\n",
              "          document.querySelector('#df-2d739605-293b-4210-b251-ad3cdfb63cfa button.colab-df-convert');\n",
              "        buttonEl.style.display =\n",
              "          google.colab.kernel.accessAllowed ? 'block' : 'none';\n",
              "\n",
              "        async function convertToInteractive(key) {\n",
              "          const element = document.querySelector('#df-2d739605-293b-4210-b251-ad3cdfb63cfa');\n",
              "          const dataTable =\n",
              "            await google.colab.kernel.invokeFunction('convertToInteractive',\n",
              "                                                     [key], {});\n",
              "          if (!dataTable) return;\n",
              "\n",
              "          const docLinkHtml = 'Like what you see? Visit the ' +\n",
              "            '<a target=\"_blank\" href=https://colab.research.google.com/notebooks/data_table.ipynb>data table notebook</a>'\n",
              "            + ' to learn more about interactive tables.';\n",
              "          element.innerHTML = '';\n",
              "          dataTable['output_type'] = 'display_data';\n",
              "          await google.colab.output.renderOutput(dataTable, element);\n",
              "          const docLink = document.createElement('div');\n",
              "          docLink.innerHTML = docLinkHtml;\n",
              "          element.appendChild(docLink);\n",
              "        }\n",
              "      </script>\n",
              "    </div>\n",
              "  </div>\n",
              "  "
            ]
          },
          "metadata": {},
          "execution_count": 13
        }
      ]
    },
    {
      "cell_type": "markdown",
      "source": [
        "**Illustrating model predictions**\n",
        "- 15 random samples were chosen from the testing data, their predictions are compared with true values\n",
        "- It looks like 6 out of 10 times the prediction is with a 10% margin"
      ],
      "metadata": {
        "id": "3mIMqZH8SjNt"
      }
    },
    {
      "cell_type": "code",
      "source": [
        "rf.predict(X_test)[y_test<50]"
      ],
      "metadata": {
        "id": "qwrSXzSCVzbT",
        "colab": {
          "base_uri": "https://localhost:8080/"
        },
        "outputId": "5ab7374f-1c5a-4330-dbd1-d00bb3b545e7"
      },
      "execution_count": null,
      "outputs": [
        {
          "output_type": "execute_result",
          "data": {
            "text/plain": [
              "array([ 72.75333333,  92.14      , 434.9       , 162.80666667,\n",
              "       142.11333333,  58.55333333,  33.02      ,  32.46      ,\n",
              "       536.85333333])"
            ]
          },
          "metadata": {},
          "execution_count": 39
        }
      ]
    },
    {
      "cell_type": "markdown",
      "source": [
        "- Compared with regression models, Random Forest performs better at predicting smaller values"
      ],
      "metadata": {
        "id": "i4KSGbBrSs_q"
      }
    },
    {
      "cell_type": "markdown",
      "source": [
        "#### **Construct a confidence interval for Random Forest predictions**"
      ],
      "metadata": {
        "id": "YTlPQOli_6Jd"
      }
    },
    {
      "cell_type": "markdown",
      "source": [
        "- Using bootstrapping, **Bootstrapping** is a resampling method where we randomly sample with replacement from our training dataset to create new datasets of the same size as our original dataset. We then fit a random forest model to each of these bootstrapped datasets and obtain a prediction for our test set."
      ],
      "metadata": {
        "id": "RwAMEpHQAdAp"
      }
    },
    {
      "cell_type": "code",
      "source": [
        "import numpy as np\n",
        "import pandas as pd\n",
        "from sklearn.ensemble import RandomForestRegressor\n",
        "\n",
        "# Set the number of bootstrap samples\n",
        "n_bootstrap = 100\n",
        "\n",
        "# Set random state\n",
        "np.random.seed(88)\n",
        "indices = np.random.choice(len(X_test), 15, replace=False)\n",
        "\n",
        "# select 15 testing data\n",
        "X_test_sample = X_test.iloc[indices]\n",
        "y_test_sample = y_test.iloc[indices]\n",
        "\n",
        "# need to grab indices from sample cuz indices is the positions\n",
        "indices = X_test_sample.index\n",
        "\n",
        "# Loop over the selected data points\n",
        "results = pd.concat([X_test_sample, y_test_sample], axis = 1)\n",
        "\n",
        "results['y_pred_mean'] = None\n",
        "results['y_pred_lower'] = None\n",
        "results['y_pred_upper'] = None\n",
        "\n",
        "for i in indices:\n",
        "    x = pd.DataFrame(X_test_sample.loc[i]).transpose()\n",
        "    y_true = y_test_sample.loc[i]\n",
        "    \n",
        "    # Bootstrap the predictions\n",
        "    y_pred_boot = []\n",
        "    for j in range(n_bootstrap):\n",
        "        # Draw bootstrap sample from X_train\n",
        "        indices = np.random.choice(len(X_train), size=500, replace=True)\n",
        "\n",
        "        # select rows from X and y using the indices\n",
        "        X_train_bootstrap = X_train.iloc[indices]\n",
        "        y_train_bootstrap = y_train.iloc[indices]\n",
        "\n",
        "        # Fit random forest model on bootstrap sample\n",
        "        rf_bootstrap = RandomForestRegressor(n_estimators=100, random_state=42)\n",
        "        rf_bootstrap.fit(X_train_bootstrap, y_train_bootstrap)\n",
        "        \n",
        "        # Predict on X_test\n",
        "        y_pred = rf_bootstrap.predict(x)\n",
        "        y_pred_boot.append(y_pred)\n",
        "\n",
        "    # Append results to dataframe\n",
        "    results.loc[i, 'y_pred_mean'] = np.mean(y_pred_boot)\n",
        "    results.loc[i, 'y_pred_lower'] = np.percentile(y_pred_boot, 2.5)\n",
        "    results.loc[i, 'y_pred_upper'] = np.percentile(y_pred_boot, 97.5)\n",
        "\n",
        "# Convert results to a dataframe\n",
        "results.sort_values(by='Bike',ascending=False)"
      ],
      "metadata": {
        "colab": {
          "base_uri": "https://localhost:8080/",
          "height": 520
        },
        "id": "0UnJM5PiF52f",
        "outputId": "936f0ac7-33dd-442b-8a0e-997c632b2fd4"
      },
      "execution_count": 5,
      "outputs": [
        {
          "output_type": "execute_result",
          "data": {
            "text/plain": [
              "      Hour  Temperature  Humidity  Wind_Speed  Visibility  Solar_Radiation  \\\n",
              "432     18         20.9        77         0.6        2000             0.23   \n",
              "887     16         20.3        44         2.2         793             1.09   \n",
              "611     11         22.3        50         1.3        2000             2.36   \n",
              "411     22         18.4        85         2.1        1772             0.00   \n",
              "1490     7          3.4        72         1.0        1989             0.00   \n",
              "993     10         13.8        44         1.5        1953             1.66   \n",
              "1457    15         10.2        58         2.0         573             0.29   \n",
              "1179     9          8.3        55         4.0        1853             0.89   \n",
              "1857    23          5.8        34         2.6         763             0.00   \n",
              "1639    23          7.0        55         0.2        1501             0.00   \n",
              "141      3         21.5        85         0.1        1282             0.00   \n",
              "832      4          6.2        71         1.1        2000             0.00   \n",
              "1360     5          6.6        73         0.3        1219             0.00   \n",
              "1790     8          0.4        96         3.1          33             0.00   \n",
              "71      17         22.7        96         4.9         452             0.07   \n",
              "\n",
              "      Rainfall  Snowfall  Holiday  Weekday  Bike y_pred_mean y_pred_lower  \\\n",
              "432        0.0       0.0        0        5  2235   2017.6442    1639.3705   \n",
              "887        0.0       0.0        0        1  1413   1482.5178    1315.6805   \n",
              "611        0.0       0.0        0        6  1284   1049.0486     961.7455   \n",
              "411        0.0       0.0        0        4  1049    905.4937    411.48175   \n",
              "1490       0.0       0.0        0        1  1004    972.7786      662.827   \n",
              "993        0.0       0.0        0        5   850    941.8081     868.2945   \n",
              "1457       0.0       0.0        0        7   832    856.4783    703.03925   \n",
              "1179       0.0       0.0        0        6   785    921.0952    814.50625   \n",
              "1857       0.0       0.0        0        2   593     795.487     677.5025   \n",
              "1639       0.0       0.0        0        7   532    739.1075     643.7925   \n",
              "141        0.0       0.0        0        4   320    344.8027    247.41925   \n",
              "832        0.0       0.0        0        5   168    167.3361    144.32825   \n",
              "1360       0.0       0.0        0        7   112    166.3497      129.086   \n",
              "1790       0.0       4.0        0        6    33    197.4514       56.095   \n",
              "71        13.0       0.0        0        1    23    563.2869    188.65225   \n",
              "\n",
              "     y_pred_upper  \n",
              "432     2404.2955  \n",
              "887     1744.6705  \n",
              "611    1149.78825  \n",
              "411     1358.0325  \n",
              "1490   1204.55775  \n",
              "993    1044.66925  \n",
              "1457     1033.175  \n",
              "1179     1055.835  \n",
              "1857      970.493  \n",
              "1639    887.87625  \n",
              "141     492.46475  \n",
              "832     197.13575  \n",
              "1360      218.869  \n",
              "1790     446.4465  \n",
              "71     1210.00475  "
            ],
            "text/html": [
              "\n",
              "  <div id=\"df-38e975e0-3286-4e48-91f5-bb797f0b638f\">\n",
              "    <div class=\"colab-df-container\">\n",
              "      <div>\n",
              "<style scoped>\n",
              "    .dataframe tbody tr th:only-of-type {\n",
              "        vertical-align: middle;\n",
              "    }\n",
              "\n",
              "    .dataframe tbody tr th {\n",
              "        vertical-align: top;\n",
              "    }\n",
              "\n",
              "    .dataframe thead th {\n",
              "        text-align: right;\n",
              "    }\n",
              "</style>\n",
              "<table border=\"1\" class=\"dataframe\">\n",
              "  <thead>\n",
              "    <tr style=\"text-align: right;\">\n",
              "      <th></th>\n",
              "      <th>Hour</th>\n",
              "      <th>Temperature</th>\n",
              "      <th>Humidity</th>\n",
              "      <th>Wind_Speed</th>\n",
              "      <th>Visibility</th>\n",
              "      <th>Solar_Radiation</th>\n",
              "      <th>Rainfall</th>\n",
              "      <th>Snowfall</th>\n",
              "      <th>Holiday</th>\n",
              "      <th>Weekday</th>\n",
              "      <th>Bike</th>\n",
              "      <th>y_pred_mean</th>\n",
              "      <th>y_pred_lower</th>\n",
              "      <th>y_pred_upper</th>\n",
              "    </tr>\n",
              "  </thead>\n",
              "  <tbody>\n",
              "    <tr>\n",
              "      <th>432</th>\n",
              "      <td>18</td>\n",
              "      <td>20.9</td>\n",
              "      <td>77</td>\n",
              "      <td>0.6</td>\n",
              "      <td>2000</td>\n",
              "      <td>0.23</td>\n",
              "      <td>0.0</td>\n",
              "      <td>0.0</td>\n",
              "      <td>0</td>\n",
              "      <td>5</td>\n",
              "      <td>2235</td>\n",
              "      <td>2017.6442</td>\n",
              "      <td>1639.3705</td>\n",
              "      <td>2404.2955</td>\n",
              "    </tr>\n",
              "    <tr>\n",
              "      <th>887</th>\n",
              "      <td>16</td>\n",
              "      <td>20.3</td>\n",
              "      <td>44</td>\n",
              "      <td>2.2</td>\n",
              "      <td>793</td>\n",
              "      <td>1.09</td>\n",
              "      <td>0.0</td>\n",
              "      <td>0.0</td>\n",
              "      <td>0</td>\n",
              "      <td>1</td>\n",
              "      <td>1413</td>\n",
              "      <td>1482.5178</td>\n",
              "      <td>1315.6805</td>\n",
              "      <td>1744.6705</td>\n",
              "    </tr>\n",
              "    <tr>\n",
              "      <th>611</th>\n",
              "      <td>11</td>\n",
              "      <td>22.3</td>\n",
              "      <td>50</td>\n",
              "      <td>1.3</td>\n",
              "      <td>2000</td>\n",
              "      <td>2.36</td>\n",
              "      <td>0.0</td>\n",
              "      <td>0.0</td>\n",
              "      <td>0</td>\n",
              "      <td>6</td>\n",
              "      <td>1284</td>\n",
              "      <td>1049.0486</td>\n",
              "      <td>961.7455</td>\n",
              "      <td>1149.78825</td>\n",
              "    </tr>\n",
              "    <tr>\n",
              "      <th>411</th>\n",
              "      <td>22</td>\n",
              "      <td>18.4</td>\n",
              "      <td>85</td>\n",
              "      <td>2.1</td>\n",
              "      <td>1772</td>\n",
              "      <td>0.00</td>\n",
              "      <td>0.0</td>\n",
              "      <td>0.0</td>\n",
              "      <td>0</td>\n",
              "      <td>4</td>\n",
              "      <td>1049</td>\n",
              "      <td>905.4937</td>\n",
              "      <td>411.48175</td>\n",
              "      <td>1358.0325</td>\n",
              "    </tr>\n",
              "    <tr>\n",
              "      <th>1490</th>\n",
              "      <td>7</td>\n",
              "      <td>3.4</td>\n",
              "      <td>72</td>\n",
              "      <td>1.0</td>\n",
              "      <td>1989</td>\n",
              "      <td>0.00</td>\n",
              "      <td>0.0</td>\n",
              "      <td>0.0</td>\n",
              "      <td>0</td>\n",
              "      <td>1</td>\n",
              "      <td>1004</td>\n",
              "      <td>972.7786</td>\n",
              "      <td>662.827</td>\n",
              "      <td>1204.55775</td>\n",
              "    </tr>\n",
              "    <tr>\n",
              "      <th>993</th>\n",
              "      <td>10</td>\n",
              "      <td>13.8</td>\n",
              "      <td>44</td>\n",
              "      <td>1.5</td>\n",
              "      <td>1953</td>\n",
              "      <td>1.66</td>\n",
              "      <td>0.0</td>\n",
              "      <td>0.0</td>\n",
              "      <td>0</td>\n",
              "      <td>5</td>\n",
              "      <td>850</td>\n",
              "      <td>941.8081</td>\n",
              "      <td>868.2945</td>\n",
              "      <td>1044.66925</td>\n",
              "    </tr>\n",
              "    <tr>\n",
              "      <th>1457</th>\n",
              "      <td>15</td>\n",
              "      <td>10.2</td>\n",
              "      <td>58</td>\n",
              "      <td>2.0</td>\n",
              "      <td>573</td>\n",
              "      <td>0.29</td>\n",
              "      <td>0.0</td>\n",
              "      <td>0.0</td>\n",
              "      <td>0</td>\n",
              "      <td>7</td>\n",
              "      <td>832</td>\n",
              "      <td>856.4783</td>\n",
              "      <td>703.03925</td>\n",
              "      <td>1033.175</td>\n",
              "    </tr>\n",
              "    <tr>\n",
              "      <th>1179</th>\n",
              "      <td>9</td>\n",
              "      <td>8.3</td>\n",
              "      <td>55</td>\n",
              "      <td>4.0</td>\n",
              "      <td>1853</td>\n",
              "      <td>0.89</td>\n",
              "      <td>0.0</td>\n",
              "      <td>0.0</td>\n",
              "      <td>0</td>\n",
              "      <td>6</td>\n",
              "      <td>785</td>\n",
              "      <td>921.0952</td>\n",
              "      <td>814.50625</td>\n",
              "      <td>1055.835</td>\n",
              "    </tr>\n",
              "    <tr>\n",
              "      <th>1857</th>\n",
              "      <td>23</td>\n",
              "      <td>5.8</td>\n",
              "      <td>34</td>\n",
              "      <td>2.6</td>\n",
              "      <td>763</td>\n",
              "      <td>0.00</td>\n",
              "      <td>0.0</td>\n",
              "      <td>0.0</td>\n",
              "      <td>0</td>\n",
              "      <td>2</td>\n",
              "      <td>593</td>\n",
              "      <td>795.487</td>\n",
              "      <td>677.5025</td>\n",
              "      <td>970.493</td>\n",
              "    </tr>\n",
              "    <tr>\n",
              "      <th>1639</th>\n",
              "      <td>23</td>\n",
              "      <td>7.0</td>\n",
              "      <td>55</td>\n",
              "      <td>0.2</td>\n",
              "      <td>1501</td>\n",
              "      <td>0.00</td>\n",
              "      <td>0.0</td>\n",
              "      <td>0.0</td>\n",
              "      <td>0</td>\n",
              "      <td>7</td>\n",
              "      <td>532</td>\n",
              "      <td>739.1075</td>\n",
              "      <td>643.7925</td>\n",
              "      <td>887.87625</td>\n",
              "    </tr>\n",
              "    <tr>\n",
              "      <th>141</th>\n",
              "      <td>3</td>\n",
              "      <td>21.5</td>\n",
              "      <td>85</td>\n",
              "      <td>0.1</td>\n",
              "      <td>1282</td>\n",
              "      <td>0.00</td>\n",
              "      <td>0.0</td>\n",
              "      <td>0.0</td>\n",
              "      <td>0</td>\n",
              "      <td>4</td>\n",
              "      <td>320</td>\n",
              "      <td>344.8027</td>\n",
              "      <td>247.41925</td>\n",
              "      <td>492.46475</td>\n",
              "    </tr>\n",
              "    <tr>\n",
              "      <th>832</th>\n",
              "      <td>4</td>\n",
              "      <td>6.2</td>\n",
              "      <td>71</td>\n",
              "      <td>1.1</td>\n",
              "      <td>2000</td>\n",
              "      <td>0.00</td>\n",
              "      <td>0.0</td>\n",
              "      <td>0.0</td>\n",
              "      <td>0</td>\n",
              "      <td>5</td>\n",
              "      <td>168</td>\n",
              "      <td>167.3361</td>\n",
              "      <td>144.32825</td>\n",
              "      <td>197.13575</td>\n",
              "    </tr>\n",
              "    <tr>\n",
              "      <th>1360</th>\n",
              "      <td>5</td>\n",
              "      <td>6.6</td>\n",
              "      <td>73</td>\n",
              "      <td>0.3</td>\n",
              "      <td>1219</td>\n",
              "      <td>0.00</td>\n",
              "      <td>0.0</td>\n",
              "      <td>0.0</td>\n",
              "      <td>0</td>\n",
              "      <td>7</td>\n",
              "      <td>112</td>\n",
              "      <td>166.3497</td>\n",
              "      <td>129.086</td>\n",
              "      <td>218.869</td>\n",
              "    </tr>\n",
              "    <tr>\n",
              "      <th>1790</th>\n",
              "      <td>8</td>\n",
              "      <td>0.4</td>\n",
              "      <td>96</td>\n",
              "      <td>3.1</td>\n",
              "      <td>33</td>\n",
              "      <td>0.00</td>\n",
              "      <td>0.0</td>\n",
              "      <td>4.0</td>\n",
              "      <td>0</td>\n",
              "      <td>6</td>\n",
              "      <td>33</td>\n",
              "      <td>197.4514</td>\n",
              "      <td>56.095</td>\n",
              "      <td>446.4465</td>\n",
              "    </tr>\n",
              "    <tr>\n",
              "      <th>71</th>\n",
              "      <td>17</td>\n",
              "      <td>22.7</td>\n",
              "      <td>96</td>\n",
              "      <td>4.9</td>\n",
              "      <td>452</td>\n",
              "      <td>0.07</td>\n",
              "      <td>13.0</td>\n",
              "      <td>0.0</td>\n",
              "      <td>0</td>\n",
              "      <td>1</td>\n",
              "      <td>23</td>\n",
              "      <td>563.2869</td>\n",
              "      <td>188.65225</td>\n",
              "      <td>1210.00475</td>\n",
              "    </tr>\n",
              "  </tbody>\n",
              "</table>\n",
              "</div>\n",
              "      <button class=\"colab-df-convert\" onclick=\"convertToInteractive('df-38e975e0-3286-4e48-91f5-bb797f0b638f')\"\n",
              "              title=\"Convert this dataframe to an interactive table.\"\n",
              "              style=\"display:none;\">\n",
              "        \n",
              "  <svg xmlns=\"http://www.w3.org/2000/svg\" height=\"24px\"viewBox=\"0 0 24 24\"\n",
              "       width=\"24px\">\n",
              "    <path d=\"M0 0h24v24H0V0z\" fill=\"none\"/>\n",
              "    <path d=\"M18.56 5.44l.94 2.06.94-2.06 2.06-.94-2.06-.94-.94-2.06-.94 2.06-2.06.94zm-11 1L8.5 8.5l.94-2.06 2.06-.94-2.06-.94L8.5 2.5l-.94 2.06-2.06.94zm10 10l.94 2.06.94-2.06 2.06-.94-2.06-.94-.94-2.06-.94 2.06-2.06.94z\"/><path d=\"M17.41 7.96l-1.37-1.37c-.4-.4-.92-.59-1.43-.59-.52 0-1.04.2-1.43.59L10.3 9.45l-7.72 7.72c-.78.78-.78 2.05 0 2.83L4 21.41c.39.39.9.59 1.41.59.51 0 1.02-.2 1.41-.59l7.78-7.78 2.81-2.81c.8-.78.8-2.07 0-2.86zM5.41 20L4 18.59l7.72-7.72 1.47 1.35L5.41 20z\"/>\n",
              "  </svg>\n",
              "      </button>\n",
              "      \n",
              "  <style>\n",
              "    .colab-df-container {\n",
              "      display:flex;\n",
              "      flex-wrap:wrap;\n",
              "      gap: 12px;\n",
              "    }\n",
              "\n",
              "    .colab-df-convert {\n",
              "      background-color: #E8F0FE;\n",
              "      border: none;\n",
              "      border-radius: 50%;\n",
              "      cursor: pointer;\n",
              "      display: none;\n",
              "      fill: #1967D2;\n",
              "      height: 32px;\n",
              "      padding: 0 0 0 0;\n",
              "      width: 32px;\n",
              "    }\n",
              "\n",
              "    .colab-df-convert:hover {\n",
              "      background-color: #E2EBFA;\n",
              "      box-shadow: 0px 1px 2px rgba(60, 64, 67, 0.3), 0px 1px 3px 1px rgba(60, 64, 67, 0.15);\n",
              "      fill: #174EA6;\n",
              "    }\n",
              "\n",
              "    [theme=dark] .colab-df-convert {\n",
              "      background-color: #3B4455;\n",
              "      fill: #D2E3FC;\n",
              "    }\n",
              "\n",
              "    [theme=dark] .colab-df-convert:hover {\n",
              "      background-color: #434B5C;\n",
              "      box-shadow: 0px 1px 3px 1px rgba(0, 0, 0, 0.15);\n",
              "      filter: drop-shadow(0px 1px 2px rgba(0, 0, 0, 0.3));\n",
              "      fill: #FFFFFF;\n",
              "    }\n",
              "  </style>\n",
              "\n",
              "      <script>\n",
              "        const buttonEl =\n",
              "          document.querySelector('#df-38e975e0-3286-4e48-91f5-bb797f0b638f button.colab-df-convert');\n",
              "        buttonEl.style.display =\n",
              "          google.colab.kernel.accessAllowed ? 'block' : 'none';\n",
              "\n",
              "        async function convertToInteractive(key) {\n",
              "          const element = document.querySelector('#df-38e975e0-3286-4e48-91f5-bb797f0b638f');\n",
              "          const dataTable =\n",
              "            await google.colab.kernel.invokeFunction('convertToInteractive',\n",
              "                                                     [key], {});\n",
              "          if (!dataTable) return;\n",
              "\n",
              "          const docLinkHtml = 'Like what you see? Visit the ' +\n",
              "            '<a target=\"_blank\" href=https://colab.research.google.com/notebooks/data_table.ipynb>data table notebook</a>'\n",
              "            + ' to learn more about interactive tables.';\n",
              "          element.innerHTML = '';\n",
              "          dataTable['output_type'] = 'display_data';\n",
              "          await google.colab.output.renderOutput(dataTable, element);\n",
              "          const docLink = document.createElement('div');\n",
              "          docLink.innerHTML = docLinkHtml;\n",
              "          element.appendChild(docLink);\n",
              "        }\n",
              "      </script>\n",
              "    </div>\n",
              "  </div>\n",
              "  "
            ]
          },
          "metadata": {},
          "execution_count": 5
        }
      ]
    },
    {
      "cell_type": "code",
      "source": [
        "results"
      ],
      "metadata": {
        "colab": {
          "base_uri": "https://localhost:8080/",
          "height": 520
        },
        "id": "YvlBuUf0pCLd",
        "outputId": "4d3a2021-f457-445b-f5f7-3dd7d0287003"
      },
      "execution_count": 6,
      "outputs": [
        {
          "output_type": "execute_result",
          "data": {
            "text/plain": [
              "      Hour  Temperature  Humidity  Wind_Speed  Visibility  Solar_Radiation  \\\n",
              "1360     5          6.6        73         0.3        1219             0.00   \n",
              "432     18         20.9        77         0.6        2000             0.23   \n",
              "141      3         21.5        85         0.1        1282             0.00   \n",
              "887     16         20.3        44         2.2         793             1.09   \n",
              "71      17         22.7        96         4.9         452             0.07   \n",
              "1790     8          0.4        96         3.1          33             0.00   \n",
              "1639    23          7.0        55         0.2        1501             0.00   \n",
              "611     11         22.3        50         1.3        2000             2.36   \n",
              "1457    15         10.2        58         2.0         573             0.29   \n",
              "993     10         13.8        44         1.5        1953             1.66   \n",
              "1857    23          5.8        34         2.6         763             0.00   \n",
              "1179     9          8.3        55         4.0        1853             0.89   \n",
              "411     22         18.4        85         2.1        1772             0.00   \n",
              "1490     7          3.4        72         1.0        1989             0.00   \n",
              "832      4          6.2        71         1.1        2000             0.00   \n",
              "\n",
              "      Rainfall  Snowfall  Holiday  Weekday  Bike y_pred_mean y_pred_lower  \\\n",
              "1360       0.0       0.0        0        7   112    166.3497      129.086   \n",
              "432        0.0       0.0        0        5  2235   2017.6442    1639.3705   \n",
              "141        0.0       0.0        0        4   320    344.8027    247.41925   \n",
              "887        0.0       0.0        0        1  1413   1482.5178    1315.6805   \n",
              "71        13.0       0.0        0        1    23    563.2869    188.65225   \n",
              "1790       0.0       4.0        0        6    33    197.4514       56.095   \n",
              "1639       0.0       0.0        0        7   532    739.1075     643.7925   \n",
              "611        0.0       0.0        0        6  1284   1049.0486     961.7455   \n",
              "1457       0.0       0.0        0        7   832    856.4783    703.03925   \n",
              "993        0.0       0.0        0        5   850    941.8081     868.2945   \n",
              "1857       0.0       0.0        0        2   593     795.487     677.5025   \n",
              "1179       0.0       0.0        0        6   785    921.0952    814.50625   \n",
              "411        0.0       0.0        0        4  1049    905.4937    411.48175   \n",
              "1490       0.0       0.0        0        1  1004    972.7786      662.827   \n",
              "832        0.0       0.0        0        5   168    167.3361    144.32825   \n",
              "\n",
              "     y_pred_upper  \n",
              "1360      218.869  \n",
              "432     2404.2955  \n",
              "141     492.46475  \n",
              "887     1744.6705  \n",
              "71     1210.00475  \n",
              "1790     446.4465  \n",
              "1639    887.87625  \n",
              "611    1149.78825  \n",
              "1457     1033.175  \n",
              "993    1044.66925  \n",
              "1857      970.493  \n",
              "1179     1055.835  \n",
              "411     1358.0325  \n",
              "1490   1204.55775  \n",
              "832     197.13575  "
            ],
            "text/html": [
              "\n",
              "  <div id=\"df-7f61a481-a812-4cb4-9dec-792a778a6885\">\n",
              "    <div class=\"colab-df-container\">\n",
              "      <div>\n",
              "<style scoped>\n",
              "    .dataframe tbody tr th:only-of-type {\n",
              "        vertical-align: middle;\n",
              "    }\n",
              "\n",
              "    .dataframe tbody tr th {\n",
              "        vertical-align: top;\n",
              "    }\n",
              "\n",
              "    .dataframe thead th {\n",
              "        text-align: right;\n",
              "    }\n",
              "</style>\n",
              "<table border=\"1\" class=\"dataframe\">\n",
              "  <thead>\n",
              "    <tr style=\"text-align: right;\">\n",
              "      <th></th>\n",
              "      <th>Hour</th>\n",
              "      <th>Temperature</th>\n",
              "      <th>Humidity</th>\n",
              "      <th>Wind_Speed</th>\n",
              "      <th>Visibility</th>\n",
              "      <th>Solar_Radiation</th>\n",
              "      <th>Rainfall</th>\n",
              "      <th>Snowfall</th>\n",
              "      <th>Holiday</th>\n",
              "      <th>Weekday</th>\n",
              "      <th>Bike</th>\n",
              "      <th>y_pred_mean</th>\n",
              "      <th>y_pred_lower</th>\n",
              "      <th>y_pred_upper</th>\n",
              "    </tr>\n",
              "  </thead>\n",
              "  <tbody>\n",
              "    <tr>\n",
              "      <th>1360</th>\n",
              "      <td>5</td>\n",
              "      <td>6.6</td>\n",
              "      <td>73</td>\n",
              "      <td>0.3</td>\n",
              "      <td>1219</td>\n",
              "      <td>0.00</td>\n",
              "      <td>0.0</td>\n",
              "      <td>0.0</td>\n",
              "      <td>0</td>\n",
              "      <td>7</td>\n",
              "      <td>112</td>\n",
              "      <td>166.3497</td>\n",
              "      <td>129.086</td>\n",
              "      <td>218.869</td>\n",
              "    </tr>\n",
              "    <tr>\n",
              "      <th>432</th>\n",
              "      <td>18</td>\n",
              "      <td>20.9</td>\n",
              "      <td>77</td>\n",
              "      <td>0.6</td>\n",
              "      <td>2000</td>\n",
              "      <td>0.23</td>\n",
              "      <td>0.0</td>\n",
              "      <td>0.0</td>\n",
              "      <td>0</td>\n",
              "      <td>5</td>\n",
              "      <td>2235</td>\n",
              "      <td>2017.6442</td>\n",
              "      <td>1639.3705</td>\n",
              "      <td>2404.2955</td>\n",
              "    </tr>\n",
              "    <tr>\n",
              "      <th>141</th>\n",
              "      <td>3</td>\n",
              "      <td>21.5</td>\n",
              "      <td>85</td>\n",
              "      <td>0.1</td>\n",
              "      <td>1282</td>\n",
              "      <td>0.00</td>\n",
              "      <td>0.0</td>\n",
              "      <td>0.0</td>\n",
              "      <td>0</td>\n",
              "      <td>4</td>\n",
              "      <td>320</td>\n",
              "      <td>344.8027</td>\n",
              "      <td>247.41925</td>\n",
              "      <td>492.46475</td>\n",
              "    </tr>\n",
              "    <tr>\n",
              "      <th>887</th>\n",
              "      <td>16</td>\n",
              "      <td>20.3</td>\n",
              "      <td>44</td>\n",
              "      <td>2.2</td>\n",
              "      <td>793</td>\n",
              "      <td>1.09</td>\n",
              "      <td>0.0</td>\n",
              "      <td>0.0</td>\n",
              "      <td>0</td>\n",
              "      <td>1</td>\n",
              "      <td>1413</td>\n",
              "      <td>1482.5178</td>\n",
              "      <td>1315.6805</td>\n",
              "      <td>1744.6705</td>\n",
              "    </tr>\n",
              "    <tr>\n",
              "      <th>71</th>\n",
              "      <td>17</td>\n",
              "      <td>22.7</td>\n",
              "      <td>96</td>\n",
              "      <td>4.9</td>\n",
              "      <td>452</td>\n",
              "      <td>0.07</td>\n",
              "      <td>13.0</td>\n",
              "      <td>0.0</td>\n",
              "      <td>0</td>\n",
              "      <td>1</td>\n",
              "      <td>23</td>\n",
              "      <td>563.2869</td>\n",
              "      <td>188.65225</td>\n",
              "      <td>1210.00475</td>\n",
              "    </tr>\n",
              "    <tr>\n",
              "      <th>1790</th>\n",
              "      <td>8</td>\n",
              "      <td>0.4</td>\n",
              "      <td>96</td>\n",
              "      <td>3.1</td>\n",
              "      <td>33</td>\n",
              "      <td>0.00</td>\n",
              "      <td>0.0</td>\n",
              "      <td>4.0</td>\n",
              "      <td>0</td>\n",
              "      <td>6</td>\n",
              "      <td>33</td>\n",
              "      <td>197.4514</td>\n",
              "      <td>56.095</td>\n",
              "      <td>446.4465</td>\n",
              "    </tr>\n",
              "    <tr>\n",
              "      <th>1639</th>\n",
              "      <td>23</td>\n",
              "      <td>7.0</td>\n",
              "      <td>55</td>\n",
              "      <td>0.2</td>\n",
              "      <td>1501</td>\n",
              "      <td>0.00</td>\n",
              "      <td>0.0</td>\n",
              "      <td>0.0</td>\n",
              "      <td>0</td>\n",
              "      <td>7</td>\n",
              "      <td>532</td>\n",
              "      <td>739.1075</td>\n",
              "      <td>643.7925</td>\n",
              "      <td>887.87625</td>\n",
              "    </tr>\n",
              "    <tr>\n",
              "      <th>611</th>\n",
              "      <td>11</td>\n",
              "      <td>22.3</td>\n",
              "      <td>50</td>\n",
              "      <td>1.3</td>\n",
              "      <td>2000</td>\n",
              "      <td>2.36</td>\n",
              "      <td>0.0</td>\n",
              "      <td>0.0</td>\n",
              "      <td>0</td>\n",
              "      <td>6</td>\n",
              "      <td>1284</td>\n",
              "      <td>1049.0486</td>\n",
              "      <td>961.7455</td>\n",
              "      <td>1149.78825</td>\n",
              "    </tr>\n",
              "    <tr>\n",
              "      <th>1457</th>\n",
              "      <td>15</td>\n",
              "      <td>10.2</td>\n",
              "      <td>58</td>\n",
              "      <td>2.0</td>\n",
              "      <td>573</td>\n",
              "      <td>0.29</td>\n",
              "      <td>0.0</td>\n",
              "      <td>0.0</td>\n",
              "      <td>0</td>\n",
              "      <td>7</td>\n",
              "      <td>832</td>\n",
              "      <td>856.4783</td>\n",
              "      <td>703.03925</td>\n",
              "      <td>1033.175</td>\n",
              "    </tr>\n",
              "    <tr>\n",
              "      <th>993</th>\n",
              "      <td>10</td>\n",
              "      <td>13.8</td>\n",
              "      <td>44</td>\n",
              "      <td>1.5</td>\n",
              "      <td>1953</td>\n",
              "      <td>1.66</td>\n",
              "      <td>0.0</td>\n",
              "      <td>0.0</td>\n",
              "      <td>0</td>\n",
              "      <td>5</td>\n",
              "      <td>850</td>\n",
              "      <td>941.8081</td>\n",
              "      <td>868.2945</td>\n",
              "      <td>1044.66925</td>\n",
              "    </tr>\n",
              "    <tr>\n",
              "      <th>1857</th>\n",
              "      <td>23</td>\n",
              "      <td>5.8</td>\n",
              "      <td>34</td>\n",
              "      <td>2.6</td>\n",
              "      <td>763</td>\n",
              "      <td>0.00</td>\n",
              "      <td>0.0</td>\n",
              "      <td>0.0</td>\n",
              "      <td>0</td>\n",
              "      <td>2</td>\n",
              "      <td>593</td>\n",
              "      <td>795.487</td>\n",
              "      <td>677.5025</td>\n",
              "      <td>970.493</td>\n",
              "    </tr>\n",
              "    <tr>\n",
              "      <th>1179</th>\n",
              "      <td>9</td>\n",
              "      <td>8.3</td>\n",
              "      <td>55</td>\n",
              "      <td>4.0</td>\n",
              "      <td>1853</td>\n",
              "      <td>0.89</td>\n",
              "      <td>0.0</td>\n",
              "      <td>0.0</td>\n",
              "      <td>0</td>\n",
              "      <td>6</td>\n",
              "      <td>785</td>\n",
              "      <td>921.0952</td>\n",
              "      <td>814.50625</td>\n",
              "      <td>1055.835</td>\n",
              "    </tr>\n",
              "    <tr>\n",
              "      <th>411</th>\n",
              "      <td>22</td>\n",
              "      <td>18.4</td>\n",
              "      <td>85</td>\n",
              "      <td>2.1</td>\n",
              "      <td>1772</td>\n",
              "      <td>0.00</td>\n",
              "      <td>0.0</td>\n",
              "      <td>0.0</td>\n",
              "      <td>0</td>\n",
              "      <td>4</td>\n",
              "      <td>1049</td>\n",
              "      <td>905.4937</td>\n",
              "      <td>411.48175</td>\n",
              "      <td>1358.0325</td>\n",
              "    </tr>\n",
              "    <tr>\n",
              "      <th>1490</th>\n",
              "      <td>7</td>\n",
              "      <td>3.4</td>\n",
              "      <td>72</td>\n",
              "      <td>1.0</td>\n",
              "      <td>1989</td>\n",
              "      <td>0.00</td>\n",
              "      <td>0.0</td>\n",
              "      <td>0.0</td>\n",
              "      <td>0</td>\n",
              "      <td>1</td>\n",
              "      <td>1004</td>\n",
              "      <td>972.7786</td>\n",
              "      <td>662.827</td>\n",
              "      <td>1204.55775</td>\n",
              "    </tr>\n",
              "    <tr>\n",
              "      <th>832</th>\n",
              "      <td>4</td>\n",
              "      <td>6.2</td>\n",
              "      <td>71</td>\n",
              "      <td>1.1</td>\n",
              "      <td>2000</td>\n",
              "      <td>0.00</td>\n",
              "      <td>0.0</td>\n",
              "      <td>0.0</td>\n",
              "      <td>0</td>\n",
              "      <td>5</td>\n",
              "      <td>168</td>\n",
              "      <td>167.3361</td>\n",
              "      <td>144.32825</td>\n",
              "      <td>197.13575</td>\n",
              "    </tr>\n",
              "  </tbody>\n",
              "</table>\n",
              "</div>\n",
              "      <button class=\"colab-df-convert\" onclick=\"convertToInteractive('df-7f61a481-a812-4cb4-9dec-792a778a6885')\"\n",
              "              title=\"Convert this dataframe to an interactive table.\"\n",
              "              style=\"display:none;\">\n",
              "        \n",
              "  <svg xmlns=\"http://www.w3.org/2000/svg\" height=\"24px\"viewBox=\"0 0 24 24\"\n",
              "       width=\"24px\">\n",
              "    <path d=\"M0 0h24v24H0V0z\" fill=\"none\"/>\n",
              "    <path d=\"M18.56 5.44l.94 2.06.94-2.06 2.06-.94-2.06-.94-.94-2.06-.94 2.06-2.06.94zm-11 1L8.5 8.5l.94-2.06 2.06-.94-2.06-.94L8.5 2.5l-.94 2.06-2.06.94zm10 10l.94 2.06.94-2.06 2.06-.94-2.06-.94-.94-2.06-.94 2.06-2.06.94z\"/><path d=\"M17.41 7.96l-1.37-1.37c-.4-.4-.92-.59-1.43-.59-.52 0-1.04.2-1.43.59L10.3 9.45l-7.72 7.72c-.78.78-.78 2.05 0 2.83L4 21.41c.39.39.9.59 1.41.59.51 0 1.02-.2 1.41-.59l7.78-7.78 2.81-2.81c.8-.78.8-2.07 0-2.86zM5.41 20L4 18.59l7.72-7.72 1.47 1.35L5.41 20z\"/>\n",
              "  </svg>\n",
              "      </button>\n",
              "      \n",
              "  <style>\n",
              "    .colab-df-container {\n",
              "      display:flex;\n",
              "      flex-wrap:wrap;\n",
              "      gap: 12px;\n",
              "    }\n",
              "\n",
              "    .colab-df-convert {\n",
              "      background-color: #E8F0FE;\n",
              "      border: none;\n",
              "      border-radius: 50%;\n",
              "      cursor: pointer;\n",
              "      display: none;\n",
              "      fill: #1967D2;\n",
              "      height: 32px;\n",
              "      padding: 0 0 0 0;\n",
              "      width: 32px;\n",
              "    }\n",
              "\n",
              "    .colab-df-convert:hover {\n",
              "      background-color: #E2EBFA;\n",
              "      box-shadow: 0px 1px 2px rgba(60, 64, 67, 0.3), 0px 1px 3px 1px rgba(60, 64, 67, 0.15);\n",
              "      fill: #174EA6;\n",
              "    }\n",
              "\n",
              "    [theme=dark] .colab-df-convert {\n",
              "      background-color: #3B4455;\n",
              "      fill: #D2E3FC;\n",
              "    }\n",
              "\n",
              "    [theme=dark] .colab-df-convert:hover {\n",
              "      background-color: #434B5C;\n",
              "      box-shadow: 0px 1px 3px 1px rgba(0, 0, 0, 0.15);\n",
              "      filter: drop-shadow(0px 1px 2px rgba(0, 0, 0, 0.3));\n",
              "      fill: #FFFFFF;\n",
              "    }\n",
              "  </style>\n",
              "\n",
              "      <script>\n",
              "        const buttonEl =\n",
              "          document.querySelector('#df-7f61a481-a812-4cb4-9dec-792a778a6885 button.colab-df-convert');\n",
              "        buttonEl.style.display =\n",
              "          google.colab.kernel.accessAllowed ? 'block' : 'none';\n",
              "\n",
              "        async function convertToInteractive(key) {\n",
              "          const element = document.querySelector('#df-7f61a481-a812-4cb4-9dec-792a778a6885');\n",
              "          const dataTable =\n",
              "            await google.colab.kernel.invokeFunction('convertToInteractive',\n",
              "                                                     [key], {});\n",
              "          if (!dataTable) return;\n",
              "\n",
              "          const docLinkHtml = 'Like what you see? Visit the ' +\n",
              "            '<a target=\"_blank\" href=https://colab.research.google.com/notebooks/data_table.ipynb>data table notebook</a>'\n",
              "            + ' to learn more about interactive tables.';\n",
              "          element.innerHTML = '';\n",
              "          dataTable['output_type'] = 'display_data';\n",
              "          await google.colab.output.renderOutput(dataTable, element);\n",
              "          const docLink = document.createElement('div');\n",
              "          docLink.innerHTML = docLinkHtml;\n",
              "          element.appendChild(docLink);\n",
              "        }\n",
              "      </script>\n",
              "    </div>\n",
              "  </div>\n",
              "  "
            ]
          },
          "metadata": {},
          "execution_count": 6
        }
      ]
    },
    {
      "cell_type": "code",
      "source": [
        "import matplotlib.pyplot as plt\n",
        "\n",
        "plt.hist(y_pred_boot, bins = 20)\n",
        "# set the title\n",
        "plt.title(\"Bootstrapping Predictions\")\n",
        "\n",
        "# show the plot\n",
        "plt.show()"
      ],
      "metadata": {
        "colab": {
          "base_uri": "https://localhost:8080/",
          "height": 452
        },
        "id": "IaV8_3Das3td",
        "outputId": "fa89053c-8061-48e9-b8fb-2b2d93d923d8"
      },
      "execution_count": 24,
      "outputs": [
        {
          "output_type": "display_data",
          "data": {
            "text/plain": [
              "<Figure size 640x480 with 1 Axes>"
            ],
            "image/png": "[encoded data removed]"
          },
          "metadata": {}
        }
      ]
    },
    {
      "cell_type": "code",
      "source": [
        "y_pred_boot"
      ],
      "metadata": {
        "id": "3YSDq9iev5Qn"
      },
      "execution_count": null,
      "outputs": []
    },
    {
      "cell_type": "markdown",
      "source": [
        "If want to make prediction, can construct confidence interval"
      ],
      "metadata": {
        "id": "K6ld6jF6_6r1"
      }
    },
    {
      "cell_type": "markdown",
      "source": [
        "### **Gaussian Mixture Model (abandoned)**"
      ],
      "metadata": {
        "id": "-QAlATU6thQr"
      }
    },
    {
      "cell_type": "code",
      "source": [
        "import numpy as np\n",
        "import matplotlib.pyplot as plt\n",
        "from sklearn.mixture import GaussianMixture\n",
        "\n",
        "# convert data into numpy array\n",
        "y_train_array = np.array(y_train)\n",
        "\n",
        "gmm = GaussianMixture(n_components=5)  # specify the number of components\n",
        "gmm.fit(y_train_array.reshape(-1, 1))  # fit the GMM on the data\n",
        "\n",
        "# get the means and standard deviations of the two components\n",
        "means = gmm.means_.flatten()\n",
        "stds = np.sqrt(gmm.covariances_.flatten())\n",
        "\n",
        "# visualize gmm with data\n",
        "# Create histogram of data\n",
        "plt.hist(y_train_array, bins=50, density=True, alpha=0.5)\n",
        "\n",
        "# Overlay estimated density function from GMM\n",
        "x = np.linspace(y_train_array.min(), y_train_array.max(), 1000).reshape(-1, 1)\n",
        "log_dens = gmm.score_samples(x)\n",
        "dens = np.exp(log_dens)\n",
        "plt.plot(x, dens, '-r', linewidth=2)\n",
        "\n",
        "# Plot means of Gaussian distributions\n",
        "for mean in gmm.means_:\n",
        "    plt.axvline(mean, color='red', linestyle='--', linewidth=1)\n",
        "\n",
        "plt.xlabel('Bike rental count')\n",
        "plt.ylabel('Density')\n",
        "plt.show()"
      ],
      "metadata": {
        "colab": {
          "base_uri": "https://localhost:8080/",
          "height": 449
        },
        "id": "8ikJO7p8thjn",
        "outputId": "6146892d-fea9-43d7-d359-ed42705b1774"
      },
      "execution_count": null,
      "outputs": [
        {
          "output_type": "display_data",
          "data": {
            "text/plain": [
              "<Figure size 640x480 with 1 Axes>"
            ],
            "image/png": "[encoded data removed]"
          },
          "metadata": {}
        }
      ]
    },
    {
      "cell_type": "code",
      "source": [
        "X_train_array = np.array(X_train)\n",
        "\n",
        "# Obtain GMM probabilities for each sample in feature matrix\n",
        "gmm_probs = gmm.predict_proba(y_train_array.reshape(-1, 1))\n",
        "\n",
        "# Fit linear regression on feature matrix and GMM probabilities\n",
        "X_train_aug = np.hstack([X_train_array, gmm_probs])\n",
        "reg = LinearRegression().fit(X_train_aug, y_train_array)"
      ],
      "metadata": {
        "id": "Kq3eqRGoujnA"
      },
      "execution_count": null,
      "outputs": []
    },
    {
      "cell_type": "code",
      "source": [
        "X_train_aug"
      ],
      "metadata": {
        "colab": {
          "base_uri": "https://localhost:8080/"
        },
        "id": "gK_MpUSCAp9k",
        "outputId": "d3d8af46-6be7-4672-8ace-9871f6c103e7"
      },
      "execution_count": null,
      "outputs": [
        {
          "output_type": "execute_result",
          "data": {
            "text/plain": [
              "array([[1.90000000e+01, 1.51000000e+01, 6.00000000e+01, ...,\n",
              "        8.84466933e-02, 6.07118257e-05, 5.84299793e-01],\n",
              "       [8.00000000e+00, 3.00000000e-01, 5.30000000e+01, ...,\n",
              "        3.33791273e-01, 3.70567390e-12, 6.66168434e-01],\n",
              "       [1.60000000e+01, 9.40000000e+00, 3.90000000e+01, ...,\n",
              "        7.43902686e-03, 5.68654457e-02, 3.05901222e-02],\n",
              "       ...,\n",
              "       [1.40000000e+01, 1.89000000e+01, 3.10000000e+01, ...,\n",
              "        2.82568074e-01, 3.56192244e-11, 7.17273929e-01],\n",
              "       [1.20000000e+01, 1.06000000e+01, 7.20000000e+01, ...,\n",
              "        1.83731015e-03, 7.93487494e-01, 2.39443343e-03],\n",
              "       [1.60000000e+01, 2.04000000e+01, 3.20000000e+01, ...,\n",
              "        1.48884268e-01, 4.79816198e-07, 8.17360932e-01]])"
            ]
          },
          "metadata": {},
          "execution_count": 44
        }
      ]
    },
    {
      "cell_type": "code",
      "source": [
        "from sklearn.metrics import mean_squared_error\n",
        "\n",
        "# Assume X_test is your feature matrix with shape (n_samples, n_features)\n",
        "# and y_test is your response variable with shape (n_samples,)\n",
        "X_test_array = np.array(X_test)\n",
        "\n",
        "# Obtain GMM probabilities for each sample in feature matrix\n",
        "gmm_probs_test = gmm.predict_proba(X_test_array.reshape(-1, 1))\n",
        "\n",
        "# Augment feature matrix with GMM probabilities\n",
        "X_test_aug = np.hstack([X_test_array, gmm_probs_test])\n",
        "\n",
        "# Predict response variable for X_test\n",
        "y_pred = reg.predict(X_test_aug)\n",
        "\n",
        "# Compute mean squared error\n",
        "mse = np.mean((y_test - y_pred)**2)\n",
        "print(\"MSE: \", mse)"
      ],
      "metadata": {
        "id": "A2TRQYSNAp_q"
      },
      "execution_count": null,
      "outputs": []
    },
    {
      "cell_type": "code",
      "source": [],
      "metadata": {
        "colab": {
          "base_uri": "https://localhost:8080/",
          "height": 165
        },
        "id": "CIVZ40r9Dcf8",
        "outputId": "fc340f22-6b3c-4ff5-dc18-50cb77e3340d"
      },
      "execution_count": null,
      "outputs": [
        {
          "output_type": "error",
          "ename": "NameError",
          "evalue": "ignored",
          "traceback": [
            "\u001b[0;31m---------------------------------------------------------------------------\u001b[0m",
            "\u001b[0;31mNameError\u001b[0m                                 Traceback (most recent call last)",
            "\u001b[0;32m<ipython-input-58-7bd231c80f4b>\u001b[0m in \u001b[0;36m<cell line: 1>\u001b[0;34m()\u001b[0m\n\u001b[0;32m----> 1\u001b[0;31m \u001b[0mshape\u001b[0m\u001b[0;34m(\u001b[0m\u001b[0mgmm_probs_test\u001b[0m\u001b[0;34m)\u001b[0m\u001b[0;34m\u001b[0m\u001b[0;34m\u001b[0m\u001b[0m\n\u001b[0m",
            "\u001b[0;31mNameError\u001b[0m: name 'shape' is not defined"
          ]
        }
      ]
    },
    {
      "cell_type": "code",
      "source": [],
      "metadata": {
        "id": "VM79pS-IDciU"
      },
      "execution_count": null,
      "outputs": []
    },
    {
      "cell_type": "markdown",
      "source": [
        "### **XGBoost Regression**"
      ],
      "metadata": {
        "id": "iPhP-wUU-EMC"
      }
    },
    {
      "cell_type": "markdown",
      "source": [],
      "metadata": {
        "id": "hsx95jtMzKfm"
      }
    },
    {
      "cell_type": "markdown",
      "source": [
        "****\n",
        "****"
      ],
      "metadata": {
        "id": "9jdhrdVZ-FC0"
      }
    },
    {
      "cell_type": "markdown",
      "source": [],
      "metadata": {
        "id": "ZEvotuHFzHR5"
      }
    },
    {
      "cell_type": "markdown",
      "source": [
        "# **Conclusion**\n",
        "\n",
        "- **Linear Regression**\n",
        "  - Basic model is the worst, standardization does not help with prediction, testing MSE is about 170000\n",
        "- **Log-transformation on Y**\n",
        "  - Mingcheng worked on it, MSE about 97000\n",
        "- **GLM**\n",
        "  - Negative-binomial model is sufficient and with polynomial non-standardized predictors, it outperforms linear regression and other models. Testing MSE is about 97000\n",
        "- **Kernel regression and SVM**\n",
        "  - Both uses kernels and reach a performance better than basic regression but worse than GLM. Testing MSE is about 150000\n",
        "- **Random Forest**\n",
        "  - Outperforms all other models. Testing MSE is about 42000"
      ],
      "metadata": {
        "id": "Zv5idA8vKi_5"
      }
    }
  ]
}